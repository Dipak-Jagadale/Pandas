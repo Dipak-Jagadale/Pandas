{
 "cells": [
  {
   "cell_type": "markdown",
   "id": "41ed8664",
   "metadata": {},
   "source": [
    "# Panads for ML"
   ]
  },
  {
   "cell_type": "markdown",
   "id": "c135b7a2",
   "metadata": {},
   "source": [
    "### What is Pandas?\n"
   ]
  },
  {
   "cell_type": "markdown",
   "id": "74961b3b",
   "metadata": {},
   "source": [
    "1.It is a python library"
   ]
  },
  {
   "cell_type": "markdown",
   "id": "032a24c8",
   "metadata": {},
   "source": [
    "2.Used to analyze data \n"
   ]
  },
  {
   "cell_type": "markdown",
   "id": "101c1e83",
   "metadata": {},
   "source": [
    "pandas is a library used for working with data sets."
   ]
  },
  {
   "cell_type": "markdown",
   "id": "d027940c",
   "metadata": {},
   "source": [
    "it has fuctions for analyzing , clenaing , exploring, \n",
    "and manipulating data"
   ]
  },
  {
   "cell_type": "markdown",
   "id": "2ef5ec24",
   "metadata": {},
   "source": [
    "## Why Pandas?\n"
   ]
  },
  {
   "cell_type": "markdown",
   "id": "aead5f97",
   "metadata": {},
   "source": [
    "pandas allows us to analyze big data and make conclusions based on stastistical theories.\n",
    "\n",
    "pandas can clean messy data sets, and make them readable and relevant data is very important in data science."
   ]
  },
  {
   "cell_type": "markdown",
   "id": "a5c9afce",
   "metadata": {},
   "source": [
    "pandas gives you answers about the data like:\n",
    "    \n",
    "    Ls  there a crrelation between two or more columns?\n",
    "    max values ?\n",
    "    min values"
   ]
  },
  {
   "cell_type": "markdown",
   "id": "840bc23c",
   "metadata": {},
   "source": [
    "## Features"
   ]
  },
  {
   "cell_type": "markdown",
   "id": "089d5a83",
   "metadata": {},
   "source": [
    "1. working with large data sheets\n",
    "2. It is high prformance data analyze tool \n",
    "3. It is supports or load large data sheets and more \n",
    "flexible to use\n",
    "4. pandas represent data in tabular(raws and columns)way\n",
    "5. more efficeient with missing data \n",
    "6. It is used for indexing,slicing, subseting the large data \n",
    "7. we can merge and join two different dataset easily\n",
    "8. we can rshape the dataset easily"
   ]
  },
  {
   "cell_type": "markdown",
   "id": "78d35484",
   "metadata": {},
   "source": [
    "### INSTALL PANDAS\n"
   ]
  },
  {
   "cell_type": "code",
   "execution_count": 2,
   "id": "836c23b1",
   "metadata": {},
   "outputs": [
    {
     "name": "stdout",
     "output_type": "stream",
     "text": [
      "Requirement already satisfied: pandas in c:\\users\\priya\\appdata\\local\\programs\\python\\python311\\lib\\site-packages (2.0.0)"
     ]
    },
    {
     "name": "stderr",
     "output_type": "stream",
     "text": [
      "\n",
      "[notice] A new release of pip is available: 23.0.1 -> 23.2.1\n",
      "[notice] To update, run: python.exe -m pip install --upgrade pip\n"
     ]
    },
    {
     "name": "stdout",
     "output_type": "stream",
     "text": [
      "\n",
      "Requirement already satisfied: python-dateutil>=2.8.2 in c:\\users\\priya\\appdata\\local\\programs\\python\\python311\\lib\\site-packages (from pandas) (2.8.2)\n",
      "Requirement already satisfied: pytz>=2020.1 in c:\\users\\priya\\appdata\\local\\programs\\python\\python311\\lib\\site-packages (from pandas) (2023.3)\n",
      "Requirement already satisfied: tzdata>=2022.1 in c:\\users\\priya\\appdata\\local\\programs\\python\\python311\\lib\\site-packages (from pandas) (2023.3)\n",
      "Requirement already satisfied: numpy>=1.21.0 in c:\\users\\priya\\appdata\\local\\programs\\python\\python311\\lib\\site-packages (from pandas) (1.24.2)\n",
      "Requirement already satisfied: six>=1.5 in c:\\users\\priya\\appdata\\local\\programs\\python\\python311\\lib\\site-packages (from python-dateutil>=2.8.2->pandas) (1.16.0)\n"
     ]
    }
   ],
   "source": [
    "! pip install pandas "
   ]
  },
  {
   "cell_type": "code",
   "execution_count": 3,
   "id": "6539deca",
   "metadata": {},
   "outputs": [],
   "source": [
    "import pandas as pd\n",
    "import numpy as np\n"
   ]
  },
  {
   "cell_type": "code",
   "execution_count": 5,
   "id": "fb08f042",
   "metadata": {},
   "outputs": [
    {
     "name": "stdout",
     "output_type": "stream",
     "text": [
      "Requirement already satisfied: pip in c:\\users\\priya\\appdata\\local\\programs\\python\\python311\\lib\\site-packages (23.0.1)Note: you may need to restart the kernel to use updated packages.\n",
      "\n",
      "Collecting pip\n",
      "  Downloading pip-23.2.1-py3-none-any.whl (2.1 MB)\n",
      "     ---------------------------------------- 2.1/2.1 MB 5.5 MB/s eta 0:00:00\n",
      "Installing collected packages: pip\n",
      "  Attempting uninstall: pip\n",
      "    Found existing installation: pip 23.0.1\n",
      "    Uninstalling pip-23.0.1:\n",
      "      Successfully uninstalled pip-23.0.1\n",
      "Successfully installed pip-23.2.1\n"
     ]
    }
   ],
   "source": [
    " pip install --upgrade pip"
   ]
  },
  {
   "cell_type": "code",
   "execution_count": 6,
   "id": "d3589d64",
   "metadata": {},
   "outputs": [],
   "source": [
    "import pandas as pd\n",
    "import numpy as np\n"
   ]
  },
  {
   "cell_type": "code",
   "execution_count": 9,
   "id": "88ae43d4",
   "metadata": {},
   "outputs": [
    {
     "name": "stdout",
     "output_type": "stream",
     "text": [
      "2.0.0\n"
     ]
    }
   ],
   "source": [
    "print(pd.__version__)"
   ]
  },
  {
   "cell_type": "code",
   "execution_count": 8,
   "id": "79b92984",
   "metadata": {},
   "outputs": [
    {
     "name": "stdout",
     "output_type": "stream",
     "text": [
      "1.24.2\n"
     ]
    }
   ],
   "source": [
    "print(np.__version__)"
   ]
  },
  {
   "cell_type": "markdown",
   "id": "65cc6f4b",
   "metadata": {},
   "source": [
    "#### Two data structures in pandas "
   ]
  },
  {
   "cell_type": "markdown",
   "id": "3d9ba7e4",
   "metadata": {},
   "source": [
    "1. Series : A one-dimentional labeled array capable of holding \n",
    "    any data type \n",
    "2. it is similar to acolumn in a predsheet or a SQL table \n",
    "3. DataFrame : A two-dimentinaol labeled data structure \n",
    "    with columns of potentially different types .\n",
    "4. it is similar to a spredsheet , SQL table, or a dict of series Object\n"
   ]
  },
  {
   "cell_type": "markdown",
   "id": "5914086e",
   "metadata": {},
   "source": [
    "##### These data structres provide a lot of flexibility and power working with data in pandas "
   ]
  },
  {
   "cell_type": "markdown",
   "id": "3ae9626e",
   "metadata": {},
   "source": [
    "# Series"
   ]
  },
  {
   "cell_type": "markdown",
   "id": "790d5473",
   "metadata": {},
   "source": [
    "##### What is series"
   ]
  },
  {
   "cell_type": "markdown",
   "id": "d1bfb92f",
   "metadata": {},
   "source": [
    "Pandas series is like a colum in a table\n",
    "it is one dimentional array holding data of any type"
   ]
  },
  {
   "cell_type": "code",
   "execution_count": 23,
   "id": "a9237571",
   "metadata": {},
   "outputs": [
    {
     "data": {
      "text/plain": [
       "0    1\n",
       "1    2\n",
       "2    3\n",
       "3    4\n",
       "4    5\n",
       "5    6\n",
       "6    7\n",
       "7    8\n",
       "8    9\n",
       "dtype: int64"
      ]
     },
     "execution_count": 23,
     "metadata": {},
     "output_type": "execute_result"
    }
   ],
   "source": [
    "s = pd.Series ([1,2,3,4,5,6,7,8,9])\n",
    "s"
   ]
  },
  {
   "cell_type": "code",
   "execution_count": 24,
   "id": "2ea415fd",
   "metadata": {},
   "outputs": [
    {
     "name": "stdout",
     "output_type": "stream",
     "text": [
      "<class 'pandas.core.series.Series'>\n"
     ]
    }
   ],
   "source": [
    "print(type(s))"
   ]
  },
  {
   "cell_type": "markdown",
   "id": "22ecc9b1",
   "metadata": {},
   "source": [
    "#### Acess element from series"
   ]
  },
  {
   "cell_type": "code",
   "execution_count": 25,
   "id": "8ff388de",
   "metadata": {},
   "outputs": [
    {
     "data": {
      "text/plain": [
       "1"
      ]
     },
     "execution_count": 25,
     "metadata": {},
     "output_type": "execute_result"
    }
   ],
   "source": [
    "s[0]"
   ]
  },
  {
   "cell_type": "code",
   "execution_count": 26,
   "id": "caf896e7",
   "metadata": {},
   "outputs": [
    {
     "name": "stdout",
     "output_type": "stream",
     "text": [
      "0    1\n",
      "1    2\n",
      "2    3\n",
      "3    4\n",
      "4    5\n",
      "5    6\n",
      "6    7\n",
      "7    8\n",
      "8    9\n",
      "dtype: int64\n"
     ]
    }
   ],
   "source": [
    "print(s)"
   ]
  },
  {
   "cell_type": "code",
   "execution_count": 27,
   "id": "ac3dc98c",
   "metadata": {},
   "outputs": [
    {
     "data": {
      "text/plain": [
       "5"
      ]
     },
     "execution_count": 27,
     "metadata": {},
     "output_type": "execute_result"
    }
   ],
   "source": [
    "s[4]"
   ]
  },
  {
   "cell_type": "markdown",
   "id": "785e1151",
   "metadata": {},
   "source": [
    "#### You can give name to series index"
   ]
  },
  {
   "cell_type": "code",
   "execution_count": 28,
   "id": "765b8fe3",
   "metadata": {},
   "outputs": [
    {
     "data": {
      "text/plain": [
       "A    10\n",
       "B    20\n",
       "C    30\n",
       "D    40\n",
       "E    50\n",
       "F    60\n",
       "G    70\n",
       "dtype: int64"
      ]
     },
     "execution_count": 28,
     "metadata": {},
     "output_type": "execute_result"
    }
   ],
   "source": [
    "dp = [10,20,30,40,50,60,70]\n",
    "new_dp = pd.Series (dp, index=[\"A\",\"B\",\"C\",\"D\",\"E\",\"F\",\"G\"])\n",
    "new_dp"
   ]
  },
  {
   "cell_type": "code",
   "execution_count": 29,
   "id": "4761b502",
   "metadata": {},
   "outputs": [
    {
     "data": {
      "text/plain": [
       "ABS    1\n",
       "DEF    2\n",
       "GHI    3\n",
       "JKL    4\n",
       "MNO    5\n",
       "dtype: int64"
      ]
     },
     "execution_count": 29,
     "metadata": {},
     "output_type": "execute_result"
    }
   ],
   "source": [
    "list1 = [1,2,3,4,5]\n",
    "ns = pd.Series(list1,index = [\"ABS\",\"DEF\",\"GHI\",\"JKL\",\"MNO\"])\n",
    "ns"
   ]
  },
  {
   "cell_type": "markdown",
   "id": "a5dab743",
   "metadata": {},
   "source": [
    "#### Access items using lables"
   ]
  },
  {
   "cell_type": "code",
   "execution_count": 30,
   "id": "bc31b9a2",
   "metadata": {},
   "outputs": [
    {
     "data": {
      "text/plain": [
       "A    10\n",
       "B    20\n",
       "C    30\n",
       "D    40\n",
       "E    50\n",
       "F    60\n",
       "G    70\n",
       "dtype: int64"
      ]
     },
     "execution_count": 30,
     "metadata": {},
     "output_type": "execute_result"
    }
   ],
   "source": [
    "new_dp"
   ]
  },
  {
   "cell_type": "code",
   "execution_count": 31,
   "id": "1d25b2f4",
   "metadata": {},
   "outputs": [
    {
     "data": {
      "text/plain": [
       "10"
      ]
     },
     "execution_count": 31,
     "metadata": {},
     "output_type": "execute_result"
    }
   ],
   "source": [
    "new_dp[\"A\"]"
   ]
  },
  {
   "cell_type": "code",
   "execution_count": 32,
   "id": "66be38ae",
   "metadata": {},
   "outputs": [
    {
     "data": {
      "text/plain": [
       "60"
      ]
     },
     "execution_count": 32,
     "metadata": {},
     "output_type": "execute_result"
    }
   ],
   "source": [
    "new_dp[\"F\"]"
   ]
  },
  {
   "cell_type": "markdown",
   "id": "1a1e84dd",
   "metadata": {},
   "source": [
    "#### key /values Object as series\n"
   ]
  },
  {
   "cell_type": "code",
   "execution_count": 33,
   "id": "4f4a4c26",
   "metadata": {},
   "outputs": [
    {
     "data": {
      "text/plain": [
       "Dipak     10\n",
       "Dipesh    20\n",
       "Dinesh    30\n",
       "dtype: int64"
      ]
     },
     "execution_count": 33,
     "metadata": {},
     "output_type": "execute_result"
    }
   ],
   "source": [
    "emp = {\"Dipak\":10,\"Dipesh\":20,\"Dinesh\":30}\n",
    "emp1 = pd.Series(emp)\n",
    "emp1                \n",
    "                "
   ]
  },
  {
   "cell_type": "code",
   "execution_count": 34,
   "id": "2ae0a7c4",
   "metadata": {},
   "outputs": [
    {
     "data": {
      "text/plain": [
       "day1    500\n",
       "day2    380\n",
       "day3    450\n",
       "day4    504\n",
       "dtype: int64"
      ]
     },
     "execution_count": 34,
     "metadata": {},
     "output_type": "execute_result"
    }
   ],
   "source": [
    "calories = {\n",
    "            'day1': 500,\n",
    "            'day2': 380,\n",
    "            'day3': 450,\n",
    "            'day4': 504, \n",
    "}\n",
    "\n",
    "cal = pd.Series(calories)\n",
    "cal"
   ]
  },
  {
   "cell_type": "code",
   "execution_count": 35,
   "id": "99211218",
   "metadata": {},
   "outputs": [
    {
     "data": {
      "text/plain": [
       "380"
      ]
     },
     "execution_count": 35,
     "metadata": {},
     "output_type": "execute_result"
    }
   ],
   "source": [
    "cal['day2']"
   ]
  },
  {
   "cell_type": "code",
   "execution_count": 36,
   "id": "9b344486",
   "metadata": {},
   "outputs": [
    {
     "data": {
      "text/plain": [
       "day1    500\n",
       "day2    380\n",
       "dtype: int64"
      ]
     },
     "execution_count": 36,
     "metadata": {},
     "output_type": "execute_result"
    }
   ],
   "source": [
    "cal_new = pd.Series (cal,index =['day1','day2'])\n",
    "cal_new"
   ]
  },
  {
   "cell_type": "markdown",
   "id": "58bc978b",
   "metadata": {},
   "source": [
    "###### Home work"
   ]
  },
  {
   "cell_type": "code",
   "execution_count": 103,
   "id": "8be544b9",
   "metadata": {},
   "outputs": [],
   "source": [
    "import pandas as pd\n",
    "import numpy as np"
   ]
  },
  {
   "cell_type": "code",
   "execution_count": 104,
   "id": "48a53653",
   "metadata": {
    "scrolled": true
   },
   "outputs": [
    {
     "data": {
      "text/plain": [
       "0         1\n",
       "1       1.2\n",
       "2      abhi\n",
       "3         2\n",
       "4       2.2\n",
       "5      dipu\n",
       "6         3\n",
       "7       3.3\n",
       "8     samir\n",
       "9         4\n",
       "10      4.4\n",
       "dtype: object"
      ]
     },
     "execution_count": 104,
     "metadata": {},
     "output_type": "execute_result"
    }
   ],
   "source": [
    "lst = [1,1.2,'abhi',2,2.2,'dipu',3,3.3,'samir',4,4.4]\n",
    "lst1 = pd.Series(lst)\n",
    "lst1"
   ]
  },
  {
   "cell_type": "code",
   "execution_count": 105,
   "id": "50374153",
   "metadata": {},
   "outputs": [
    {
     "data": {
      "text/plain": [
       "0    1\n",
       "3    2\n",
       "6    3\n",
       "9    4\n",
       "dtype: object"
      ]
     },
     "execution_count": 105,
     "metadata": {},
     "output_type": "execute_result"
    }
   ],
   "source": [
    "int_s = pd.Series(lst1, index=[0,3,6,9])\n",
    "int_s"
   ]
  },
  {
   "cell_type": "code",
   "execution_count": 106,
   "id": "bcbcb889",
   "metadata": {},
   "outputs": [
    {
     "data": {
      "text/plain": [
       "(1, 2, 3, 4)"
      ]
     },
     "execution_count": 106,
     "metadata": {},
     "output_type": "execute_result"
    }
   ],
   "source": [
    "int_s[0],int_s[3],int_s[6],int_s[9]"
   ]
  },
  {
   "cell_type": "code",
   "execution_count": 107,
   "id": "4b40a0b4",
   "metadata": {},
   "outputs": [
    {
     "data": {
      "text/plain": [
       "1     1.2\n",
       "4     2.2\n",
       "7     3.3\n",
       "10    4.4\n",
       "dtype: object"
      ]
     },
     "execution_count": 107,
     "metadata": {},
     "output_type": "execute_result"
    }
   ],
   "source": [
    "flt=pd.Series(lst1,index=[1,4,7,10])\n",
    "flt"
   ]
  },
  {
   "cell_type": "code",
   "execution_count": 108,
   "id": "e80d7024",
   "metadata": {},
   "outputs": [
    {
     "data": {
      "text/plain": [
       "(1.2, 2.2, 3.3, 4.4)"
      ]
     },
     "execution_count": 108,
     "metadata": {},
     "output_type": "execute_result"
    }
   ],
   "source": [
    "flt[1],flt[4],flt[7],flt[10]"
   ]
  },
  {
   "cell_type": "code",
   "execution_count": 109,
   "id": "45933505",
   "metadata": {},
   "outputs": [
    {
     "data": {
      "text/plain": [
       "2     abhi\n",
       "5     dipu\n",
       "8    samir\n",
       "dtype: object"
      ]
     },
     "execution_count": 109,
     "metadata": {},
     "output_type": "execute_result"
    }
   ],
   "source": [
    "str1 = pd.Series(lst1,index=[2,5,8])\n",
    "str1"
   ]
  },
  {
   "cell_type": "code",
   "execution_count": 110,
   "id": "5e2ff767",
   "metadata": {},
   "outputs": [
    {
     "data": {
      "text/plain": [
       "('abhi', 'dipu', 'samir')"
      ]
     },
     "execution_count": 110,
     "metadata": {},
     "output_type": "execute_result"
    }
   ],
   "source": [
    "str1[2],str1[5],str1[8]"
   ]
  },
  {
   "cell_type": "code",
   "execution_count": 113,
   "id": "983ed30f",
   "metadata": {},
   "outputs": [
    {
     "data": {
      "text/plain": [
       "0    (a, 10)\n",
       "1    (b, 20)\n",
       "2    (c, 30)\n",
       "3    (d, 40)\n",
       "dtype: object"
      ]
     },
     "execution_count": 113,
     "metadata": {},
     "output_type": "execute_result"
    }
   ],
   "source": [
    "#creat series by using tuple\n",
    "tup_s = pd.Series([(\"a\",10),('b',20),('c',30),('d',40)])\n",
    "tup_s                 \n",
    "                    \n",
    "                   "
   ]
  },
  {
   "cell_type": "code",
   "execution_count": 114,
   "id": "95cc86d8",
   "metadata": {},
   "outputs": [
    {
     "data": {
      "text/plain": [
       "Series([], dtype: object)"
      ]
     },
     "execution_count": 114,
     "metadata": {},
     "output_type": "execute_result"
    }
   ],
   "source": [
    "empty_s = pd.Series()\n",
    "empty_s"
   ]
  },
  {
   "cell_type": "code",
   "execution_count": 115,
   "id": "3aca64ba",
   "metadata": {},
   "outputs": [
    {
     "data": {
      "text/plain": [
       "0    10\n",
       "1    20\n",
       "2    30\n",
       "3    40\n",
       "dtype: int32"
      ]
     },
     "execution_count": 115,
     "metadata": {},
     "output_type": "execute_result"
    }
   ],
   "source": [
    "# creat series by using array\n",
    "arr = np.array([10,20,30,40])\n",
    "arr_s = pd.Series(arr)\n",
    "arr_s"
   ]
  },
  {
   "cell_type": "code",
   "execution_count": 117,
   "id": "abcb0088",
   "metadata": {},
   "outputs": [
    {
     "data": {
      "text/plain": [
       "std1:       (A, 10, Pune, MH)\n",
       "std2:     (B, 20, Sangli, MH)\n",
       "3        (C, 30, Kolkata, MH)\n",
       "dtype: object"
      ]
     },
     "execution_count": 117,
     "metadata": {},
     "output_type": "execute_result"
    }
   ],
   "source": [
    "sub = (('A',10,'Pune','MH'),('B',20,'Sangli','MH'),('C', 30,'Kolkata','MH'))\n",
    "sub_s =pd.Series(sub,index=['std1:','std2:',3])\n",
    "sub_s"
   ]
  },
  {
   "cell_type": "code",
   "execution_count": 118,
   "id": "a9b29c5a",
   "metadata": {},
   "outputs": [
    {
     "data": {
      "text/plain": [
       "1      1\n",
       "11    11\n",
       "21    21\n",
       "31    31\n",
       "41    41\n",
       "51    51\n",
       "61    61\n",
       "71    71\n",
       "81    81\n",
       "91    91\n",
       "dtype: int32"
      ]
     },
     "execution_count": 118,
     "metadata": {},
     "output_type": "execute_result"
    }
   ],
   "source": [
    "arr = np.arange(1,100,10)\n",
    "arr_s=pd.Series(arr,index=[np.arange(1,100,10)])\n",
    "arr_s"
   ]
  },
  {
   "cell_type": "code",
   "execution_count": 124,
   "id": "76304349",
   "metadata": {},
   "outputs": [
    {
     "data": {
      "text/plain": [
       "1       1\n",
       "21     11\n",
       "41     21\n",
       "61     31\n",
       "81     41\n",
       "101    51\n",
       "121    61\n",
       "141    71\n",
       "161    81\n",
       "181    91\n",
       "dtype: int32"
      ]
     },
     "execution_count": 124,
     "metadata": {},
     "output_type": "execute_result"
    }
   ],
   "source": [
    "arr = np.arange(1,100,10)\n",
    "arr_s=pd.Series(arr,index=[np.arange(1,200,20)])\n",
    "arr_s"
   ]
  },
  {
   "cell_type": "code",
   "execution_count": 3,
   "id": "dc0dd02e",
   "metadata": {},
   "outputs": [],
   "source": [
    "import pandas as pd"
   ]
  },
  {
   "cell_type": "code",
   "execution_count": 4,
   "id": "8c7a1200",
   "metadata": {},
   "outputs": [
    {
     "data": {
      "text/plain": [
       "Pink             apple\n",
       "orange           mango\n",
       "green        pineaplle\n",
       "chocalaty        chiku\n",
       "dtype: object"
      ]
     },
     "execution_count": 4,
     "metadata": {},
     "output_type": "execute_result"
    }
   ],
   "source": [
    "l=['apple','mango','pineaplle','chiku']\n",
    "fruit=pd.Series(l,index=['Pink','orange','green', \"chocalaty\"])\n",
    "fruit"
   ]
  },
  {
   "cell_type": "code",
   "execution_count": 8,
   "id": "00a78ea4",
   "metadata": {},
   "outputs": [],
   "source": [
    "fruit['green']= 'greenmango'"
   ]
  },
  {
   "cell_type": "code",
   "execution_count": 9,
   "id": "7d3c4b55",
   "metadata": {},
   "outputs": [
    {
     "data": {
      "text/plain": [
       "Pink              apple\n",
       "orange            mango\n",
       "green        greenmango\n",
       "chocalaty         chiku\n",
       "dtype: object"
      ]
     },
     "execution_count": 9,
     "metadata": {},
     "output_type": "execute_result"
    }
   ],
   "source": [
    "fruit"
   ]
  },
  {
   "cell_type": "code",
   "execution_count": 11,
   "id": "83203571",
   "metadata": {},
   "outputs": [
    {
     "data": {
      "text/plain": [
       "0      coconut\n",
       "1        mango\n",
       "2    pineapple\n",
       "3        chiku\n",
       "dtype: object"
      ]
     },
     "execution_count": 11,
     "metadata": {},
     "output_type": "execute_result"
    }
   ],
   "source": [
    "l=['apple','mango','pineapple','chiku']\n",
    "fruit =pd.Series(l,copy=False)\n",
    "fruit.iloc[0]='coconut'\n",
    "fruit"
   ]
  },
  {
   "cell_type": "markdown",
   "id": "5479f83c",
   "metadata": {},
   "source": [
    "# DataFrame"
   ]
  },
  {
   "cell_type": "markdown",
   "id": "1a974784",
   "metadata": {},
   "source": [
    "### Dataframe :\n",
    "Data sets in pandas are usually multi-dimensional tables,called Dataframe\n",
    "### Series : is likes a column, a Datafrmae is the whole table\n",
    "    \n",
    "A Pandas Dataframes is a 2 Dimensional data struture,like a 2 dimentinaol array, or a table with rows and columns"
   ]
  },
  {
   "cell_type": "code",
   "execution_count": 21,
   "id": "f3f6ef19",
   "metadata": {},
   "outputs": [
    {
     "name": "stdout",
     "output_type": "stream",
     "text": [
      "       Name  Age Sex\n",
      "0     Nitin   37   M\n",
      "1  Shailesh   34   M\n",
      "2     Adhik   33   M\n"
     ]
    }
   ],
   "source": [
    "student = {\n",
    "     'Name': [\"Nitin\",\"Shailesh\",\"Adhik\"],\n",
    "     'Age':[37,34,33],\n",
    "     'Sex' :['M','M','M']\n",
    "}\n",
    "\n",
    "df1= pd.DataFrame(student)\n",
    "print(df1)"
   ]
  },
  {
   "cell_type": "code",
   "execution_count": 22,
   "id": "79b532ab",
   "metadata": {},
   "outputs": [],
   "source": [
    "student = {\n",
    "    \n",
    "}"
   ]
  },
  {
   "cell_type": "code",
   "execution_count": 23,
   "id": "959a966c",
   "metadata": {},
   "outputs": [
    {
     "name": "stdout",
     "output_type": "stream",
     "text": [
      "Dipak\n"
     ]
    }
   ],
   "source": [
    "a = \"Dipak\"\n",
    "print(a)"
   ]
  },
  {
   "cell_type": "code",
   "execution_count": 24,
   "id": "9e11d9b5",
   "metadata": {},
   "outputs": [
    {
     "data": {
      "text/plain": [
       "5"
      ]
     },
     "execution_count": 24,
     "metadata": {},
     "output_type": "execute_result"
    }
   ],
   "source": [
    "len(a)"
   ]
  },
  {
   "cell_type": "code",
   "execution_count": 25,
   "id": "870a2ebc",
   "metadata": {},
   "outputs": [
    {
     "data": {
      "text/html": [
       "<div>\n",
       "<style scoped>\n",
       "    .dataframe tbody tr th:only-of-type {\n",
       "        vertical-align: middle;\n",
       "    }\n",
       "\n",
       "    .dataframe tbody tr th {\n",
       "        vertical-align: top;\n",
       "    }\n",
       "\n",
       "    .dataframe thead th {\n",
       "        text-align: right;\n",
       "    }\n",
       "</style>\n",
       "<table border=\"1\" class=\"dataframe\">\n",
       "  <thead>\n",
       "    <tr style=\"text-align: right;\">\n",
       "      <th></th>\n",
       "      <th>Name</th>\n",
       "      <th>Age</th>\n",
       "      <th>sex</th>\n",
       "    </tr>\n",
       "  </thead>\n",
       "  <tbody>\n",
       "    <tr>\n",
       "      <th>Rahul</th>\n",
       "      <td>A</td>\n",
       "      <td>30</td>\n",
       "      <td>M</td>\n",
       "    </tr>\n",
       "    <tr>\n",
       "      <th>Priya</th>\n",
       "      <td>B</td>\n",
       "      <td>31</td>\n",
       "      <td>F</td>\n",
       "    </tr>\n",
       "    <tr>\n",
       "      <th>Sandip</th>\n",
       "      <td>c</td>\n",
       "      <td>32</td>\n",
       "      <td>M</td>\n",
       "    </tr>\n",
       "  </tbody>\n",
       "</table>\n",
       "</div>"
      ],
      "text/plain": [
       "       Name  Age sex\n",
       "Rahul     A   30   M\n",
       "Priya     B   31   F\n",
       "Sandip    c   32   M"
      ]
     },
     "execution_count": 25,
     "metadata": {},
     "output_type": "execute_result"
    }
   ],
   "source": [
    "student = {\n",
    "    'Name':['A','B','c'],\n",
    "     'Age':[30,31,32],\n",
    "     'sex': ['M','F','M']\n",
    "}\n",
    "\n",
    "df = pd.DataFrame(student,index=['Rahul','Priya','Sandip'])\n",
    "df"
   ]
  },
  {
   "cell_type": "code",
   "execution_count": 26,
   "id": "77a63b6b",
   "metadata": {},
   "outputs": [],
   "source": [
    "import pandas as pd"
   ]
  },
  {
   "cell_type": "code",
   "execution_count": null,
   "id": "ccb6ce27",
   "metadata": {},
   "outputs": [],
   "source": []
  },
  {
   "cell_type": "code",
   "execution_count": 27,
   "id": "17f245dd",
   "metadata": {},
   "outputs": [
    {
     "data": {
      "text/html": [
       "<div>\n",
       "<style scoped>\n",
       "    .dataframe tbody tr th:only-of-type {\n",
       "        vertical-align: middle;\n",
       "    }\n",
       "\n",
       "    .dataframe tbody tr th {\n",
       "        vertical-align: top;\n",
       "    }\n",
       "\n",
       "    .dataframe thead th {\n",
       "        text-align: right;\n",
       "    }\n",
       "</style>\n",
       "<table border=\"1\" class=\"dataframe\">\n",
       "  <thead>\n",
       "    <tr style=\"text-align: right;\">\n",
       "      <th></th>\n",
       "      <th>Name</th>\n",
       "      <th>age</th>\n",
       "      <th>class</th>\n",
       "    </tr>\n",
       "  </thead>\n",
       "  <tbody>\n",
       "    <tr>\n",
       "      <th>0</th>\n",
       "      <td>A</td>\n",
       "      <td>10</td>\n",
       "      <td>4th</td>\n",
       "    </tr>\n",
       "    <tr>\n",
       "      <th>1</th>\n",
       "      <td>B</td>\n",
       "      <td>11</td>\n",
       "      <td>5th</td>\n",
       "    </tr>\n",
       "    <tr>\n",
       "      <th>2</th>\n",
       "      <td>C</td>\n",
       "      <td>12</td>\n",
       "      <td>6th</td>\n",
       "    </tr>\n",
       "    <tr>\n",
       "      <th>3</th>\n",
       "      <td>D</td>\n",
       "      <td>13</td>\n",
       "      <td>7th</td>\n",
       "    </tr>\n",
       "  </tbody>\n",
       "</table>\n",
       "</div>"
      ],
      "text/plain": [
       "  Name  age class\n",
       "0    A   10   4th\n",
       "1    B   11   5th\n",
       "2    C   12   6th\n",
       "3    D   13   7th"
      ]
     },
     "execution_count": 27,
     "metadata": {},
     "output_type": "execute_result"
    }
   ],
   "source": [
    "stud = {\n",
    "        'Name':['A','B','C','D'],\n",
    "        'age' : [10,11,12,13],\n",
    "        'class':['4th','5th','6th','7th']\n",
    "\n",
    "}\n",
    "\n",
    "new_df = pd.DataFrame(stud)\n",
    "new_df\n"
   ]
  },
  {
   "cell_type": "code",
   "execution_count": 28,
   "id": "28ac70d8",
   "metadata": {},
   "outputs": [
    {
     "data": {
      "text/html": [
       "<div>\n",
       "<style scoped>\n",
       "    .dataframe tbody tr th:only-of-type {\n",
       "        vertical-align: middle;\n",
       "    }\n",
       "\n",
       "    .dataframe tbody tr th {\n",
       "        vertical-align: top;\n",
       "    }\n",
       "\n",
       "    .dataframe thead th {\n",
       "        text-align: right;\n",
       "    }\n",
       "</style>\n",
       "<table border=\"1\" class=\"dataframe\">\n",
       "  <thead>\n",
       "    <tr style=\"text-align: right;\">\n",
       "      <th></th>\n",
       "      <th>Name</th>\n",
       "      <th>age</th>\n",
       "      <th>class</th>\n",
       "    </tr>\n",
       "  </thead>\n",
       "  <tbody>\n",
       "    <tr>\n",
       "      <th>0</th>\n",
       "      <td>A</td>\n",
       "      <td>10</td>\n",
       "      <td>4th</td>\n",
       "    </tr>\n",
       "    <tr>\n",
       "      <th>1</th>\n",
       "      <td>B</td>\n",
       "      <td>11</td>\n",
       "      <td>6th</td>\n",
       "    </tr>\n",
       "    <tr>\n",
       "      <th>2</th>\n",
       "      <td>6</td>\n",
       "      <td>13</td>\n",
       "      <td>7th</td>\n",
       "    </tr>\n",
       "  </tbody>\n",
       "</table>\n",
       "</div>"
      ],
      "text/plain": [
       "  Name  age class\n",
       "0    A   10   4th\n",
       "1    B   11   6th\n",
       "2    6   13   7th"
      ]
     },
     "execution_count": 28,
     "metadata": {},
     "output_type": "execute_result"
    }
   ],
   "source": [
    "tup = (('A',10,'4th'),('B',11,'6th'),('6',13,'7th'))\n",
    "new_df = pd.DataFrame(tup,columns=['Name','age','class'])\n",
    "new_df"
   ]
  },
  {
   "cell_type": "code",
   "execution_count": 29,
   "id": "2d9f4445",
   "metadata": {},
   "outputs": [],
   "source": [
    "# Locating a ROW"
   ]
  },
  {
   "cell_type": "markdown",
   "id": "42a904e8",
   "metadata": {},
   "source": [
    "### This will done by using \"df.doc\"[] function"
   ]
  },
  {
   "cell_type": "code",
   "execution_count": 30,
   "id": "d74d6a97",
   "metadata": {},
   "outputs": [
    {
     "data": {
      "text/plain": [
       "Name     A\n",
       "Age     30\n",
       "sex      M\n",
       "Name: Rahul, dtype: object"
      ]
     },
     "execution_count": 30,
     "metadata": {},
     "output_type": "execute_result"
    }
   ],
   "source": [
    "df.loc['Rahul']"
   ]
  },
  {
   "cell_type": "code",
   "execution_count": 31,
   "id": "80824105",
   "metadata": {},
   "outputs": [
    {
     "name": "stdout",
     "output_type": "stream",
     "text": [
      "Name    Nitin\n",
      "Age        37\n",
      "Sex         M\n",
      "Name: 0, dtype: object\n"
     ]
    }
   ],
   "source": [
    "print(df1.loc[0])"
   ]
  },
  {
   "cell_type": "code",
   "execution_count": 32,
   "id": "1727af6b",
   "metadata": {},
   "outputs": [
    {
     "name": "stdout",
     "output_type": "stream",
     "text": [
      "Name    Adhik\n",
      "Age        33\n",
      "Sex         M\n",
      "Name: 2, dtype: object\n"
     ]
    }
   ],
   "source": [
    "print(df1.loc[2])"
   ]
  },
  {
   "cell_type": "code",
   "execution_count": 33,
   "id": "998640dc",
   "metadata": {},
   "outputs": [
    {
     "data": {
      "text/html": [
       "<div>\n",
       "<style scoped>\n",
       "    .dataframe tbody tr th:only-of-type {\n",
       "        vertical-align: middle;\n",
       "    }\n",
       "\n",
       "    .dataframe tbody tr th {\n",
       "        vertical-align: top;\n",
       "    }\n",
       "\n",
       "    .dataframe thead th {\n",
       "        text-align: right;\n",
       "    }\n",
       "</style>\n",
       "<table border=\"1\" class=\"dataframe\">\n",
       "  <thead>\n",
       "    <tr style=\"text-align: right;\">\n",
       "      <th></th>\n",
       "      <th>Name</th>\n",
       "      <th>Age</th>\n",
       "      <th>Sex</th>\n",
       "    </tr>\n",
       "  </thead>\n",
       "  <tbody>\n",
       "    <tr>\n",
       "      <th>0</th>\n",
       "      <td>Nitin</td>\n",
       "      <td>37</td>\n",
       "      <td>M</td>\n",
       "    </tr>\n",
       "    <tr>\n",
       "      <th>2</th>\n",
       "      <td>Adhik</td>\n",
       "      <td>33</td>\n",
       "      <td>M</td>\n",
       "    </tr>\n",
       "  </tbody>\n",
       "</table>\n",
       "</div>"
      ],
      "text/plain": [
       "    Name  Age Sex\n",
       "0  Nitin   37   M\n",
       "2  Adhik   33   M"
      ]
     },
     "execution_count": 33,
     "metadata": {},
     "output_type": "execute_result"
    }
   ],
   "source": [
    "df1.loc[[0,2]]#[[List of indices]]"
   ]
  },
  {
   "cell_type": "code",
   "execution_count": 36,
   "id": "3c6ea618",
   "metadata": {},
   "outputs": [
    {
     "data": {
      "text/html": [
       "<div>\n",
       "<style scoped>\n",
       "    .dataframe tbody tr th:only-of-type {\n",
       "        vertical-align: middle;\n",
       "    }\n",
       "\n",
       "    .dataframe tbody tr th {\n",
       "        vertical-align: top;\n",
       "    }\n",
       "\n",
       "    .dataframe thead th {\n",
       "        text-align: right;\n",
       "    }\n",
       "</style>\n",
       "<table border=\"1\" class=\"dataframe\">\n",
       "  <thead>\n",
       "    <tr style=\"text-align: right;\">\n",
       "      <th></th>\n",
       "      <th>Name</th>\n",
       "      <th>Age</th>\n",
       "      <th>Sex</th>\n",
       "    </tr>\n",
       "  </thead>\n",
       "  <tbody>\n",
       "    <tr>\n",
       "      <th>0</th>\n",
       "      <td>Nitin</td>\n",
       "      <td>37</td>\n",
       "      <td>M</td>\n",
       "    </tr>\n",
       "    <tr>\n",
       "      <th>1</th>\n",
       "      <td>Shailesh</td>\n",
       "      <td>34</td>\n",
       "      <td>M</td>\n",
       "    </tr>\n",
       "    <tr>\n",
       "      <th>2</th>\n",
       "      <td>Adhik</td>\n",
       "      <td>33</td>\n",
       "      <td>M</td>\n",
       "    </tr>\n",
       "  </tbody>\n",
       "</table>\n",
       "</div>"
      ],
      "text/plain": [
       "       Name  Age Sex\n",
       "0     Nitin   37   M\n",
       "1  Shailesh   34   M\n",
       "2     Adhik   33   M"
      ]
     },
     "execution_count": 36,
     "metadata": {},
     "output_type": "execute_result"
    }
   ],
   "source": [
    "val=df1.loc[[0,1,2]] # [[list of indicess]]\n",
    "val"
   ]
  },
  {
   "cell_type": "code",
   "execution_count": 37,
   "id": "f2ac6c51",
   "metadata": {},
   "outputs": [
    {
     "data": {
      "text/html": [
       "<div>\n",
       "<style scoped>\n",
       "    .dataframe tbody tr th:only-of-type {\n",
       "        vertical-align: middle;\n",
       "    }\n",
       "\n",
       "    .dataframe tbody tr th {\n",
       "        vertical-align: top;\n",
       "    }\n",
       "\n",
       "    .dataframe thead th {\n",
       "        text-align: right;\n",
       "    }\n",
       "</style>\n",
       "<table border=\"1\" class=\"dataframe\">\n",
       "  <thead>\n",
       "    <tr style=\"text-align: right;\">\n",
       "      <th></th>\n",
       "      <th>Name</th>\n",
       "      <th>Age</th>\n",
       "      <th>sex</th>\n",
       "    </tr>\n",
       "  </thead>\n",
       "  <tbody>\n",
       "    <tr>\n",
       "      <th>Rahul</th>\n",
       "      <td>A</td>\n",
       "      <td>30</td>\n",
       "      <td>M</td>\n",
       "    </tr>\n",
       "    <tr>\n",
       "      <th>Sandip</th>\n",
       "      <td>c</td>\n",
       "      <td>32</td>\n",
       "      <td>M</td>\n",
       "    </tr>\n",
       "  </tbody>\n",
       "</table>\n",
       "</div>"
      ],
      "text/plain": [
       "       Name  Age sex\n",
       "Rahul     A   30   M\n",
       "Sandip    c   32   M"
      ]
     },
     "execution_count": 37,
     "metadata": {},
     "output_type": "execute_result"
    }
   ],
   "source": [
    "df.loc[['Rahul','Sandip']] #list of indices"
   ]
  },
  {
   "cell_type": "markdown",
   "id": "5c50f5d1",
   "metadata": {},
   "source": [
    "Named to indeces(row)\n",
    "\n",
    "\n",
    "indices = index of rows\n",
    "\n",
    "column = columns"
   ]
  },
  {
   "cell_type": "code",
   "execution_count": 40,
   "id": "cfe16715",
   "metadata": {},
   "outputs": [
    {
     "data": {
      "text/plain": [
       "{'calories': [420, 380, 390, 680, 700], 'duration': [50, 40, 45, 49, 89]}"
      ]
     },
     "execution_count": 40,
     "metadata": {},
     "output_type": "execute_result"
    }
   ],
   "source": [
    "data={\"calories\":[420,380,390,680,700],\n",
    "      \"duration\":[50,40,45,49,89]}\n",
    "data"
   ]
  },
  {
   "cell_type": "code",
   "execution_count": 42,
   "id": "90ea397a",
   "metadata": {},
   "outputs": [
    {
     "data": {
      "text/html": [
       "<div>\n",
       "<style scoped>\n",
       "    .dataframe tbody tr th:only-of-type {\n",
       "        vertical-align: middle;\n",
       "    }\n",
       "\n",
       "    .dataframe tbody tr th {\n",
       "        vertical-align: top;\n",
       "    }\n",
       "\n",
       "    .dataframe thead th {\n",
       "        text-align: right;\n",
       "    }\n",
       "</style>\n",
       "<table border=\"1\" class=\"dataframe\">\n",
       "  <thead>\n",
       "    <tr style=\"text-align: right;\">\n",
       "      <th></th>\n",
       "      <th>calories</th>\n",
       "      <th>duration</th>\n",
       "    </tr>\n",
       "  </thead>\n",
       "  <tbody>\n",
       "    <tr>\n",
       "      <th>day1</th>\n",
       "      <td>420</td>\n",
       "      <td>50</td>\n",
       "    </tr>\n",
       "    <tr>\n",
       "      <th>day2</th>\n",
       "      <td>380</td>\n",
       "      <td>40</td>\n",
       "    </tr>\n",
       "    <tr>\n",
       "      <th>day3</th>\n",
       "      <td>390</td>\n",
       "      <td>45</td>\n",
       "    </tr>\n",
       "    <tr>\n",
       "      <th>day4</th>\n",
       "      <td>680</td>\n",
       "      <td>49</td>\n",
       "    </tr>\n",
       "    <tr>\n",
       "      <th>day5</th>\n",
       "      <td>700</td>\n",
       "      <td>89</td>\n",
       "    </tr>\n",
       "  </tbody>\n",
       "</table>\n",
       "</div>"
      ],
      "text/plain": [
       "      calories  duration\n",
       "day1       420        50\n",
       "day2       380        40\n",
       "day3       390        45\n",
       "day4       680        49\n",
       "day5       700        89"
      ]
     },
     "execution_count": 42,
     "metadata": {},
     "output_type": "execute_result"
    }
   ],
   "source": [
    "df=pd.DataFrame(data,index=['day1','day2','day3','day4','day5'])\n",
    "df"
   ]
  },
  {
   "cell_type": "code",
   "execution_count": 43,
   "id": "92fb7724",
   "metadata": {},
   "outputs": [
    {
     "name": "stdout",
     "output_type": "stream",
     "text": [
      "calories    380\n",
      "duration     40\n",
      "Name: day2, dtype: int64\n"
     ]
    }
   ],
   "source": [
    "#named index\n",
    "\n",
    "print(df.loc['day2'])"
   ]
  },
  {
   "cell_type": "code",
   "execution_count": 45,
   "id": "c50c126e",
   "metadata": {},
   "outputs": [
    {
     "name": "stdout",
     "output_type": "stream",
     "text": [
      "calories    680\n",
      "duration     49\n",
      "Name: day4, dtype: int64\n"
     ]
    }
   ],
   "source": [
    "print(df.loc['day4'])"
   ]
  },
  {
   "cell_type": "code",
   "execution_count": null,
   "id": "5adcc1e1",
   "metadata": {},
   "outputs": [],
   "source": [
    "#accesing the columns\n"
   ]
  },
  {
   "cell_type": "code",
   "execution_count": 46,
   "id": "e7384f84",
   "metadata": {},
   "outputs": [
    {
     "name": "stdout",
     "output_type": "stream",
     "text": [
      "day1    420\n",
      "day2    380\n",
      "day3    390\n",
      "day4    680\n",
      "day5    700\n",
      "Name: calories, dtype: int64\n"
     ]
    }
   ],
   "source": [
    "print(df['calories'])"
   ]
  },
  {
   "cell_type": "code",
   "execution_count": 47,
   "id": "29cb41b0",
   "metadata": {},
   "outputs": [
    {
     "name": "stdout",
     "output_type": "stream",
     "text": [
      "      calories  duration\n",
      "day1       420        50\n",
      "day2       380        40\n",
      "day3       390        45\n",
      "day4       680        49\n",
      "day5       700        89\n"
     ]
    }
   ],
   "source": [
    "print(df[['calories','duration']])"
   ]
  },
  {
   "cell_type": "code",
   "execution_count": 48,
   "id": "59fe8e0e",
   "metadata": {},
   "outputs": [
    {
     "data": {
      "text/html": [
       "<div>\n",
       "<style scoped>\n",
       "    .dataframe tbody tr th:only-of-type {\n",
       "        vertical-align: middle;\n",
       "    }\n",
       "\n",
       "    .dataframe tbody tr th {\n",
       "        vertical-align: top;\n",
       "    }\n",
       "\n",
       "    .dataframe thead th {\n",
       "        text-align: right;\n",
       "    }\n",
       "</style>\n",
       "<table border=\"1\" class=\"dataframe\">\n",
       "  <thead>\n",
       "    <tr style=\"text-align: right;\">\n",
       "      <th></th>\n",
       "      <th>calories</th>\n",
       "      <th>duration</th>\n",
       "    </tr>\n",
       "  </thead>\n",
       "  <tbody>\n",
       "    <tr>\n",
       "      <th>day1</th>\n",
       "      <td>420</td>\n",
       "      <td>50</td>\n",
       "    </tr>\n",
       "    <tr>\n",
       "      <th>day2</th>\n",
       "      <td>380</td>\n",
       "      <td>40</td>\n",
       "    </tr>\n",
       "    <tr>\n",
       "      <th>day3</th>\n",
       "      <td>390</td>\n",
       "      <td>45</td>\n",
       "    </tr>\n",
       "    <tr>\n",
       "      <th>day4</th>\n",
       "      <td>680</td>\n",
       "      <td>49</td>\n",
       "    </tr>\n",
       "    <tr>\n",
       "      <th>day5</th>\n",
       "      <td>700</td>\n",
       "      <td>89</td>\n",
       "    </tr>\n",
       "  </tbody>\n",
       "</table>\n",
       "</div>"
      ],
      "text/plain": [
       "      calories  duration\n",
       "day1       420        50\n",
       "day2       380        40\n",
       "day3       390        45\n",
       "day4       680        49\n",
       "day5       700        89"
      ]
     },
     "execution_count": 48,
     "metadata": {},
     "output_type": "execute_result"
    }
   ],
   "source": [
    "df"
   ]
  },
  {
   "cell_type": "code",
   "execution_count": 49,
   "id": "1f47159a",
   "metadata": {},
   "outputs": [
    {
     "data": {
      "text/plain": [
       "day1    420\n",
       "day2    380\n",
       "day3    390\n",
       "day4    680\n",
       "day5    700\n",
       "Name: calories, dtype: int64"
      ]
     },
     "execution_count": 49,
     "metadata": {},
     "output_type": "execute_result"
    }
   ],
   "source": [
    "df.calories"
   ]
  },
  {
   "cell_type": "code",
   "execution_count": 50,
   "id": "8ab996c5",
   "metadata": {},
   "outputs": [
    {
     "data": {
      "text/plain": [
       "day1    50\n",
       "day2    40\n",
       "day3    45\n",
       "day4    49\n",
       "day5    89\n",
       "Name: duration, dtype: int64"
      ]
     },
     "execution_count": 50,
     "metadata": {},
     "output_type": "execute_result"
    }
   ],
   "source": [
    "df.duration"
   ]
  },
  {
   "cell_type": "code",
   "execution_count": 52,
   "id": "52ae322d",
   "metadata": {},
   "outputs": [
    {
     "data": {
      "text/plain": [
       "700"
      ]
     },
     "execution_count": 52,
     "metadata": {},
     "output_type": "execute_result"
    }
   ],
   "source": [
    "df['calories'].max()"
   ]
  },
  {
   "cell_type": "code",
   "execution_count": 53,
   "id": "24c6fe1e",
   "metadata": {},
   "outputs": [
    {
     "data": {
      "text/plain": [
       "380"
      ]
     },
     "execution_count": 53,
     "metadata": {},
     "output_type": "execute_result"
    }
   ],
   "source": [
    "df['calories'].min()"
   ]
  },
  {
   "cell_type": "code",
   "execution_count": 54,
   "id": "b7a804d7",
   "metadata": {},
   "outputs": [
    {
     "data": {
      "text/plain": [
       "day1    50\n",
       "day2    40\n",
       "day3    45\n",
       "day4    49\n",
       "day5    89\n",
       "Name: duration, dtype: int64"
      ]
     },
     "execution_count": 54,
     "metadata": {},
     "output_type": "execute_result"
    }
   ],
   "source": [
    "df['duration']"
   ]
  },
  {
   "cell_type": "code",
   "execution_count": 56,
   "id": "6f77834c",
   "metadata": {},
   "outputs": [
    {
     "data": {
      "text/html": [
       "<div>\n",
       "<style scoped>\n",
       "    .dataframe tbody tr th:only-of-type {\n",
       "        vertical-align: middle;\n",
       "    }\n",
       "\n",
       "    .dataframe tbody tr th {\n",
       "        vertical-align: top;\n",
       "    }\n",
       "\n",
       "    .dataframe thead th {\n",
       "        text-align: right;\n",
       "    }\n",
       "</style>\n",
       "<table border=\"1\" class=\"dataframe\">\n",
       "  <thead>\n",
       "    <tr style=\"text-align: right;\">\n",
       "      <th></th>\n",
       "      <th>calories</th>\n",
       "      <th>duration</th>\n",
       "    </tr>\n",
       "  </thead>\n",
       "  <tbody>\n",
       "    <tr>\n",
       "      <th>count</th>\n",
       "      <td>5.000000</td>\n",
       "      <td>5.00000</td>\n",
       "    </tr>\n",
       "    <tr>\n",
       "      <th>mean</th>\n",
       "      <td>514.000000</td>\n",
       "      <td>54.60000</td>\n",
       "    </tr>\n",
       "    <tr>\n",
       "      <th>std</th>\n",
       "      <td>161.493034</td>\n",
       "      <td>19.62906</td>\n",
       "    </tr>\n",
       "    <tr>\n",
       "      <th>min</th>\n",
       "      <td>380.000000</td>\n",
       "      <td>40.00000</td>\n",
       "    </tr>\n",
       "    <tr>\n",
       "      <th>25%</th>\n",
       "      <td>390.000000</td>\n",
       "      <td>45.00000</td>\n",
       "    </tr>\n",
       "    <tr>\n",
       "      <th>50%</th>\n",
       "      <td>420.000000</td>\n",
       "      <td>49.00000</td>\n",
       "    </tr>\n",
       "    <tr>\n",
       "      <th>75%</th>\n",
       "      <td>680.000000</td>\n",
       "      <td>50.00000</td>\n",
       "    </tr>\n",
       "    <tr>\n",
       "      <th>max</th>\n",
       "      <td>700.000000</td>\n",
       "      <td>89.00000</td>\n",
       "    </tr>\n",
       "  </tbody>\n",
       "</table>\n",
       "</div>"
      ],
      "text/plain": [
       "         calories  duration\n",
       "count    5.000000   5.00000\n",
       "mean   514.000000  54.60000\n",
       "std    161.493034  19.62906\n",
       "min    380.000000  40.00000\n",
       "25%    390.000000  45.00000\n",
       "50%    420.000000  49.00000\n",
       "75%    680.000000  50.00000\n",
       "max    700.000000  89.00000"
      ]
     },
     "execution_count": 56,
     "metadata": {},
     "output_type": "execute_result"
    }
   ],
   "source": [
    "df.describe()"
   ]
  },
  {
   "cell_type": "markdown",
   "id": "3cb0800d",
   "metadata": {},
   "source": [
    "# Loding of data (Read and Write Opration)"
   ]
  },
  {
   "cell_type": "code",
   "execution_count": 3,
   "id": "50064438",
   "metadata": {},
   "outputs": [],
   "source": [
    "import pandas as pd"
   ]
  },
  {
   "cell_type": "code",
   "execution_count": 4,
   "id": "81b29cde",
   "metadata": {},
   "outputs": [
    {
     "name": "stdout",
     "output_type": "stream",
     "text": [
      "Requirement already satisfied: openpyxl in c:\\users\\priya\\appdata\\local\\programs\\python\\python311\\lib\\site-packages (3.1.2)\n",
      "Requirement already satisfied: et-xmlfile in c:\\users\\priya\\appdata\\local\\programs\\python\\python311\\lib\\site-packages (from openpyxl) (1.1.0)\n",
      "Note: you may need to restart the kernel to use updated packages.\n"
     ]
    },
    {
     "name": "stderr",
     "output_type": "stream",
     "text": [
      "\n",
      "[notice] A new release of pip is available: 23.2.1 -> 23.3\n",
      "[notice] To update, run: python.exe -m pip install --upgrade pip\n"
     ]
    }
   ],
   "source": [
    "pip install openpyxl"
   ]
  },
  {
   "cell_type": "code",
   "execution_count": 5,
   "id": "3064d79b",
   "metadata": {
    "scrolled": true
   },
   "outputs": [
    {
     "data": {
      "text/html": [
       "<div>\n",
       "<style scoped>\n",
       "    .dataframe tbody tr th:only-of-type {\n",
       "        vertical-align: middle;\n",
       "    }\n",
       "\n",
       "    .dataframe tbody tr th {\n",
       "        vertical-align: top;\n",
       "    }\n",
       "\n",
       "    .dataframe thead th {\n",
       "        text-align: right;\n",
       "    }\n",
       "</style>\n",
       "<table border=\"1\" class=\"dataframe\">\n",
       "  <thead>\n",
       "    <tr style=\"text-align: right;\">\n",
       "      <th></th>\n",
       "      <th>Unnamed: 0</th>\n",
       "      <th>datetime</th>\n",
       "      <th>station_antwerp</th>\n",
       "      <th>station_paris</th>\n",
       "      <th>station_london</th>\n",
       "    </tr>\n",
       "  </thead>\n",
       "  <tbody>\n",
       "    <tr>\n",
       "      <th>0</th>\n",
       "      <td>0</td>\n",
       "      <td>2019-05-07 02:00:00</td>\n",
       "      <td>NaN</td>\n",
       "      <td>NaN</td>\n",
       "      <td>23.0</td>\n",
       "    </tr>\n",
       "    <tr>\n",
       "      <th>1</th>\n",
       "      <td>1</td>\n",
       "      <td>2019-05-07 03:00:00</td>\n",
       "      <td>50.5</td>\n",
       "      <td>25.0</td>\n",
       "      <td>19.0</td>\n",
       "    </tr>\n",
       "    <tr>\n",
       "      <th>2</th>\n",
       "      <td>2</td>\n",
       "      <td>2019-05-07 04:00:00</td>\n",
       "      <td>45.0</td>\n",
       "      <td>27.7</td>\n",
       "      <td>19.0</td>\n",
       "    </tr>\n",
       "    <tr>\n",
       "      <th>3</th>\n",
       "      <td>3</td>\n",
       "      <td>2019-05-07 05:00:00</td>\n",
       "      <td>NaN</td>\n",
       "      <td>50.4</td>\n",
       "      <td>16.0</td>\n",
       "    </tr>\n",
       "    <tr>\n",
       "      <th>4</th>\n",
       "      <td>4</td>\n",
       "      <td>2019-05-07 06:00:00</td>\n",
       "      <td>NaN</td>\n",
       "      <td>61.9</td>\n",
       "      <td>NaN</td>\n",
       "    </tr>\n",
       "    <tr>\n",
       "      <th>...</th>\n",
       "      <td>...</td>\n",
       "      <td>...</td>\n",
       "      <td>...</td>\n",
       "      <td>...</td>\n",
       "      <td>...</td>\n",
       "    </tr>\n",
       "    <tr>\n",
       "      <th>1030</th>\n",
       "      <td>1030</td>\n",
       "      <td>2019-06-20 22:00:00</td>\n",
       "      <td>NaN</td>\n",
       "      <td>21.4</td>\n",
       "      <td>NaN</td>\n",
       "    </tr>\n",
       "    <tr>\n",
       "      <th>1031</th>\n",
       "      <td>1031</td>\n",
       "      <td>2019-06-20 23:00:00</td>\n",
       "      <td>NaN</td>\n",
       "      <td>24.9</td>\n",
       "      <td>NaN</td>\n",
       "    </tr>\n",
       "    <tr>\n",
       "      <th>1032</th>\n",
       "      <td>1032</td>\n",
       "      <td>2019-06-21 00:00:00</td>\n",
       "      <td>NaN</td>\n",
       "      <td>26.5</td>\n",
       "      <td>NaN</td>\n",
       "    </tr>\n",
       "    <tr>\n",
       "      <th>1033</th>\n",
       "      <td>1033</td>\n",
       "      <td>2019-06-21 01:00:00</td>\n",
       "      <td>NaN</td>\n",
       "      <td>21.8</td>\n",
       "      <td>NaN</td>\n",
       "    </tr>\n",
       "    <tr>\n",
       "      <th>1034</th>\n",
       "      <td>1034</td>\n",
       "      <td>2019-06-21 02:00:00</td>\n",
       "      <td>NaN</td>\n",
       "      <td>20.0</td>\n",
       "      <td>NaN</td>\n",
       "    </tr>\n",
       "  </tbody>\n",
       "</table>\n",
       "<p>1035 rows × 5 columns</p>\n",
       "</div>"
      ],
      "text/plain": [
       "      Unnamed: 0             datetime  station_antwerp  station_paris   \n",
       "0              0  2019-05-07 02:00:00              NaN            NaN  \\\n",
       "1              1  2019-05-07 03:00:00             50.5           25.0   \n",
       "2              2  2019-05-07 04:00:00             45.0           27.7   \n",
       "3              3  2019-05-07 05:00:00              NaN           50.4   \n",
       "4              4  2019-05-07 06:00:00              NaN           61.9   \n",
       "...          ...                  ...              ...            ...   \n",
       "1030        1030  2019-06-20 22:00:00              NaN           21.4   \n",
       "1031        1031  2019-06-20 23:00:00              NaN           24.9   \n",
       "1032        1032  2019-06-21 00:00:00              NaN           26.5   \n",
       "1033        1033  2019-06-21 01:00:00              NaN           21.8   \n",
       "1034        1034  2019-06-21 02:00:00              NaN           20.0   \n",
       "\n",
       "      station_london  \n",
       "0               23.0  \n",
       "1               19.0  \n",
       "2               19.0  \n",
       "3               16.0  \n",
       "4                NaN  \n",
       "...              ...  \n",
       "1030             NaN  \n",
       "1031             NaN  \n",
       "1032             NaN  \n",
       "1033             NaN  \n",
       "1034             NaN  \n",
       "\n",
       "[1035 rows x 5 columns]"
      ]
     },
     "execution_count": 5,
     "metadata": {},
     "output_type": "execute_result"
    }
   ],
   "source": [
    "df = pd.read_excel(\"air_quality.xlsx\")\n",
    "df"
   ]
  },
  {
   "cell_type": "code",
   "execution_count": 6,
   "id": "89d8479f",
   "metadata": {},
   "outputs": [
    {
     "data": {
      "text/html": [
       "<div>\n",
       "<style scoped>\n",
       "    .dataframe tbody tr th:only-of-type {\n",
       "        vertical-align: middle;\n",
       "    }\n",
       "\n",
       "    .dataframe tbody tr th {\n",
       "        vertical-align: top;\n",
       "    }\n",
       "\n",
       "    .dataframe thead th {\n",
       "        text-align: right;\n",
       "    }\n",
       "</style>\n",
       "<table border=\"1\" class=\"dataframe\">\n",
       "  <thead>\n",
       "    <tr style=\"text-align: right;\">\n",
       "      <th></th>\n",
       "      <th>Unnamed: 0</th>\n",
       "      <th>datetime</th>\n",
       "      <th>station_antwerp</th>\n",
       "      <th>station_paris</th>\n",
       "      <th>station_london</th>\n",
       "    </tr>\n",
       "  </thead>\n",
       "  <tbody>\n",
       "    <tr>\n",
       "      <th>0</th>\n",
       "      <td>0</td>\n",
       "      <td>2019-05-07 02:00:00</td>\n",
       "      <td>NaN</td>\n",
       "      <td>NaN</td>\n",
       "      <td>23.0</td>\n",
       "    </tr>\n",
       "    <tr>\n",
       "      <th>1</th>\n",
       "      <td>1</td>\n",
       "      <td>2019-05-07 03:00:00</td>\n",
       "      <td>50.5</td>\n",
       "      <td>25.0</td>\n",
       "      <td>19.0</td>\n",
       "    </tr>\n",
       "    <tr>\n",
       "      <th>2</th>\n",
       "      <td>2</td>\n",
       "      <td>2019-05-07 04:00:00</td>\n",
       "      <td>45.0</td>\n",
       "      <td>27.7</td>\n",
       "      <td>19.0</td>\n",
       "    </tr>\n",
       "    <tr>\n",
       "      <th>3</th>\n",
       "      <td>3</td>\n",
       "      <td>2019-05-07 05:00:00</td>\n",
       "      <td>NaN</td>\n",
       "      <td>50.4</td>\n",
       "      <td>16.0</td>\n",
       "    </tr>\n",
       "    <tr>\n",
       "      <th>4</th>\n",
       "      <td>4</td>\n",
       "      <td>2019-05-07 06:00:00</td>\n",
       "      <td>NaN</td>\n",
       "      <td>61.9</td>\n",
       "      <td>NaN</td>\n",
       "    </tr>\n",
       "    <tr>\n",
       "      <th>...</th>\n",
       "      <td>...</td>\n",
       "      <td>...</td>\n",
       "      <td>...</td>\n",
       "      <td>...</td>\n",
       "      <td>...</td>\n",
       "    </tr>\n",
       "    <tr>\n",
       "      <th>1030</th>\n",
       "      <td>1030</td>\n",
       "      <td>2019-06-20 22:00:00</td>\n",
       "      <td>NaN</td>\n",
       "      <td>21.4</td>\n",
       "      <td>NaN</td>\n",
       "    </tr>\n",
       "    <tr>\n",
       "      <th>1031</th>\n",
       "      <td>1031</td>\n",
       "      <td>2019-06-20 23:00:00</td>\n",
       "      <td>NaN</td>\n",
       "      <td>24.9</td>\n",
       "      <td>NaN</td>\n",
       "    </tr>\n",
       "    <tr>\n",
       "      <th>1032</th>\n",
       "      <td>1032</td>\n",
       "      <td>2019-06-21 00:00:00</td>\n",
       "      <td>NaN</td>\n",
       "      <td>26.5</td>\n",
       "      <td>NaN</td>\n",
       "    </tr>\n",
       "    <tr>\n",
       "      <th>1033</th>\n",
       "      <td>1033</td>\n",
       "      <td>2019-06-21 01:00:00</td>\n",
       "      <td>NaN</td>\n",
       "      <td>21.8</td>\n",
       "      <td>NaN</td>\n",
       "    </tr>\n",
       "    <tr>\n",
       "      <th>1034</th>\n",
       "      <td>1034</td>\n",
       "      <td>2019-06-21 02:00:00</td>\n",
       "      <td>NaN</td>\n",
       "      <td>20.0</td>\n",
       "      <td>NaN</td>\n",
       "    </tr>\n",
       "  </tbody>\n",
       "</table>\n",
       "<p>1035 rows × 5 columns</p>\n",
       "</div>"
      ],
      "text/plain": [
       "      Unnamed: 0             datetime  station_antwerp  station_paris   \n",
       "0              0  2019-05-07 02:00:00              NaN            NaN  \\\n",
       "1              1  2019-05-07 03:00:00             50.5           25.0   \n",
       "2              2  2019-05-07 04:00:00             45.0           27.7   \n",
       "3              3  2019-05-07 05:00:00              NaN           50.4   \n",
       "4              4  2019-05-07 06:00:00              NaN           61.9   \n",
       "...          ...                  ...              ...            ...   \n",
       "1030        1030  2019-06-20 22:00:00              NaN           21.4   \n",
       "1031        1031  2019-06-20 23:00:00              NaN           24.9   \n",
       "1032        1032  2019-06-21 00:00:00              NaN           26.5   \n",
       "1033        1033  2019-06-21 01:00:00              NaN           21.8   \n",
       "1034        1034  2019-06-21 02:00:00              NaN           20.0   \n",
       "\n",
       "      station_london  \n",
       "0               23.0  \n",
       "1               19.0  \n",
       "2               19.0  \n",
       "3               16.0  \n",
       "4                NaN  \n",
       "...              ...  \n",
       "1030             NaN  \n",
       "1031             NaN  \n",
       "1032             NaN  \n",
       "1033             NaN  \n",
       "1034             NaN  \n",
       "\n",
       "[1035 rows x 5 columns]"
      ]
     },
     "execution_count": 6,
     "metadata": {},
     "output_type": "execute_result"
    }
   ],
   "source": [
    "df"
   ]
  },
  {
   "cell_type": "code",
   "execution_count": 7,
   "id": "df4c8cee",
   "metadata": {},
   "outputs": [
    {
     "data": {
      "text/html": [
       "<div>\n",
       "<style scoped>\n",
       "    .dataframe tbody tr th:only-of-type {\n",
       "        vertical-align: middle;\n",
       "    }\n",
       "\n",
       "    .dataframe tbody tr th {\n",
       "        vertical-align: top;\n",
       "    }\n",
       "\n",
       "    .dataframe thead th {\n",
       "        text-align: right;\n",
       "    }\n",
       "</style>\n",
       "<table border=\"1\" class=\"dataframe\">\n",
       "  <thead>\n",
       "    <tr style=\"text-align: right;\">\n",
       "      <th></th>\n",
       "      <th>Unnamed: 0</th>\n",
       "      <th>datetime</th>\n",
       "      <th>station_antwerp</th>\n",
       "      <th>station_paris</th>\n",
       "      <th>station_london</th>\n",
       "    </tr>\n",
       "  </thead>\n",
       "  <tbody>\n",
       "    <tr>\n",
       "      <th>0</th>\n",
       "      <td>0</td>\n",
       "      <td>2019-05-07 02:00:00</td>\n",
       "      <td>NaN</td>\n",
       "      <td>NaN</td>\n",
       "      <td>23.0</td>\n",
       "    </tr>\n",
       "    <tr>\n",
       "      <th>1</th>\n",
       "      <td>1</td>\n",
       "      <td>2019-05-07 03:00:00</td>\n",
       "      <td>50.5</td>\n",
       "      <td>25.0</td>\n",
       "      <td>19.0</td>\n",
       "    </tr>\n",
       "    <tr>\n",
       "      <th>2</th>\n",
       "      <td>2</td>\n",
       "      <td>2019-05-07 04:00:00</td>\n",
       "      <td>45.0</td>\n",
       "      <td>27.7</td>\n",
       "      <td>19.0</td>\n",
       "    </tr>\n",
       "    <tr>\n",
       "      <th>3</th>\n",
       "      <td>3</td>\n",
       "      <td>2019-05-07 05:00:00</td>\n",
       "      <td>NaN</td>\n",
       "      <td>50.4</td>\n",
       "      <td>16.0</td>\n",
       "    </tr>\n",
       "    <tr>\n",
       "      <th>4</th>\n",
       "      <td>4</td>\n",
       "      <td>2019-05-07 06:00:00</td>\n",
       "      <td>NaN</td>\n",
       "      <td>61.9</td>\n",
       "      <td>NaN</td>\n",
       "    </tr>\n",
       "  </tbody>\n",
       "</table>\n",
       "</div>"
      ],
      "text/plain": [
       "   Unnamed: 0             datetime  station_antwerp  station_paris   \n",
       "0           0  2019-05-07 02:00:00              NaN            NaN  \\\n",
       "1           1  2019-05-07 03:00:00             50.5           25.0   \n",
       "2           2  2019-05-07 04:00:00             45.0           27.7   \n",
       "3           3  2019-05-07 05:00:00              NaN           50.4   \n",
       "4           4  2019-05-07 06:00:00              NaN           61.9   \n",
       "\n",
       "   station_london  \n",
       "0            23.0  \n",
       "1            19.0  \n",
       "2            19.0  \n",
       "3            16.0  \n",
       "4             NaN  "
      ]
     },
     "execution_count": 7,
     "metadata": {},
     "output_type": "execute_result"
    }
   ],
   "source": [
    "df.head()"
   ]
  },
  {
   "cell_type": "code",
   "execution_count": 8,
   "id": "bbba6e34",
   "metadata": {},
   "outputs": [],
   "source": [
    "# NaN = Not a Number"
   ]
  },
  {
   "cell_type": "code",
   "execution_count": 9,
   "id": "8f1ce5bd",
   "metadata": {},
   "outputs": [
    {
     "data": {
      "text/html": [
       "<div>\n",
       "<style scoped>\n",
       "    .dataframe tbody tr th:only-of-type {\n",
       "        vertical-align: middle;\n",
       "    }\n",
       "\n",
       "    .dataframe tbody tr th {\n",
       "        vertical-align: top;\n",
       "    }\n",
       "\n",
       "    .dataframe thead th {\n",
       "        text-align: right;\n",
       "    }\n",
       "</style>\n",
       "<table border=\"1\" class=\"dataframe\">\n",
       "  <thead>\n",
       "    <tr style=\"text-align: right;\">\n",
       "      <th></th>\n",
       "      <th>Unnamed: 0</th>\n",
       "      <th>datetime</th>\n",
       "      <th>station_antwerp</th>\n",
       "      <th>station_paris</th>\n",
       "      <th>station_london</th>\n",
       "    </tr>\n",
       "  </thead>\n",
       "  <tbody>\n",
       "    <tr>\n",
       "      <th>1030</th>\n",
       "      <td>1030</td>\n",
       "      <td>2019-06-20 22:00:00</td>\n",
       "      <td>NaN</td>\n",
       "      <td>21.4</td>\n",
       "      <td>NaN</td>\n",
       "    </tr>\n",
       "    <tr>\n",
       "      <th>1031</th>\n",
       "      <td>1031</td>\n",
       "      <td>2019-06-20 23:00:00</td>\n",
       "      <td>NaN</td>\n",
       "      <td>24.9</td>\n",
       "      <td>NaN</td>\n",
       "    </tr>\n",
       "    <tr>\n",
       "      <th>1032</th>\n",
       "      <td>1032</td>\n",
       "      <td>2019-06-21 00:00:00</td>\n",
       "      <td>NaN</td>\n",
       "      <td>26.5</td>\n",
       "      <td>NaN</td>\n",
       "    </tr>\n",
       "    <tr>\n",
       "      <th>1033</th>\n",
       "      <td>1033</td>\n",
       "      <td>2019-06-21 01:00:00</td>\n",
       "      <td>NaN</td>\n",
       "      <td>21.8</td>\n",
       "      <td>NaN</td>\n",
       "    </tr>\n",
       "    <tr>\n",
       "      <th>1034</th>\n",
       "      <td>1034</td>\n",
       "      <td>2019-06-21 02:00:00</td>\n",
       "      <td>NaN</td>\n",
       "      <td>20.0</td>\n",
       "      <td>NaN</td>\n",
       "    </tr>\n",
       "  </tbody>\n",
       "</table>\n",
       "</div>"
      ],
      "text/plain": [
       "      Unnamed: 0             datetime  station_antwerp  station_paris   \n",
       "1030        1030  2019-06-20 22:00:00              NaN           21.4  \\\n",
       "1031        1031  2019-06-20 23:00:00              NaN           24.9   \n",
       "1032        1032  2019-06-21 00:00:00              NaN           26.5   \n",
       "1033        1033  2019-06-21 01:00:00              NaN           21.8   \n",
       "1034        1034  2019-06-21 02:00:00              NaN           20.0   \n",
       "\n",
       "      station_london  \n",
       "1030             NaN  \n",
       "1031             NaN  \n",
       "1032             NaN  \n",
       "1033             NaN  \n",
       "1034             NaN  "
      ]
     },
     "execution_count": 9,
     "metadata": {},
     "output_type": "execute_result"
    }
   ],
   "source": [
    "df.tail()"
   ]
  },
  {
   "cell_type": "code",
   "execution_count": 10,
   "id": "6ae65a2c",
   "metadata": {},
   "outputs": [
    {
     "data": {
      "text/plain": [
       "<bound method NDFrame.abs of       Unnamed: 0             datetime  station_antwerp  station_paris   \n",
       "0              0  2019-05-07 02:00:00              NaN            NaN  \\\n",
       "1              1  2019-05-07 03:00:00             50.5           25.0   \n",
       "2              2  2019-05-07 04:00:00             45.0           27.7   \n",
       "3              3  2019-05-07 05:00:00              NaN           50.4   \n",
       "4              4  2019-05-07 06:00:00              NaN           61.9   \n",
       "...          ...                  ...              ...            ...   \n",
       "1030        1030  2019-06-20 22:00:00              NaN           21.4   \n",
       "1031        1031  2019-06-20 23:00:00              NaN           24.9   \n",
       "1032        1032  2019-06-21 00:00:00              NaN           26.5   \n",
       "1033        1033  2019-06-21 01:00:00              NaN           21.8   \n",
       "1034        1034  2019-06-21 02:00:00              NaN           20.0   \n",
       "\n",
       "      station_london  \n",
       "0               23.0  \n",
       "1               19.0  \n",
       "2               19.0  \n",
       "3               16.0  \n",
       "4                NaN  \n",
       "...              ...  \n",
       "1030             NaN  \n",
       "1031             NaN  \n",
       "1032             NaN  \n",
       "1033             NaN  \n",
       "1034             NaN  \n",
       "\n",
       "[1035 rows x 5 columns]>"
      ]
     },
     "execution_count": 10,
     "metadata": {},
     "output_type": "execute_result"
    }
   ],
   "source": [
    "df.abs"
   ]
  },
  {
   "cell_type": "code",
   "execution_count": 11,
   "id": "f0f2b0c2",
   "metadata": {},
   "outputs": [
    {
     "name": "stdout",
     "output_type": "stream",
     "text": [
      "<class 'pandas.core.frame.DataFrame'>\n",
      "RangeIndex: 1035 entries, 0 to 1034\n",
      "Data columns (total 5 columns):\n",
      " #   Column           Non-Null Count  Dtype  \n",
      "---  ------           --------------  -----  \n",
      " 0   Unnamed: 0       1035 non-null   int64  \n",
      " 1   datetime         1035 non-null   object \n",
      " 2   station_antwerp  95 non-null     float64\n",
      " 3   station_paris    1004 non-null   float64\n",
      " 4   station_london   969 non-null    float64\n",
      "dtypes: float64(3), int64(1), object(1)\n",
      "memory usage: 40.6+ KB\n"
     ]
    }
   ],
   "source": [
    "df.info()"
   ]
  },
  {
   "cell_type": "code",
   "execution_count": 12,
   "id": "08d12e9b",
   "metadata": {},
   "outputs": [
    {
     "name": "stdout",
     "output_type": "stream",
     "text": [
      "Requirement already satisfied: openpyxl in c:\\users\\priya\\appdata\\local\\programs\\python\\python311\\lib\\site-packages (3.1.2)"
     ]
    },
    {
     "name": "stderr",
     "output_type": "stream",
     "text": [
      "\n",
      "[notice] A new release of pip is available: 23.2.1 -> 23.3\n",
      "[notice] To update, run: python.exe -m pip install --upgrade pip\n"
     ]
    },
    {
     "name": "stdout",
     "output_type": "stream",
     "text": [
      "\n",
      "Requirement already satisfied: et-xmlfile in c:\\users\\priya\\appdata\\local\\programs\\python\\python311\\lib\\site-packages (from openpyxl) (1.1.0)\n"
     ]
    }
   ],
   "source": [
    "! pip install openpyxl"
   ]
  },
  {
   "cell_type": "code",
   "execution_count": 13,
   "id": "1d5e4fbc",
   "metadata": {},
   "outputs": [],
   "source": [
    "# df.to_excel(\"air_quality.xlsc\",sheet_name=\"air_quality2\")"
   ]
  },
  {
   "cell_type": "code",
   "execution_count": 14,
   "id": "d924cd72",
   "metadata": {},
   "outputs": [],
   "source": [
    "# %ls # see the result (this is linux command for cheking result)                   "
   ]
  },
  {
   "cell_type": "markdown",
   "id": "6c7dd76f",
   "metadata": {},
   "source": [
    "TO print entire dataframe use \"to_string()\" funnction"
   ]
  },
  {
   "cell_type": "code",
   "execution_count": 15,
   "id": "7157373d",
   "metadata": {},
   "outputs": [
    {
     "name": "stdout",
     "output_type": "stream",
     "text": [
      "      Unnamed: 0             datetime  station_antwerp  station_paris  station_london\n",
      "0              0  2019-05-07 02:00:00              NaN            NaN            23.0\n",
      "1              1  2019-05-07 03:00:00             50.5           25.0            19.0\n",
      "2              2  2019-05-07 04:00:00             45.0           27.7            19.0\n",
      "3              3  2019-05-07 05:00:00              NaN           50.4            16.0\n",
      "4              4  2019-05-07 06:00:00              NaN           61.9             NaN\n",
      "5              5  2019-05-07 07:00:00              NaN           72.4            26.0\n",
      "6              6  2019-05-07 08:00:00              NaN           77.7            32.0\n",
      "7              7  2019-05-07 09:00:00              NaN           67.9            32.0\n",
      "8              8  2019-05-07 10:00:00              NaN           56.0            28.0\n",
      "9              9  2019-05-07 11:00:00              NaN           34.5            21.0\n",
      "10            10  2019-05-07 12:00:00              NaN           20.1            21.0\n",
      "11            11  2019-05-07 13:00:00              NaN           13.0            18.0\n",
      "12            12  2019-05-07 14:00:00              NaN           10.6            20.0\n",
      "13            13  2019-05-07 15:00:00              NaN           13.2            18.0\n",
      "14            14  2019-05-07 16:00:00              NaN           11.0            20.0\n",
      "15            15  2019-05-07 17:00:00              NaN           11.7            20.0\n",
      "16            16  2019-05-07 18:00:00              NaN           18.2            21.0\n",
      "17            17  2019-05-07 19:00:00              NaN           22.3            20.0\n",
      "18            18  2019-05-07 20:00:00              NaN           21.4            20.0\n",
      "19            19  2019-05-07 21:00:00              NaN           26.8            24.0\n",
      "20            20  2019-05-07 22:00:00              NaN           36.2            24.0\n",
      "21            21  2019-05-07 23:00:00              NaN           33.9             NaN\n",
      "22            22  2019-05-08 00:00:00              NaN           35.8            24.0\n",
      "23            23  2019-05-08 01:00:00              NaN           34.0            19.0\n",
      "24            24  2019-05-08 02:00:00              NaN           22.1            19.0\n",
      "25            25  2019-05-08 03:00:00             23.0           19.6            20.0\n",
      "26            26  2019-05-08 04:00:00             20.5           15.3            20.0\n",
      "27            27  2019-05-08 05:00:00              NaN           13.5            19.0\n",
      "28            28  2019-05-08 06:00:00              NaN           15.5            19.0\n",
      "29            29  2019-05-08 07:00:00              NaN           19.3            29.0\n",
      "30            30  2019-05-08 08:00:00              NaN           21.7            34.0\n",
      "31            31  2019-05-08 09:00:00              NaN           19.5            36.0\n",
      "32            32  2019-05-08 10:00:00              NaN           17.0            33.0\n",
      "33            33  2019-05-08 11:00:00              NaN           19.7            28.0\n",
      "34            34  2019-05-08 12:00:00              NaN           33.4            27.0\n",
      "35            35  2019-05-08 13:00:00              NaN           21.4            26.0\n",
      "36            36  2019-05-08 14:00:00              NaN           15.1            26.0\n",
      "37            37  2019-05-08 15:00:00              NaN           14.3            24.0\n",
      "38            38  2019-05-08 16:00:00              NaN           25.3            27.0\n",
      "39            39  2019-05-08 17:00:00              NaN           26.0            28.0\n",
      "40            40  2019-05-08 18:00:00              NaN           38.6            31.0\n",
      "41            41  2019-05-08 19:00:00              NaN           29.3            40.0\n",
      "42            42  2019-05-08 20:00:00              NaN           27.8            25.0\n",
      "43            43  2019-05-08 21:00:00              NaN           41.3            29.0\n",
      "44            44  2019-05-08 22:00:00              NaN           38.3            26.0\n",
      "45            45  2019-05-08 23:00:00              NaN           48.9             NaN\n",
      "46            46  2019-05-09 00:00:00              NaN           32.2            25.0\n",
      "47            47  2019-05-09 01:00:00              NaN           25.2            30.0\n",
      "48            48  2019-05-09 02:00:00              NaN           14.7             NaN\n",
      "49            49  2019-05-09 03:00:00             20.0           10.6            31.0\n",
      "50            50  2019-05-09 04:00:00             20.5           10.0            31.0\n",
      "51            51  2019-05-09 05:00:00              NaN           10.4            33.0\n",
      "52            52  2019-05-09 06:00:00              NaN           15.3            33.0\n",
      "53            53  2019-05-09 07:00:00              NaN           34.5            33.0\n",
      "54            54  2019-05-09 08:00:00              NaN           50.7            33.0\n",
      "55            55  2019-05-09 09:00:00              NaN           49.0            35.0\n",
      "56            56  2019-05-09 10:00:00              NaN           32.2            36.0\n",
      "57            57  2019-05-09 11:00:00              NaN           32.3            28.0\n",
      "58            58  2019-05-09 12:00:00              NaN           43.1            27.0\n",
      "59            59  2019-05-09 13:00:00              NaN           34.2            30.0\n",
      "60            60  2019-05-09 14:00:00              NaN           35.1            27.0\n",
      "61            61  2019-05-09 15:00:00              NaN           21.3            34.0\n",
      "62            62  2019-05-09 16:00:00              NaN           24.6            97.0\n",
      "63            63  2019-05-09 17:00:00              NaN           23.9            67.0\n",
      "64            64  2019-05-09 18:00:00              NaN           27.0            60.0\n",
      "65            65  2019-05-09 19:00:00              NaN           29.9            58.0\n",
      "66            66  2019-05-09 20:00:00              NaN           24.4            62.0\n",
      "67            67  2019-05-09 21:00:00              NaN           23.8            59.0\n",
      "68            68  2019-05-09 22:00:00              NaN           29.2            65.0\n",
      "69            69  2019-05-09 23:00:00              NaN           34.5            59.0\n",
      "70            70  2019-05-10 00:00:00              NaN           29.7            59.0\n",
      "71            71  2019-05-10 01:00:00              NaN           26.7            52.0\n",
      "72            72  2019-05-10 02:00:00              NaN           22.7            52.0\n",
      "73            73  2019-05-10 03:00:00             10.5           19.1            41.0\n",
      "74            74  2019-05-10 04:00:00             11.5           14.1            41.0\n",
      "75            75  2019-05-10 05:00:00              NaN           15.0            40.0\n",
      "76            76  2019-05-10 06:00:00              NaN           20.5            40.0\n",
      "77            77  2019-05-10 07:00:00              NaN           37.8            39.0\n",
      "78            78  2019-05-10 08:00:00              NaN           47.4            36.0\n",
      "79            79  2019-05-10 09:00:00              NaN           57.3            39.0\n",
      "80            80  2019-05-10 10:00:00              NaN           60.7            34.0\n",
      "81            81  2019-05-10 11:00:00              NaN           53.4            31.0\n",
      "82            82  2019-05-10 12:00:00              NaN           35.1            29.0\n",
      "83            83  2019-05-10 13:00:00              NaN           23.2            28.0\n",
      "84            84  2019-05-10 14:00:00              NaN           25.3            26.0\n",
      "85            85  2019-05-10 15:00:00              NaN           22.0            25.0\n",
      "86            86  2019-05-10 16:00:00              NaN           29.3            25.0\n",
      "87            87  2019-05-10 17:00:00              NaN           29.6            24.0\n",
      "88            88  2019-05-10 18:00:00              NaN           30.8            26.0\n",
      "89            89  2019-05-10 19:00:00              NaN           37.8            26.0\n",
      "90            90  2019-05-10 20:00:00              NaN           33.4            29.0\n",
      "91            91  2019-05-10 21:00:00              NaN           39.3            29.0\n",
      "92            92  2019-05-10 22:00:00              NaN           43.6            29.0\n",
      "93            93  2019-05-10 23:00:00              NaN           37.0            31.0\n",
      "94            94  2019-05-11 00:00:00              NaN           28.1            31.0\n",
      "95            95  2019-05-11 01:00:00              NaN           26.0            27.0\n",
      "96            96  2019-05-11 02:00:00              NaN           24.8            27.0\n",
      "97            97  2019-05-11 03:00:00             26.5           15.5            32.0\n",
      "98            98  2019-05-11 04:00:00             21.0           14.9            32.0\n",
      "99            99  2019-05-11 05:00:00              NaN            NaN            35.0\n",
      "100          100  2019-05-11 06:00:00              NaN            NaN            35.0\n",
      "101          101  2019-05-11 07:00:00              NaN            NaN            30.0\n",
      "102          102  2019-05-11 08:00:00              NaN           28.9            30.0\n",
      "103          103  2019-05-11 09:00:00              NaN           29.0            27.0\n",
      "104          104  2019-05-11 10:00:00              NaN           32.1            30.0\n",
      "105          105  2019-05-11 11:00:00              NaN           35.7             NaN\n",
      "106          106  2019-05-11 12:00:00              NaN           36.8             NaN\n",
      "107          107  2019-05-11 13:00:00              NaN           33.2             NaN\n",
      "108          108  2019-05-11 14:00:00              NaN           30.2             NaN\n",
      "109          109  2019-05-11 15:00:00              NaN           30.8             NaN\n",
      "110          110  2019-05-11 16:00:00              NaN           17.8            28.0\n",
      "111          111  2019-05-11 17:00:00              NaN           18.0            26.0\n",
      "112          112  2019-05-11 18:00:00              NaN           19.5            28.0\n",
      "113          113  2019-05-11 19:00:00              NaN           32.0            31.0\n",
      "114          114  2019-05-11 20:00:00              NaN           33.1            33.0\n",
      "115          115  2019-05-11 21:00:00              NaN           31.2            33.0\n",
      "116          116  2019-05-11 22:00:00              NaN           24.2            34.0\n",
      "117          117  2019-05-11 23:00:00              NaN           21.1            37.0\n",
      "118          118  2019-05-12 00:00:00              NaN           27.7            37.0\n",
      "119          119  2019-05-12 01:00:00              NaN           26.4            35.0\n",
      "120          120  2019-05-12 02:00:00              NaN           22.8            35.0\n",
      "121          121  2019-05-12 03:00:00             17.5           19.2            38.0\n",
      "122          122  2019-05-12 04:00:00             20.0           17.2            38.0\n",
      "123          123  2019-05-12 05:00:00              NaN           16.0            36.0\n",
      "124          124  2019-05-12 06:00:00              NaN           16.2            36.0\n",
      "125          125  2019-05-12 07:00:00              NaN           19.2            38.0\n",
      "126          126  2019-05-12 08:00:00              NaN           20.1            44.0\n",
      "127          127  2019-05-12 09:00:00              NaN           15.9            32.0\n",
      "128          128  2019-05-12 10:00:00              NaN           14.6            26.0\n",
      "129          129  2019-05-12 11:00:00              NaN           11.7            26.0\n",
      "130          130  2019-05-12 12:00:00              NaN           11.4            21.0\n",
      "131          131  2019-05-12 13:00:00              NaN           11.4            20.0\n",
      "132          132  2019-05-12 14:00:00              NaN           10.9            19.0\n",
      "133          133  2019-05-12 15:00:00              NaN            8.7            21.0\n",
      "134          134  2019-05-12 16:00:00              NaN            9.1            22.0\n",
      "135          135  2019-05-12 17:00:00              NaN            9.6            23.0\n",
      "136          136  2019-05-12 18:00:00              NaN           11.7            24.0\n",
      "137          137  2019-05-12 19:00:00              NaN           13.9            22.0\n",
      "138          138  2019-05-12 20:00:00              NaN           18.2            22.0\n",
      "139          139  2019-05-12 21:00:00              NaN           19.5            22.0\n",
      "140          140  2019-05-12 22:00:00              NaN           24.1            21.0\n",
      "141          141  2019-05-12 23:00:00              NaN           34.2            22.0\n",
      "142          142  2019-05-13 00:00:00              NaN           46.5            22.0\n",
      "143          143  2019-05-13 01:00:00              NaN           32.5            22.0\n",
      "144          144  2019-05-13 02:00:00              NaN           25.0            22.0\n",
      "145          145  2019-05-13 03:00:00             14.5           18.9            24.0\n",
      "146          146  2019-05-13 04:00:00             14.5           18.5            24.0\n",
      "147          147  2019-05-13 05:00:00              NaN           18.9            33.0\n",
      "148          148  2019-05-13 06:00:00              NaN           25.1            33.0\n",
      "149          149  2019-05-13 07:00:00              NaN           38.3            39.0\n",
      "150          150  2019-05-13 08:00:00              NaN           45.2            39.0\n",
      "151          151  2019-05-13 09:00:00              NaN           41.0            31.0\n",
      "152          152  2019-05-13 10:00:00              NaN           32.1            29.0\n",
      "153          153  2019-05-13 11:00:00              NaN           20.6            27.0\n",
      "154          154  2019-05-13 12:00:00              NaN           12.8            26.0\n",
      "155          155  2019-05-13 13:00:00              NaN            9.6            24.0\n",
      "156          156  2019-05-13 14:00:00              NaN            9.2            25.0\n",
      "157          157  2019-05-13 15:00:00              NaN           10.1            26.0\n",
      "158          158  2019-05-13 16:00:00              NaN           10.7            28.0\n",
      "159          159  2019-05-13 17:00:00              NaN           10.6            29.0\n",
      "160          160  2019-05-13 18:00:00              NaN           12.1            30.0\n",
      "161          161  2019-05-13 19:00:00              NaN           13.0            30.0\n",
      "162          162  2019-05-13 20:00:00              NaN           15.5            31.0\n",
      "163          163  2019-05-13 21:00:00              NaN           23.9            31.0\n",
      "164          164  2019-05-13 22:00:00              NaN           28.3            31.0\n",
      "165          165  2019-05-13 23:00:00              NaN           30.4            31.0\n",
      "166          166  2019-05-14 00:00:00              NaN           27.3            31.0\n",
      "167          167  2019-05-14 01:00:00              NaN           22.8            23.0\n",
      "168          168  2019-05-14 02:00:00              NaN           20.9            23.0\n",
      "169          169  2019-05-14 03:00:00             14.5           19.1            26.0\n",
      "170          170  2019-05-14 04:00:00             11.5           19.0            26.0\n",
      "171          171  2019-05-14 05:00:00              NaN           22.1            30.0\n",
      "172          172  2019-05-14 06:00:00              NaN           31.6            30.0\n",
      "173          173  2019-05-14 07:00:00              NaN           38.6            33.0\n",
      "174          174  2019-05-14 08:00:00              NaN           46.1            34.0\n",
      "175          175  2019-05-14 09:00:00              NaN           41.3            33.0\n",
      "176          176  2019-05-14 10:00:00              NaN           28.8            30.0\n",
      "177          177  2019-05-14 11:00:00              NaN           19.0            31.0\n",
      "178          178  2019-05-14 12:00:00              NaN           12.9            27.0\n",
      "179          179  2019-05-14 13:00:00              NaN           11.3            25.0\n",
      "180          180  2019-05-14 14:00:00              NaN           10.2            25.0\n",
      "181          181  2019-05-14 15:00:00              NaN           11.0            25.0\n",
      "182          182  2019-05-14 16:00:00              NaN           15.2            29.0\n",
      "183          183  2019-05-14 17:00:00              NaN           13.4            32.0\n",
      "184          184  2019-05-14 18:00:00              NaN           15.3            33.0\n",
      "185          185  2019-05-14 19:00:00              NaN           17.7             0.0\n",
      "186          186  2019-05-14 20:00:00              NaN           17.9             0.0\n",
      "187          187  2019-05-14 21:00:00              NaN           23.3             0.0\n",
      "188          188  2019-05-14 22:00:00              NaN           28.4            25.0\n",
      "189          189  2019-05-14 23:00:00              NaN           29.0            26.0\n",
      "190          190  2019-05-15 00:00:00              NaN           30.9            26.0\n",
      "191          191  2019-05-15 01:00:00              NaN           24.3            22.0\n",
      "192          192  2019-05-15 02:00:00              NaN           18.8             NaN\n",
      "193          193  2019-05-15 03:00:00             25.5           17.2            22.0\n",
      "194          194  2019-05-15 04:00:00             22.5           16.8            22.0\n",
      "195          195  2019-05-15 05:00:00              NaN           17.9            25.0\n",
      "196          196  2019-05-15 06:00:00              NaN           28.9            25.0\n",
      "197          197  2019-05-15 07:00:00              NaN           46.5            33.0\n",
      "198          198  2019-05-15 08:00:00              NaN           48.1            33.0\n",
      "199          199  2019-05-15 09:00:00              NaN           32.1            34.0\n",
      "200          200  2019-05-15 10:00:00              NaN           25.7            35.0\n",
      "201          201  2019-05-15 11:00:00              NaN            0.0            36.0\n",
      "202          202  2019-05-15 12:00:00              NaN            0.0            35.0\n",
      "203          203  2019-05-15 13:00:00              NaN            0.0            30.0\n",
      "204          204  2019-05-15 14:00:00              NaN            9.4            31.0\n",
      "205          205  2019-05-15 15:00:00              NaN           10.0            30.0\n",
      "206          206  2019-05-15 16:00:00              NaN           11.9            38.0\n",
      "207          207  2019-05-15 17:00:00              NaN           12.9            38.0\n",
      "208          208  2019-05-15 18:00:00              NaN           12.2            33.0\n",
      "209          209  2019-05-15 19:00:00              NaN           12.9            35.0\n",
      "210          210  2019-05-15 20:00:00              NaN           16.5            33.0\n",
      "211          211  2019-05-15 21:00:00              NaN           20.3            31.0\n",
      "212          212  2019-05-15 22:00:00              NaN           30.1            32.0\n",
      "213          213  2019-05-15 23:00:00              NaN           36.0            33.0\n",
      "214          214  2019-05-16 00:00:00              NaN           44.1            33.0\n",
      "215          215  2019-05-16 01:00:00              NaN           30.9            33.0\n",
      "216          216  2019-05-16 02:00:00              NaN           27.4            33.0\n",
      "217          217  2019-05-16 03:00:00             28.0           26.0            28.0\n",
      "218          218  2019-05-16 04:00:00              NaN           26.7            28.0\n",
      "219          219  2019-05-16 05:00:00              NaN           27.9            26.0\n",
      "220          220  2019-05-16 06:00:00              NaN           37.0            26.0\n",
      "221          221  2019-05-16 07:00:00              NaN           52.6            33.0\n",
      "222          222  2019-05-16 08:00:00              NaN            NaN            34.0\n",
      "223          223  2019-05-16 09:00:00              NaN           40.0            33.0\n",
      "224          224  2019-05-16 10:00:00              NaN           39.4            32.0\n",
      "225          225  2019-05-16 11:00:00              NaN           29.5            31.0\n",
      "226          226  2019-05-16 12:00:00              NaN           13.5            33.0\n",
      "227          227  2019-05-16 13:00:00              NaN           10.5            30.0\n",
      "228          228  2019-05-16 14:00:00              NaN            9.2            27.0\n",
      "229          229  2019-05-16 15:00:00              NaN            8.5            27.0\n",
      "230          230  2019-05-16 16:00:00              NaN            8.1            26.0\n",
      "231          231  2019-05-16 17:00:00              NaN           10.1            29.0\n",
      "232          232  2019-05-16 18:00:00              NaN           10.3            30.0\n",
      "233          233  2019-05-16 19:00:00              NaN           13.5            25.0\n",
      "234          234  2019-05-16 20:00:00              NaN           15.9            27.0\n",
      "235          235  2019-05-16 21:00:00              NaN           14.4            26.0\n",
      "236          236  2019-05-16 22:00:00              NaN           24.8            25.0\n",
      "237          237  2019-05-16 23:00:00              NaN           24.3            25.0\n",
      "238          238  2019-05-17 00:00:00              NaN           37.1            25.0\n",
      "239          239  2019-05-17 01:00:00              NaN           43.7            23.0\n",
      "240          240  2019-05-17 02:00:00              NaN           46.3            23.0\n",
      "241          241  2019-05-17 03:00:00              NaN           26.1            21.0\n",
      "242          242  2019-05-17 04:00:00              NaN           24.6            21.0\n",
      "243          243  2019-05-17 05:00:00              NaN           26.6            21.0\n",
      "244          244  2019-05-17 06:00:00              NaN           28.4            21.0\n",
      "245          245  2019-05-17 07:00:00              NaN           34.0            25.0\n",
      "246          246  2019-05-17 08:00:00              NaN           46.3            27.0\n",
      "247          247  2019-05-17 09:00:00              NaN           55.0            27.0\n",
      "248          248  2019-05-17 10:00:00              NaN           57.5            29.0\n",
      "249          249  2019-05-17 11:00:00              NaN           60.5            30.0\n",
      "250          250  2019-05-17 12:00:00              NaN           51.5            30.0\n",
      "251          251  2019-05-17 13:00:00              NaN           43.1            30.0\n",
      "252          252  2019-05-17 14:00:00              NaN           46.5            29.0\n",
      "253          253  2019-05-17 15:00:00              NaN           37.9            31.0\n",
      "254          254  2019-05-17 16:00:00              NaN           27.0            32.0\n",
      "255          255  2019-05-17 17:00:00              NaN           22.2            30.0\n",
      "256          256  2019-05-17 18:00:00              NaN           20.7            29.0\n",
      "257          257  2019-05-17 19:00:00              NaN           27.9            31.0\n",
      "258          258  2019-05-17 20:00:00              NaN           33.6            36.0\n",
      "259          259  2019-05-17 21:00:00              NaN           24.7            36.0\n",
      "260          260  2019-05-17 22:00:00              NaN           23.5            36.0\n",
      "261          261  2019-05-17 23:00:00              NaN           24.3            35.0\n",
      "262          262  2019-05-18 00:00:00              NaN           28.2            35.0\n",
      "263          263  2019-05-18 01:00:00              NaN           34.1            31.0\n",
      "264          264  2019-05-18 02:00:00              NaN           31.5            31.0\n",
      "265          265  2019-05-18 03:00:00             41.5           37.4            31.0\n",
      "266          266  2019-05-18 04:00:00              NaN           29.0            31.0\n",
      "267          267  2019-05-18 05:00:00              NaN           16.1            29.0\n",
      "268          268  2019-05-18 06:00:00              NaN           16.6            29.0\n",
      "269          269  2019-05-18 07:00:00              NaN           20.1            27.0\n",
      "270          270  2019-05-18 08:00:00              NaN           22.1            29.0\n",
      "271          271  2019-05-18 09:00:00              NaN           27.4            35.0\n",
      "272          272  2019-05-18 10:00:00              NaN           20.4            32.0\n",
      "273          273  2019-05-18 11:00:00              NaN           21.1            35.0\n",
      "274          274  2019-05-18 12:00:00              NaN           24.1            34.0\n",
      "275          275  2019-05-18 13:00:00              NaN           17.5            38.0\n",
      "276          276  2019-05-18 14:00:00              NaN           12.9            29.0\n",
      "277          277  2019-05-18 15:00:00              NaN           10.5            27.0\n",
      "278          278  2019-05-18 16:00:00              NaN           11.8            28.0\n",
      "279          279  2019-05-18 17:00:00              NaN           13.0            30.0\n",
      "280          280  2019-05-18 18:00:00              NaN           14.6            42.0\n",
      "281          281  2019-05-18 19:00:00              NaN           12.8            42.0\n",
      "282          282  2019-05-18 20:00:00             35.5           14.5            36.0\n",
      "283          283  2019-05-18 21:00:00             35.5           67.5            35.0\n",
      "284          284  2019-05-18 22:00:00             40.0           36.2            41.0\n",
      "285          285  2019-05-18 23:00:00             39.0           59.3            46.0\n",
      "286          286  2019-05-19 00:00:00             34.5           62.5            46.0\n",
      "287          287  2019-05-19 01:00:00             29.5           50.2            49.0\n",
      "288          288  2019-05-19 02:00:00             23.5           49.6            49.0\n",
      "289          289  2019-05-19 03:00:00             22.5           34.9            49.0\n",
      "290          290  2019-05-19 04:00:00             19.0           38.1            49.0\n",
      "291          291  2019-05-19 05:00:00             19.0           36.4            49.0\n",
      "292          292  2019-05-19 06:00:00             21.0           39.4            49.0\n",
      "293          293  2019-05-19 07:00:00             26.0           40.9            38.0\n",
      "294          294  2019-05-19 08:00:00             30.5           31.1            36.0\n",
      "295          295  2019-05-19 09:00:00             30.0           32.4            33.0\n",
      "296          296  2019-05-19 10:00:00             23.5           31.7            30.0\n",
      "297          297  2019-05-19 11:00:00             16.0           33.0            27.0\n",
      "298          298  2019-05-19 12:00:00             17.5           31.0            28.0\n",
      "299          299  2019-05-19 13:00:00             17.0           32.6            25.0\n",
      "300          300  2019-05-19 14:00:00             16.0           27.9            27.0\n",
      "301          301  2019-05-19 15:00:00             14.5           21.0            31.0\n",
      "302          302  2019-05-19 16:00:00             23.0           23.8            29.0\n",
      "303          303  2019-05-19 17:00:00             33.0           31.7            28.0\n",
      "304          304  2019-05-19 18:00:00             17.5           32.5            27.0\n",
      "305          305  2019-05-19 19:00:00             18.5           33.9            29.0\n",
      "306          306  2019-05-19 20:00:00             15.5           32.7            30.0\n",
      "307          307  2019-05-19 21:00:00             26.0           51.2            32.0\n",
      "308          308  2019-05-19 22:00:00             15.0           35.6            32.0\n",
      "309          309  2019-05-19 23:00:00             12.5           23.2            32.0\n",
      "310          310  2019-05-20 00:00:00             18.5           22.2            32.0\n",
      "311          311  2019-05-20 01:00:00             16.5           18.8            28.0\n",
      "312          312  2019-05-20 02:00:00             26.0           16.4            28.0\n",
      "313          313  2019-05-20 03:00:00             17.0           12.8            32.0\n",
      "314          314  2019-05-20 04:00:00             10.5           12.1            32.0\n",
      "315          315  2019-05-20 05:00:00              9.0           12.6            26.0\n",
      "316          316  2019-05-20 06:00:00             14.0           14.9            26.0\n",
      "317          317  2019-05-20 07:00:00             20.0           25.2            31.0\n",
      "318          318  2019-05-20 08:00:00             26.0           40.1            31.0\n",
      "319          319  2019-05-20 09:00:00             38.0           46.9            29.0\n",
      "320          320  2019-05-20 10:00:00             40.0           46.1            29.0\n",
      "321          321  2019-05-20 11:00:00             30.5           45.5            28.0\n",
      "322          322  2019-05-20 12:00:00             25.0           43.9            28.0\n",
      "323          323  2019-05-20 13:00:00             25.0           35.4            28.0\n",
      "324          324  2019-05-20 14:00:00             34.5           23.8            29.0\n",
      "325          325  2019-05-20 15:00:00             32.0           23.7            32.0\n",
      "326          326  2019-05-20 16:00:00             24.5           27.5            32.0\n",
      "327          327  2019-05-20 17:00:00             25.5           26.5            29.0\n",
      "328          328  2019-05-20 18:00:00              NaN           32.4            30.0\n",
      "329          329  2019-05-20 19:00:00              NaN           24.6            33.0\n",
      "330          330  2019-05-20 20:00:00              NaN           32.2            32.0\n",
      "331          331  2019-05-20 21:00:00              NaN           21.3            32.0\n",
      "332          332  2019-05-20 22:00:00              NaN           21.6            34.0\n",
      "333          333  2019-05-20 23:00:00              NaN           20.3            47.0\n",
      "334          334  2019-05-21 00:00:00              NaN           20.7            47.0\n",
      "335          335  2019-05-21 01:00:00              NaN           19.6            35.0\n",
      "336          336  2019-05-21 02:00:00              NaN           16.9            35.0\n",
      "337          337  2019-05-21 03:00:00             15.5           16.3            26.0\n",
      "338          338  2019-05-21 04:00:00              NaN           17.7            26.0\n",
      "339          339  2019-05-21 05:00:00              NaN           17.9            23.0\n",
      "340          340  2019-05-21 06:00:00              NaN           18.5            23.0\n",
      "341          341  2019-05-21 07:00:00              NaN           38.0            30.0\n",
      "342          342  2019-05-21 08:00:00              NaN           62.6            27.0\n",
      "343          343  2019-05-21 09:00:00              NaN           56.0            28.0\n",
      "344          344  2019-05-21 10:00:00              NaN           54.2            29.0\n",
      "345          345  2019-05-21 11:00:00              NaN           48.1            29.0\n",
      "346          346  2019-05-21 12:00:00              NaN           30.4            26.0\n",
      "347          347  2019-05-21 13:00:00              NaN           25.5            26.0\n",
      "348          348  2019-05-21 14:00:00              NaN           30.5            28.0\n",
      "349          349  2019-05-21 15:00:00              NaN           49.7            33.0\n",
      "350          350  2019-05-21 16:00:00              NaN           47.8            34.0\n",
      "351          351  2019-05-21 17:00:00              NaN           36.6            34.0\n",
      "352          352  2019-05-21 18:00:00              NaN           42.3            37.0\n",
      "353          353  2019-05-21 19:00:00              NaN           75.0            35.0\n",
      "354          354  2019-05-21 20:00:00              NaN           54.3            40.0\n",
      "355          355  2019-05-21 21:00:00              NaN           50.0            38.0\n",
      "356          356  2019-05-21 22:00:00              NaN           40.8            33.0\n",
      "357          357  2019-05-21 23:00:00              NaN           43.0            33.0\n",
      "358          358  2019-05-22 00:00:00              NaN           33.2            33.0\n",
      "359          359  2019-05-22 01:00:00              NaN           29.5            30.0\n",
      "360          360  2019-05-22 02:00:00              NaN           27.1            30.0\n",
      "361          361  2019-05-22 03:00:00             20.5           27.9            27.0\n",
      "362          362  2019-05-22 04:00:00              NaN           19.2            27.0\n",
      "363          363  2019-05-22 05:00:00              NaN           25.2            21.0\n",
      "364          364  2019-05-22 06:00:00              NaN           33.7            21.0\n",
      "365          365  2019-05-22 07:00:00              NaN           45.1            28.0\n",
      "366          366  2019-05-22 08:00:00              NaN           75.7            29.0\n",
      "367          367  2019-05-22 09:00:00              NaN           75.4            31.0\n",
      "368          368  2019-05-22 10:00:00              NaN           70.8            31.0\n",
      "369          369  2019-05-22 11:00:00              NaN           63.1            31.0\n",
      "370          370  2019-05-22 12:00:00              NaN           57.8            28.0\n",
      "371          371  2019-05-22 13:00:00              NaN           42.6            25.0\n",
      "372          372  2019-05-22 14:00:00              NaN           42.2            25.0\n",
      "373          373  2019-05-22 15:00:00              NaN           38.5            28.0\n",
      "374          374  2019-05-22 16:00:00              NaN           40.0            30.0\n",
      "375          375  2019-05-22 17:00:00              NaN           33.2            32.0\n",
      "376          376  2019-05-22 18:00:00              NaN           34.9            34.0\n",
      "377          377  2019-05-22 19:00:00              NaN           36.1            34.0\n",
      "378          378  2019-05-22 20:00:00              NaN           34.1            33.0\n",
      "379          379  2019-05-22 21:00:00              NaN           36.2            33.0\n",
      "380          380  2019-05-22 22:00:00              NaN           44.9            31.0\n",
      "381          381  2019-05-22 23:00:00              NaN           37.7            32.0\n",
      "382          382  2019-05-23 00:00:00              NaN           29.8            32.0\n",
      "383          383  2019-05-23 01:00:00              NaN           62.1            23.0\n",
      "384          384  2019-05-23 02:00:00              NaN           53.3            23.0\n",
      "385          385  2019-05-23 03:00:00             60.5           53.1            20.0\n",
      "386          386  2019-05-23 04:00:00              NaN           66.6            20.0\n",
      "387          387  2019-05-23 05:00:00              NaN           76.8            19.0\n",
      "388          388  2019-05-23 06:00:00              NaN           71.9            19.0\n",
      "389          389  2019-05-23 07:00:00              NaN           68.7            24.0\n",
      "390          390  2019-05-23 08:00:00              NaN           79.6            26.0\n",
      "391          391  2019-05-23 09:00:00              NaN           91.8            25.0\n",
      "392          392  2019-05-23 10:00:00              NaN           97.0            23.0\n",
      "393          393  2019-05-23 11:00:00              NaN           79.4            25.0\n",
      "394          394  2019-05-23 12:00:00              NaN           28.3            24.0\n",
      "395          395  2019-05-23 13:00:00              NaN           17.0            25.0\n",
      "396          396  2019-05-23 14:00:00              NaN           16.4            28.0\n",
      "397          397  2019-05-23 15:00:00              NaN           21.2            34.0\n",
      "398          398  2019-05-23 16:00:00              NaN           17.2            38.0\n",
      "399          399  2019-05-23 17:00:00              NaN           17.5            53.0\n",
      "400          400  2019-05-23 18:00:00              NaN           17.8            60.0\n",
      "401          401  2019-05-23 19:00:00              NaN           22.7            54.0\n",
      "402          402  2019-05-23 20:00:00              NaN           23.5            51.0\n",
      "403          403  2019-05-23 21:00:00              NaN           28.0            45.0\n",
      "404          404  2019-05-23 22:00:00              NaN           33.8            44.0\n",
      "405          405  2019-05-23 23:00:00              NaN           47.0            39.0\n",
      "406          406  2019-05-24 00:00:00              NaN           61.9            39.0\n",
      "407          407  2019-05-24 01:00:00              NaN           23.2            31.0\n",
      "408          408  2019-05-24 02:00:00              NaN           32.8             NaN\n",
      "409          409  2019-05-24 03:00:00             74.5           28.8            31.0\n",
      "410          410  2019-05-24 04:00:00              NaN           28.4            31.0\n",
      "411          411  2019-05-24 05:00:00              NaN           19.4            23.0\n",
      "412          412  2019-05-24 06:00:00              NaN           28.1            23.0\n",
      "413          413  2019-05-24 07:00:00              NaN           35.9            29.0\n",
      "414          414  2019-05-24 08:00:00              NaN           40.7            28.0\n",
      "415          415  2019-05-24 09:00:00              NaN           54.8            26.0\n",
      "416          416  2019-05-24 10:00:00              NaN           45.9            24.0\n",
      "417          417  2019-05-24 11:00:00              NaN           37.9            23.0\n",
      "418          418  2019-05-24 12:00:00              NaN           28.6            26.0\n",
      "419          419  2019-05-24 13:00:00              NaN           40.6            29.0\n",
      "420          420  2019-05-24 14:00:00              NaN           29.3            33.0\n",
      "421          421  2019-05-24 15:00:00              NaN           24.3            39.0\n",
      "422          422  2019-05-24 16:00:00              NaN           20.5            40.0\n",
      "423          423  2019-05-24 17:00:00              NaN           22.7            43.0\n",
      "424          424  2019-05-24 18:00:00              NaN           27.3            46.0\n",
      "425          425  2019-05-24 19:00:00              NaN           25.2            46.0\n",
      "426          426  2019-05-24 20:00:00              NaN           23.3            44.0\n",
      "427          427  2019-05-24 21:00:00              NaN           21.9            42.0\n",
      "428          428  2019-05-24 22:00:00              NaN           31.7            38.0\n",
      "429          429  2019-05-24 23:00:00              NaN           18.1            39.0\n",
      "430          430  2019-05-25 00:00:00              NaN           18.0            39.0\n",
      "431          431  2019-05-25 01:00:00              NaN           16.5            32.0\n",
      "432          432  2019-05-25 02:00:00              NaN           17.4            32.0\n",
      "433          433  2019-05-25 03:00:00             29.0           12.8            25.0\n",
      "434          434  2019-05-25 04:00:00              NaN           20.3            25.0\n",
      "435          435  2019-05-25 05:00:00              NaN            NaN            21.0\n",
      "436          436  2019-05-25 06:00:00              NaN            NaN            21.0\n",
      "437          437  2019-05-25 07:00:00              NaN            NaN            22.0\n",
      "438          438  2019-05-25 08:00:00              NaN           36.9            22.0\n",
      "439          439  2019-05-25 09:00:00              NaN           42.1            23.0\n",
      "440          440  2019-05-25 10:00:00              NaN           44.5            23.0\n",
      "441          441  2019-05-25 11:00:00              NaN           33.6            21.0\n",
      "442          442  2019-05-25 12:00:00              NaN           26.3            23.0\n",
      "443          443  2019-05-25 13:00:00              NaN           19.5            24.0\n",
      "444          444  2019-05-25 14:00:00              NaN           18.6            26.0\n",
      "445          445  2019-05-25 15:00:00              NaN           26.1            31.0\n",
      "446          446  2019-05-25 16:00:00              NaN           23.6            37.0\n",
      "447          447  2019-05-25 17:00:00              NaN           30.0            42.0\n",
      "448          448  2019-05-25 18:00:00              NaN           31.9            46.0\n",
      "449          449  2019-05-25 19:00:00              NaN           20.6            47.0\n",
      "450          450  2019-05-25 20:00:00              NaN           30.4            47.0\n",
      "451          451  2019-05-25 21:00:00              NaN           22.1            44.0\n",
      "452          452  2019-05-25 22:00:00              NaN           43.6            41.0\n",
      "453          453  2019-05-25 23:00:00              NaN           39.5            36.0\n",
      "454          454  2019-05-26 00:00:00              NaN           63.9            36.0\n",
      "455          455  2019-05-26 01:00:00              NaN           70.2            32.0\n",
      "456          456  2019-05-26 02:00:00              NaN           67.0            32.0\n",
      "457          457  2019-05-26 03:00:00             53.0           49.8            26.0\n",
      "458          458  2019-05-26 04:00:00              NaN           23.4            26.0\n",
      "459          459  2019-05-26 05:00:00              NaN           22.9            20.0\n",
      "460          460  2019-05-26 06:00:00              NaN           22.3            20.0\n",
      "461          461  2019-05-26 07:00:00              NaN           16.8            17.0\n",
      "462          462  2019-05-26 08:00:00              NaN           15.1            17.0\n",
      "463          463  2019-05-26 09:00:00              NaN           13.4            15.0\n",
      "464          464  2019-05-26 10:00:00              NaN           11.0            15.0\n",
      "465          465  2019-05-26 11:00:00              NaN           10.3            16.0\n",
      "466          466  2019-05-26 12:00:00              NaN           11.3            17.0\n",
      "467          467  2019-05-26 13:00:00              NaN           13.3            21.0\n",
      "468          468  2019-05-26 14:00:00              NaN           11.5            24.0\n",
      "469          469  2019-05-26 15:00:00              NaN           12.5            25.0\n",
      "470          470  2019-05-26 16:00:00              NaN           15.3            26.0\n",
      "471          471  2019-05-26 17:00:00              NaN           11.7            27.0\n",
      "472          472  2019-05-26 18:00:00              NaN           17.1            26.0\n",
      "473          473  2019-05-26 19:00:00              NaN           17.3            28.0\n",
      "474          474  2019-05-26 20:00:00              NaN           22.8            26.0\n",
      "475          475  2019-05-26 21:00:00              NaN           17.8            25.0\n",
      "476          476  2019-05-26 22:00:00              NaN           16.6            27.0\n",
      "477          477  2019-05-26 23:00:00              NaN           16.1            26.0\n",
      "478          478  2019-05-27 00:00:00              NaN           15.2            26.0\n",
      "479          479  2019-05-27 01:00:00              NaN           10.3            26.0\n",
      "480          480  2019-05-27 02:00:00              NaN            9.5            26.0\n",
      "481          481  2019-05-27 03:00:00             10.5            7.1            24.0\n",
      "482          482  2019-05-27 04:00:00              NaN            5.9            24.0\n",
      "483          483  2019-05-27 05:00:00              NaN            4.8            19.0\n",
      "484          484  2019-05-27 06:00:00              NaN            6.5            19.0\n",
      "485          485  2019-05-27 07:00:00              NaN           20.3            18.0\n",
      "486          486  2019-05-27 08:00:00              NaN           29.1            18.0\n",
      "487          487  2019-05-27 09:00:00              NaN           29.5            18.0\n",
      "488          488  2019-05-27 10:00:00              NaN           34.2            18.0\n",
      "489          489  2019-05-27 11:00:00              NaN           31.4            16.0\n",
      "490          490  2019-05-27 12:00:00              NaN           23.3            17.0\n",
      "491          491  2019-05-27 13:00:00              NaN           19.3            17.0\n",
      "492          492  2019-05-27 14:00:00              NaN           17.3            20.0\n",
      "493          493  2019-05-27 15:00:00              NaN           17.5            20.0\n",
      "494          494  2019-05-27 16:00:00              NaN           17.3            22.0\n",
      "495          495  2019-05-27 17:00:00              NaN           25.6            22.0\n",
      "496          496  2019-05-27 18:00:00              NaN           23.6            22.0\n",
      "497          497  2019-05-27 19:00:00              NaN           22.9            22.0\n",
      "498          498  2019-05-27 20:00:00              NaN           25.6            22.0\n",
      "499          499  2019-05-27 21:00:00              NaN           22.1            23.0\n",
      "500          500  2019-05-27 22:00:00              NaN           22.3            20.0\n",
      "501          501  2019-05-27 23:00:00              NaN           18.8            19.0\n",
      "502          502  2019-05-28 00:00:00              NaN           19.9            19.0\n",
      "503          503  2019-05-28 01:00:00              NaN           22.6            16.0\n",
      "504          504  2019-05-28 02:00:00              NaN           15.4            16.0\n",
      "505          505  2019-05-28 03:00:00             11.0            8.2            16.0\n",
      "506          506  2019-05-28 04:00:00              NaN            6.4            16.0\n",
      "507          507  2019-05-28 05:00:00              NaN            6.1            15.0\n",
      "508          508  2019-05-28 06:00:00              NaN            8.9            15.0\n",
      "509          509  2019-05-28 07:00:00              NaN           19.9            19.0\n",
      "510          510  2019-05-28 08:00:00              NaN           28.8            20.0\n",
      "511          511  2019-05-28 09:00:00              NaN           33.8            20.0\n",
      "512          512  2019-05-28 10:00:00              NaN           31.2            20.0\n",
      "513          513  2019-05-28 11:00:00              NaN           24.3            21.0\n",
      "514          514  2019-05-28 12:00:00              NaN           21.6            21.0\n",
      "515          515  2019-05-28 13:00:00              NaN           20.5            28.0\n",
      "516          516  2019-05-28 14:00:00              NaN           24.8            27.0\n",
      "517          517  2019-05-28 15:00:00              NaN           18.5            29.0\n",
      "518          518  2019-05-28 16:00:00              NaN           18.8            30.0\n",
      "519          519  2019-05-28 17:00:00              NaN           25.0            27.0\n",
      "520          520  2019-05-28 18:00:00              NaN           26.5            25.0\n",
      "521          521  2019-05-28 19:00:00              NaN           20.8            29.0\n",
      "522          522  2019-05-28 20:00:00              NaN           16.2            29.0\n",
      "523          523  2019-05-28 21:00:00              NaN           18.5            29.0\n",
      "524          524  2019-05-28 22:00:00              NaN           20.4            31.0\n",
      "525          525  2019-05-28 23:00:00              NaN           20.4             NaN\n",
      "526          526  2019-05-29 00:00:00              NaN           20.2            25.0\n",
      "527          527  2019-05-29 01:00:00              NaN           25.3            26.0\n",
      "528          528  2019-05-29 02:00:00              NaN           23.4            26.0\n",
      "529          529  2019-05-29 03:00:00             21.0           21.6            23.0\n",
      "530          530  2019-05-29 04:00:00              NaN           19.0            23.0\n",
      "531          531  2019-05-29 05:00:00              NaN           20.3            21.0\n",
      "532          532  2019-05-29 06:00:00              NaN           24.1            21.0\n",
      "533          533  2019-05-29 07:00:00              NaN           36.7            24.0\n",
      "534          534  2019-05-29 08:00:00              NaN           46.5            22.0\n",
      "535          535  2019-05-29 09:00:00              NaN           50.5            21.0\n",
      "536          536  2019-05-29 10:00:00              NaN           45.7            18.0\n",
      "537          537  2019-05-29 11:00:00              NaN           34.5            18.0\n",
      "538          538  2019-05-29 12:00:00              NaN           30.7            18.0\n",
      "539          539  2019-05-29 13:00:00              NaN           22.0            20.0\n",
      "540          540  2019-05-29 14:00:00              NaN           13.2            13.0\n",
      "541          541  2019-05-29 15:00:00              NaN           17.8            15.0\n",
      "542          542  2019-05-29 16:00:00              NaN            0.0             5.0\n",
      "543          543  2019-05-29 17:00:00              NaN            0.0             3.0\n",
      "544          544  2019-05-29 18:00:00              NaN           20.1             5.0\n",
      "545          545  2019-05-29 19:00:00              NaN           22.9             5.0\n",
      "546          546  2019-05-29 20:00:00              NaN           25.3             5.0\n",
      "547          547  2019-05-29 21:00:00              NaN           24.1             6.0\n",
      "548          548  2019-05-29 22:00:00              NaN           20.8             6.0\n",
      "549          549  2019-05-29 23:00:00              NaN           16.9             5.0\n",
      "550          550  2019-05-30 00:00:00              NaN           19.0             5.0\n",
      "551          551  2019-05-30 01:00:00              NaN           19.9             1.0\n",
      "552          552  2019-05-30 02:00:00              NaN           19.4             1.0\n",
      "553          553  2019-05-30 03:00:00              7.5           12.4             0.0\n",
      "554          554  2019-05-30 04:00:00              NaN            9.4             0.0\n",
      "555          555  2019-05-30 05:00:00              NaN           10.6             0.0\n",
      "556          556  2019-05-30 06:00:00              NaN           10.4             0.0\n",
      "557          557  2019-05-30 07:00:00              NaN           12.2             0.0\n",
      "558          558  2019-05-30 08:00:00              NaN           13.3             2.0\n",
      "559          559  2019-05-30 09:00:00              NaN           18.3             3.0\n",
      "560          560  2019-05-30 10:00:00              NaN           16.7             5.0\n",
      "561          561  2019-05-30 11:00:00              NaN           15.1             9.0\n",
      "562          562  2019-05-30 12:00:00              NaN           13.8            13.0\n",
      "563          563  2019-05-30 13:00:00              NaN           14.9            17.0\n",
      "564          564  2019-05-30 14:00:00              NaN           14.2            20.0\n",
      "565          565  2019-05-30 15:00:00              NaN           16.1            22.0\n",
      "566          566  2019-05-30 16:00:00              NaN           14.9            22.0\n",
      "567          567  2019-05-30 17:00:00              NaN           13.0            27.0\n",
      "568          568  2019-05-30 18:00:00              NaN           12.8            30.0\n",
      "569          569  2019-05-30 19:00:00              NaN           20.4            28.0\n",
      "570          570  2019-05-30 20:00:00              NaN           22.1            28.0\n",
      "571          571  2019-05-30 21:00:00              NaN           22.9            27.0\n",
      "572          572  2019-05-30 22:00:00              NaN           21.9            27.0\n",
      "573          573  2019-05-30 23:00:00              NaN           26.9            23.0\n",
      "574          574  2019-05-31 00:00:00              NaN           27.0            23.0\n",
      "575          575  2019-05-31 01:00:00              NaN           29.6            18.0\n",
      "576          576  2019-05-31 02:00:00              NaN           27.2            18.0\n",
      "577          577  2019-05-31 03:00:00              9.0           36.9            12.0\n",
      "578          578  2019-05-31 04:00:00              NaN           44.1            12.0\n",
      "579          579  2019-05-31 05:00:00              NaN           40.1             9.0\n",
      "580          580  2019-05-31 06:00:00              NaN           31.1             9.0\n",
      "581          581  2019-05-31 07:00:00              NaN           37.2             8.0\n",
      "582          582  2019-05-31 08:00:00              NaN           38.6             9.0\n",
      "583          583  2019-05-31 09:00:00              NaN           47.4             8.0\n",
      "584          584  2019-05-31 10:00:00              NaN           36.6            37.0\n",
      "585          585  2019-05-31 11:00:00              NaN           19.6            15.0\n",
      "586          586  2019-05-31 12:00:00              NaN           17.2            16.0\n",
      "587          587  2019-05-31 13:00:00              NaN           15.1            18.0\n",
      "588          588  2019-05-31 14:00:00              NaN           13.3            21.0\n",
      "589          589  2019-05-31 15:00:00              NaN           13.8            21.0\n",
      "590          590  2019-05-31 16:00:00              NaN           15.4            24.0\n",
      "591          591  2019-05-31 17:00:00              NaN           15.4            26.0\n",
      "592          592  2019-05-31 18:00:00              NaN           16.3            26.0\n",
      "593          593  2019-05-31 19:00:00              NaN           20.5            29.0\n",
      "594          594  2019-05-31 20:00:00              NaN           25.2            33.0\n",
      "595          595  2019-05-31 21:00:00              NaN           23.3            33.0\n",
      "596          596  2019-05-31 22:00:00              NaN           37.0            31.0\n",
      "597          597  2019-05-31 23:00:00              NaN           60.2            26.0\n",
      "598          598  2019-06-01 00:00:00              NaN           68.0            26.0\n",
      "599          599  2019-06-01 01:00:00              NaN           81.7            22.0\n",
      "600          600  2019-06-01 02:00:00              NaN           84.7            22.0\n",
      "601          601  2019-06-01 03:00:00             52.5           74.8            16.0\n",
      "602          602  2019-06-01 04:00:00              NaN           68.1            16.0\n",
      "603          603  2019-06-01 05:00:00              NaN            NaN            11.0\n",
      "604          604  2019-06-01 06:00:00              NaN            NaN            11.0\n",
      "605          605  2019-06-01 07:00:00              NaN            NaN             4.0\n",
      "606          606  2019-06-01 08:00:00              NaN           44.6             2.0\n",
      "607          607  2019-06-01 09:00:00              NaN           46.4             8.0\n",
      "608          608  2019-06-01 10:00:00              NaN           33.3             9.0\n",
      "609          609  2019-06-01 11:00:00              NaN           23.9            12.0\n",
      "610          610  2019-06-01 12:00:00              NaN           13.8            19.0\n",
      "611          611  2019-06-01 13:00:00              NaN           12.2            28.0\n",
      "612          612  2019-06-01 14:00:00              NaN           10.4            33.0\n",
      "613          613  2019-06-01 15:00:00              NaN           10.2            36.0\n",
      "614          614  2019-06-01 16:00:00              NaN           10.0            33.0\n",
      "615          615  2019-06-01 17:00:00              NaN           10.2            31.0\n",
      "616          616  2019-06-01 18:00:00              NaN           11.8            32.0\n",
      "617          617  2019-06-01 19:00:00              NaN           11.8            36.0\n",
      "618          618  2019-06-01 20:00:00              NaN           14.5            38.0\n",
      "619          619  2019-06-01 21:00:00              NaN           24.6            41.0\n",
      "620          620  2019-06-01 22:00:00              NaN           43.6            44.0\n",
      "621          621  2019-06-01 23:00:00              NaN           49.4            52.0\n",
      "622          622  2019-06-02 00:00:00              NaN           48.1            52.0\n",
      "623          623  2019-06-02 01:00:00              NaN           32.7            44.0\n",
      "624          624  2019-06-02 02:00:00              NaN           38.1            44.0\n",
      "625          625  2019-06-02 03:00:00              NaN           38.2            43.0\n",
      "626          626  2019-06-02 04:00:00              NaN           39.2            43.0\n",
      "627          627  2019-06-02 05:00:00              NaN           23.2            37.0\n",
      "628          628  2019-06-02 06:00:00              NaN           24.5            37.0\n",
      "629          629  2019-06-02 07:00:00              NaN           37.2            32.0\n",
      "630          630  2019-06-02 08:00:00              NaN           24.1            32.0\n",
      "631          631  2019-06-02 09:00:00              NaN           18.1            30.0\n",
      "632          632  2019-06-02 10:00:00              NaN           19.5            32.0\n",
      "633          633  2019-06-02 11:00:00              NaN           21.0            35.0\n",
      "634          634  2019-06-02 12:00:00              NaN           18.1            36.0\n",
      "635          635  2019-06-02 13:00:00              NaN           13.1            35.0\n",
      "636          636  2019-06-02 14:00:00              NaN           11.5            34.0\n",
      "637          637  2019-06-02 15:00:00              NaN           13.0            36.0\n",
      "638          638  2019-06-02 16:00:00              NaN           15.0            33.0\n",
      "639          639  2019-06-02 17:00:00              NaN           13.9            32.0\n",
      "640          640  2019-06-02 18:00:00              NaN           14.4            32.0\n",
      "641          641  2019-06-02 19:00:00              NaN           14.4            34.0\n",
      "642          642  2019-06-02 20:00:00              NaN           15.6            34.0\n",
      "643          643  2019-06-02 21:00:00              NaN           25.8            32.0\n",
      "644          644  2019-06-02 22:00:00              NaN           40.9            28.0\n",
      "645          645  2019-06-02 23:00:00              NaN           36.9            27.0\n",
      "646          646  2019-06-03 00:00:00              NaN           27.6            27.0\n",
      "647          647  2019-06-03 01:00:00              NaN           17.9            21.0\n",
      "648          648  2019-06-03 02:00:00              NaN           15.7            21.0\n",
      "649          649  2019-06-03 03:00:00              NaN           11.8            11.0\n",
      "650          650  2019-06-03 04:00:00              NaN           11.7            11.0\n",
      "651          651  2019-06-03 05:00:00              NaN            9.8             3.0\n",
      "652          652  2019-06-03 06:00:00              NaN           11.4             3.0\n",
      "653          653  2019-06-03 07:00:00              NaN           29.0             5.0\n",
      "654          654  2019-06-03 08:00:00              NaN           44.1             6.0\n",
      "655          655  2019-06-03 09:00:00              NaN           50.0             7.0\n",
      "656          656  2019-06-03 10:00:00              NaN           43.9             5.0\n",
      "657          657  2019-06-03 11:00:00              NaN           46.0            11.0\n",
      "658          658  2019-06-03 12:00:00              NaN           31.7            16.0\n",
      "659          659  2019-06-03 13:00:00              NaN           27.5            14.0\n",
      "660          660  2019-06-03 14:00:00              NaN           22.1            15.0\n",
      "661          661  2019-06-03 15:00:00              NaN           25.8            17.0\n",
      "662          662  2019-06-03 16:00:00              NaN           23.2            21.0\n",
      "663          663  2019-06-03 17:00:00              NaN           24.8            22.0\n",
      "664          664  2019-06-03 18:00:00              NaN           25.3            24.0\n",
      "665          665  2019-06-03 19:00:00              NaN           24.4            24.0\n",
      "666          666  2019-06-03 20:00:00              NaN           23.1            23.0\n",
      "667          667  2019-06-03 21:00:00              NaN           28.9            20.0\n",
      "668          668  2019-06-03 22:00:00              NaN           33.0            20.0\n",
      "669          669  2019-06-03 23:00:00              NaN           31.1            17.0\n",
      "670          670  2019-06-04 00:00:00              NaN           30.5            17.0\n",
      "671          671  2019-06-04 01:00:00              NaN           44.6            12.0\n",
      "672          672  2019-06-04 02:00:00              NaN           52.4            12.0\n",
      "673          673  2019-06-04 03:00:00              NaN           43.9             8.0\n",
      "674          674  2019-06-04 04:00:00              NaN           35.0             8.0\n",
      "675          675  2019-06-04 05:00:00              NaN           41.6             5.0\n",
      "676          676  2019-06-04 06:00:00              NaN           28.8             5.0\n",
      "677          677  2019-06-04 07:00:00              NaN           36.5            14.0\n",
      "678          678  2019-06-04 08:00:00              NaN           47.7            18.0\n",
      "679          679  2019-06-04 09:00:00              NaN           53.5            22.0\n",
      "680          680  2019-06-04 10:00:00              NaN           50.8            35.0\n",
      "681          681  2019-06-04 11:00:00              NaN           38.5            31.0\n",
      "682          682  2019-06-04 12:00:00              NaN           23.3            32.0\n",
      "683          683  2019-06-04 13:00:00              NaN           19.6            35.0\n",
      "684          684  2019-06-04 14:00:00              NaN           17.7            37.0\n",
      "685          685  2019-06-04 15:00:00              NaN           17.4            36.0\n",
      "686          686  2019-06-04 16:00:00              NaN           18.1            38.0\n",
      "687          687  2019-06-04 17:00:00              NaN           21.5            38.0\n",
      "688          688  2019-06-04 18:00:00              NaN           26.3            40.0\n",
      "689          689  2019-06-04 19:00:00              NaN           23.4            29.0\n",
      "690          690  2019-06-04 20:00:00              NaN           25.2            20.0\n",
      "691          691  2019-06-04 21:00:00              NaN           17.0            18.0\n",
      "692          692  2019-06-04 22:00:00              NaN           16.9            17.0\n",
      "693          693  2019-06-04 23:00:00              NaN           26.3            17.0\n",
      "694          694  2019-06-05 00:00:00              NaN           33.5            17.0\n",
      "695          695  2019-06-05 01:00:00              NaN           17.8            13.0\n",
      "696          696  2019-06-05 02:00:00              NaN           15.7            13.0\n",
      "697          697  2019-06-05 03:00:00             15.0           10.8             4.0\n",
      "698          698  2019-06-05 04:00:00              NaN           12.4             4.0\n",
      "699          699  2019-06-05 05:00:00              NaN           16.2             6.0\n",
      "700          700  2019-06-05 06:00:00              NaN           24.5             6.0\n",
      "701          701  2019-06-05 07:00:00              NaN           39.2             2.0\n",
      "702          702  2019-06-05 08:00:00              NaN           35.8             1.0\n",
      "703          703  2019-06-05 09:00:00              NaN           36.9             0.0\n",
      "704          704  2019-06-05 10:00:00              NaN           35.3             0.0\n",
      "705          705  2019-06-05 11:00:00              NaN           36.8             5.0\n",
      "706          706  2019-06-05 12:00:00              NaN           42.1             7.0\n",
      "707          707  2019-06-05 13:00:00              NaN           59.0             9.0\n",
      "708          708  2019-06-05 14:00:00              NaN           47.2            14.0\n",
      "709          709  2019-06-05 15:00:00              NaN           33.6            20.0\n",
      "710          710  2019-06-05 16:00:00              NaN           38.3            20.0\n",
      "711          711  2019-06-05 17:00:00              NaN           53.5            19.0\n",
      "712          712  2019-06-05 18:00:00              NaN           37.9            19.0\n",
      "713          713  2019-06-05 19:00:00              NaN           48.8            19.0\n",
      "714          714  2019-06-05 20:00:00              NaN           40.8            19.0\n",
      "715          715  2019-06-05 21:00:00              NaN           37.8            19.0\n",
      "716          716  2019-06-05 22:00:00              NaN           37.5            19.0\n",
      "717          717  2019-06-05 23:00:00              NaN           33.7            17.0\n",
      "718          718  2019-06-06 00:00:00              NaN           30.3            17.0\n",
      "719          719  2019-06-06 01:00:00              NaN           31.8             8.0\n",
      "720          720  2019-06-06 02:00:00              NaN           23.8             NaN\n",
      "721          721  2019-06-06 03:00:00              NaN           18.0             4.0\n",
      "722          722  2019-06-06 04:00:00              NaN           15.2             4.0\n",
      "723          723  2019-06-06 05:00:00              NaN           19.2             0.0\n",
      "724          724  2019-06-06 06:00:00              NaN           28.4             0.0\n",
      "725          725  2019-06-06 07:00:00              NaN           40.3             1.0\n",
      "726          726  2019-06-06 08:00:00              NaN           40.5             3.0\n",
      "727          727  2019-06-06 09:00:00              NaN           43.1             0.0\n",
      "728          728  2019-06-06 10:00:00              NaN           36.0             1.0\n",
      "729          729  2019-06-06 11:00:00              NaN           26.0             7.0\n",
      "730          730  2019-06-06 12:00:00              NaN           21.2             7.0\n",
      "731          731  2019-06-06 13:00:00              NaN           16.4            12.0\n",
      "732          732  2019-06-06 14:00:00              NaN           16.5            10.0\n",
      "733          733  2019-06-06 15:00:00              NaN           16.0            11.0\n",
      "734          734  2019-06-06 16:00:00              NaN           15.1            16.0\n",
      "735          735  2019-06-06 17:00:00              NaN            NaN            22.0\n",
      "736          736  2019-06-06 18:00:00              NaN            NaN            24.0\n",
      "737          737  2019-06-06 19:00:00              NaN            NaN            24.0\n",
      "738          738  2019-06-06 20:00:00              NaN            NaN            24.0\n",
      "739          739  2019-06-06 21:00:00              NaN            NaN            22.0\n",
      "740          740  2019-06-06 22:00:00              NaN            NaN            24.0\n",
      "741          741  2019-06-06 23:00:00              NaN            NaN            21.0\n",
      "742          742  2019-06-07 00:00:00              NaN            NaN            21.0\n",
      "743          743  2019-06-07 01:00:00              NaN            NaN            23.0\n",
      "744          744  2019-06-07 02:00:00              NaN            NaN            23.0\n",
      "745          745  2019-06-07 03:00:00              NaN            NaN            27.0\n",
      "746          746  2019-06-07 04:00:00              NaN            NaN            27.0\n",
      "747          747  2019-06-07 05:00:00              NaN            NaN            23.0\n",
      "748          748  2019-06-07 06:00:00              NaN            NaN            23.0\n",
      "749          749  2019-06-07 07:00:00              NaN            NaN            25.0\n",
      "750          750  2019-06-07 08:00:00              NaN           28.9            23.0\n",
      "751          751  2019-06-07 09:00:00              NaN           23.0            24.0\n",
      "752          752  2019-06-07 10:00:00              NaN           29.3            25.0\n",
      "753          753  2019-06-07 11:00:00              NaN           34.5            23.0\n",
      "754          754  2019-06-07 12:00:00              NaN           32.1            25.0\n",
      "755          755  2019-06-07 13:00:00              NaN           26.7            27.0\n",
      "756          756  2019-06-07 14:00:00              NaN           17.8            20.0\n",
      "757          757  2019-06-07 15:00:00              NaN           15.0            15.0\n",
      "758          758  2019-06-07 16:00:00              NaN           13.1            15.0\n",
      "759          759  2019-06-07 17:00:00              NaN           15.6            21.0\n",
      "760          760  2019-06-07 18:00:00              NaN           19.5            24.0\n",
      "761          761  2019-06-07 19:00:00              NaN           19.5            27.0\n",
      "762          762  2019-06-07 20:00:00              NaN           19.1            35.0\n",
      "763          763  2019-06-07 21:00:00              NaN           19.9            36.0\n",
      "764          764  2019-06-07 22:00:00              NaN           19.4            35.0\n",
      "765          765  2019-06-07 23:00:00              NaN           16.3             NaN\n",
      "766          766  2019-06-08 00:00:00              NaN           14.7            33.0\n",
      "767          767  2019-06-08 01:00:00              NaN           14.4            28.0\n",
      "768          768  2019-06-08 02:00:00              NaN           11.3             NaN\n",
      "769          769  2019-06-08 03:00:00              NaN            9.6             7.0\n",
      "770          770  2019-06-08 04:00:00              NaN            8.4             7.0\n",
      "771          771  2019-06-08 05:00:00              NaN            9.8             3.0\n",
      "772          772  2019-06-08 06:00:00              NaN           10.7             3.0\n",
      "773          773  2019-06-08 07:00:00              NaN           14.1             2.0\n",
      "774          774  2019-06-08 08:00:00              NaN           13.8             3.0\n",
      "775          775  2019-06-08 09:00:00              NaN           14.0             4.0\n",
      "776          776  2019-06-08 10:00:00              NaN           13.0             2.0\n",
      "777          777  2019-06-08 11:00:00              NaN           11.7             3.0\n",
      "778          778  2019-06-08 12:00:00              NaN           10.3             4.0\n",
      "779          779  2019-06-08 13:00:00              NaN           10.4             8.0\n",
      "780          780  2019-06-08 14:00:00              NaN            9.2            10.0\n",
      "781          781  2019-06-08 15:00:00              NaN           11.1            13.0\n",
      "782          782  2019-06-08 16:00:00              NaN           10.3            17.0\n",
      "783          783  2019-06-08 17:00:00              NaN           11.7            19.0\n",
      "784          784  2019-06-08 18:00:00              NaN           14.1            20.0\n",
      "785          785  2019-06-08 19:00:00              NaN           14.8            20.0\n",
      "786          786  2019-06-08 20:00:00              NaN           22.0            19.0\n",
      "787          787  2019-06-08 21:00:00              NaN            NaN            17.0\n",
      "788          788  2019-06-08 22:00:00              NaN            NaN            16.0\n",
      "789          789  2019-06-08 23:00:00              NaN           36.7             NaN\n",
      "790          790  2019-06-09 00:00:00              NaN           34.8            20.0\n",
      "791          791  2019-06-09 01:00:00              NaN           47.0            10.0\n",
      "792          792  2019-06-09 02:00:00              NaN           55.9            10.0\n",
      "793          793  2019-06-09 03:00:00             10.0           41.0             7.0\n",
      "794          794  2019-06-09 04:00:00              NaN           51.2             7.0\n",
      "795          795  2019-06-09 05:00:00              NaN           51.5             1.0\n",
      "796          796  2019-06-09 06:00:00              NaN           43.0             1.0\n",
      "797          797  2019-06-09 07:00:00              NaN           42.2             5.0\n",
      "798          798  2019-06-09 08:00:00              NaN           36.7             1.0\n",
      "799          799  2019-06-09 09:00:00              NaN           32.7             0.0\n",
      "800          800  2019-06-09 10:00:00              NaN           30.2             0.0\n",
      "801          801  2019-06-09 11:00:00              NaN           25.0             2.0\n",
      "802          802  2019-06-09 12:00:00              NaN           16.6             5.0\n",
      "803          803  2019-06-09 13:00:00              NaN           14.6             8.0\n",
      "804          804  2019-06-09 14:00:00              NaN           14.6            13.0\n",
      "805          805  2019-06-09 15:00:00              NaN           10.2            17.0\n",
      "806          806  2019-06-09 16:00:00              NaN            7.9            19.0\n",
      "807          807  2019-06-09 17:00:00              NaN            7.2            24.0\n",
      "808          808  2019-06-09 18:00:00              NaN           10.3            26.0\n",
      "809          809  2019-06-09 19:00:00              NaN           13.0            20.0\n",
      "810          810  2019-06-09 20:00:00              NaN           19.5            21.0\n",
      "811          811  2019-06-09 21:00:00              NaN           30.6            21.0\n",
      "812          812  2019-06-09 22:00:00              NaN           33.2            22.0\n",
      "813          813  2019-06-09 23:00:00              NaN           30.9             NaN\n",
      "814          814  2019-06-10 00:00:00              NaN           37.1            24.0\n",
      "815          815  2019-06-10 01:00:00              NaN           39.9            21.0\n",
      "816          816  2019-06-10 02:00:00              NaN           28.1            21.0\n",
      "817          817  2019-06-10 03:00:00             18.5           19.3            25.0\n",
      "818          818  2019-06-10 04:00:00              NaN           17.8            25.0\n",
      "819          819  2019-06-10 05:00:00              NaN           18.0            24.0\n",
      "820          820  2019-06-10 06:00:00              NaN           13.7            24.0\n",
      "821          821  2019-06-10 07:00:00              NaN           21.3            24.0\n",
      "822          822  2019-06-10 08:00:00              NaN           26.7            22.0\n",
      "823          823  2019-06-10 09:00:00              NaN           23.0            27.0\n",
      "824          824  2019-06-10 10:00:00              NaN           16.9            34.0\n",
      "825          825  2019-06-10 11:00:00              NaN           18.5            45.0\n",
      "826          826  2019-06-10 12:00:00              NaN           14.1            41.0\n",
      "827          827  2019-06-10 13:00:00              NaN           12.2            45.0\n",
      "828          828  2019-06-10 14:00:00              NaN           11.7            51.0\n",
      "829          829  2019-06-10 15:00:00              NaN            9.6            40.0\n",
      "830          830  2019-06-10 16:00:00              NaN            9.5            40.0\n",
      "831          831  2019-06-10 17:00:00              NaN           11.7            31.0\n",
      "832          832  2019-06-10 18:00:00              NaN           15.1            28.0\n",
      "833          833  2019-06-10 19:00:00              NaN           19.1            26.0\n",
      "834          834  2019-06-10 20:00:00              NaN           18.4            25.0\n",
      "835          835  2019-06-10 21:00:00              NaN           22.3            26.0\n",
      "836          836  2019-06-10 22:00:00              NaN           22.6            24.0\n",
      "837          837  2019-06-10 23:00:00              NaN           23.5            23.0\n",
      "838          838  2019-06-11 00:00:00              NaN           24.8            23.0\n",
      "839          839  2019-06-11 01:00:00              NaN           24.1            15.0\n",
      "840          840  2019-06-11 02:00:00              NaN           19.6            15.0\n",
      "841          841  2019-06-11 03:00:00              7.5           19.1            16.0\n",
      "842          842  2019-06-11 04:00:00              NaN           29.6            16.0\n",
      "843          843  2019-06-11 05:00:00              NaN           32.3            13.0\n",
      "844          844  2019-06-11 06:00:00              NaN           52.7            13.0\n",
      "845          845  2019-06-11 07:00:00              NaN           58.7            17.0\n",
      "846          846  2019-06-11 08:00:00              NaN           55.4            18.0\n",
      "847          847  2019-06-11 09:00:00              NaN           58.0            21.0\n",
      "848          848  2019-06-11 10:00:00              NaN           43.6            23.0\n",
      "849          849  2019-06-11 11:00:00              NaN           31.7            22.0\n",
      "850          850  2019-06-11 12:00:00              NaN           22.1            22.0\n",
      "851          851  2019-06-11 13:00:00              NaN           17.3            23.0\n",
      "852          852  2019-06-11 14:00:00              NaN           12.6            26.0\n",
      "853          853  2019-06-11 15:00:00              NaN           13.1            35.0\n",
      "854          854  2019-06-11 16:00:00              NaN           16.6            31.0\n",
      "855          855  2019-06-11 17:00:00              NaN           19.8            31.0\n",
      "856          856  2019-06-11 18:00:00              NaN           22.6            30.0\n",
      "857          857  2019-06-11 19:00:00              NaN           35.5            31.0\n",
      "858          858  2019-06-11 20:00:00              NaN           44.6            30.0\n",
      "859          859  2019-06-11 21:00:00              NaN           36.1            22.0\n",
      "860          860  2019-06-11 22:00:00              NaN           42.7            22.0\n",
      "861          861  2019-06-11 23:00:00              NaN           54.1            20.0\n",
      "862          862  2019-06-12 00:00:00              NaN           59.4            20.0\n",
      "863          863  2019-06-12 01:00:00              NaN           41.5            15.0\n",
      "864          864  2019-06-12 02:00:00              NaN           37.2             NaN\n",
      "865          865  2019-06-12 03:00:00             21.0           41.9             NaN\n",
      "866          866  2019-06-12 04:00:00              NaN           34.7            11.0\n",
      "867          867  2019-06-12 05:00:00              NaN           36.3             9.0\n",
      "868          868  2019-06-12 06:00:00              NaN           44.9             9.0\n",
      "869          869  2019-06-12 07:00:00              NaN           42.7            12.0\n",
      "870          870  2019-06-12 08:00:00              NaN           38.4            17.0\n",
      "871          871  2019-06-12 09:00:00              NaN           44.4            20.0\n",
      "872          872  2019-06-12 10:00:00              NaN           35.5            22.0\n",
      "873          873  2019-06-12 11:00:00              NaN           26.7            25.0\n",
      "874          874  2019-06-12 12:00:00              NaN            0.0            35.0\n",
      "875          875  2019-06-12 13:00:00              NaN            0.0            33.0\n",
      "876          876  2019-06-12 14:00:00              NaN           15.4            33.0\n",
      "877          877  2019-06-12 15:00:00              NaN           17.9            35.0\n",
      "878          878  2019-06-12 16:00:00              NaN           20.3            42.0\n",
      "879          879  2019-06-12 17:00:00              NaN           16.8            45.0\n",
      "880          880  2019-06-12 18:00:00              NaN           23.6            43.0\n",
      "881          881  2019-06-12 19:00:00              NaN           24.2            45.0\n",
      "882          882  2019-06-12 20:00:00              NaN           25.3            33.0\n",
      "883          883  2019-06-12 21:00:00              NaN           23.4            41.0\n",
      "884          884  2019-06-12 22:00:00              NaN           29.2            43.0\n",
      "885          885  2019-06-12 23:00:00              NaN           29.3             NaN\n",
      "886          886  2019-06-13 00:00:00              NaN           25.6            35.0\n",
      "887          887  2019-06-13 01:00:00              NaN           26.9            29.0\n",
      "888          888  2019-06-13 02:00:00              NaN           20.0             NaN\n",
      "889          889  2019-06-13 03:00:00             28.5           18.7            26.0\n",
      "890          890  2019-06-13 04:00:00              NaN           18.0            26.0\n",
      "891          891  2019-06-13 05:00:00              NaN           18.8            16.0\n",
      "892          892  2019-06-13 06:00:00              NaN           24.6            16.0\n",
      "893          893  2019-06-13 07:00:00              NaN           37.0            19.0\n",
      "894          894  2019-06-13 08:00:00              NaN           39.8            21.0\n",
      "895          895  2019-06-13 09:00:00              NaN           40.9            19.0\n",
      "896          896  2019-06-13 10:00:00              NaN           35.3            16.0\n",
      "897          897  2019-06-13 11:00:00              NaN           30.2            18.0\n",
      "898          898  2019-06-13 12:00:00              NaN           24.5            19.0\n",
      "899          899  2019-06-13 13:00:00              NaN           22.7            19.0\n",
      "900          900  2019-06-13 14:00:00              NaN           17.9            16.0\n",
      "901          901  2019-06-13 15:00:00              NaN           18.2            15.0\n",
      "902          902  2019-06-13 16:00:00              NaN           19.4            13.0\n",
      "903          903  2019-06-13 17:00:00              NaN           28.8            11.0\n",
      "904          904  2019-06-13 18:00:00              NaN           36.1            15.0\n",
      "905          905  2019-06-13 19:00:00              NaN           38.2            14.0\n",
      "906          906  2019-06-13 20:00:00              NaN           24.0            13.0\n",
      "907          907  2019-06-13 21:00:00              NaN           27.5            14.0\n",
      "908          908  2019-06-13 22:00:00              NaN           31.5            15.0\n",
      "909          909  2019-06-13 23:00:00              NaN           58.8            15.0\n",
      "910          910  2019-06-14 00:00:00              NaN           77.9            15.0\n",
      "911          911  2019-06-14 01:00:00              NaN           78.3            13.0\n",
      "912          912  2019-06-14 02:00:00              NaN           74.2             NaN\n",
      "913          913  2019-06-14 03:00:00              NaN           68.1             8.0\n",
      "914          914  2019-06-14 04:00:00              NaN           66.6             8.0\n",
      "915          915  2019-06-14 05:00:00              NaN           48.5             6.0\n",
      "916          916  2019-06-14 06:00:00              NaN           37.9             6.0\n",
      "917          917  2019-06-14 07:00:00              NaN           49.3            13.0\n",
      "918          918  2019-06-14 08:00:00              NaN           64.3            11.0\n",
      "919          919  2019-06-14 09:00:00              NaN           51.5            11.0\n",
      "920          920  2019-06-14 10:00:00              NaN           34.3            14.0\n",
      "921          921  2019-06-14 11:00:00             36.5           27.9            13.0\n",
      "922          922  2019-06-14 12:00:00              NaN           25.1            13.0\n",
      "923          923  2019-06-14 13:00:00              NaN           21.8            15.0\n",
      "924          924  2019-06-14 14:00:00              NaN           17.1            16.0\n",
      "925          925  2019-06-14 15:00:00              NaN           15.4            22.0\n",
      "926          926  2019-06-14 16:00:00              NaN           14.2            25.0\n",
      "927          927  2019-06-14 17:00:00              NaN           15.2            25.0\n",
      "928          928  2019-06-14 18:00:00              NaN           18.9            26.0\n",
      "929          929  2019-06-14 19:00:00              NaN           16.6            27.0\n",
      "930          930  2019-06-14 20:00:00              NaN           19.0            26.0\n",
      "931          931  2019-06-14 21:00:00              NaN           25.0            26.0\n",
      "932          932  2019-06-14 22:00:00              NaN           41.9            25.0\n",
      "933          933  2019-06-14 23:00:00              NaN           55.0            26.0\n",
      "934          934  2019-06-15 00:00:00              NaN           35.3            26.0\n",
      "935          935  2019-06-15 01:00:00              NaN           32.1            26.0\n",
      "936          936  2019-06-15 02:00:00              NaN           29.6             NaN\n",
      "937          937  2019-06-15 03:00:00             17.5           29.0             NaN\n",
      "938          938  2019-06-15 04:00:00              NaN           33.9             NaN\n",
      "939          939  2019-06-15 05:00:00              NaN            NaN            10.0\n",
      "940          940  2019-06-15 06:00:00              NaN            NaN            10.0\n",
      "941          941  2019-06-15 07:00:00              NaN            NaN            13.0\n",
      "942          942  2019-06-15 08:00:00              NaN           35.8            13.0\n",
      "943          943  2019-06-15 09:00:00              NaN           24.1             8.0\n",
      "944          944  2019-06-15 10:00:00              NaN           17.6             8.0\n",
      "945          945  2019-06-15 11:00:00              NaN           14.0            12.0\n",
      "946          946  2019-06-15 12:00:00              NaN           12.1            14.0\n",
      "947          947  2019-06-15 13:00:00              NaN           11.1            13.0\n",
      "948          948  2019-06-15 14:00:00              NaN            9.4            18.0\n",
      "949          949  2019-06-15 15:00:00              NaN            9.0            17.0\n",
      "950          950  2019-06-15 16:00:00              NaN            9.6            18.0\n",
      "951          951  2019-06-15 17:00:00              NaN           10.5            18.0\n",
      "952          952  2019-06-15 18:00:00              NaN           10.7            20.0\n",
      "953          953  2019-06-15 19:00:00              NaN           11.1            22.0\n",
      "954          954  2019-06-15 20:00:00              NaN           14.0            22.0\n",
      "955          955  2019-06-15 21:00:00              NaN           14.2            21.0\n",
      "956          956  2019-06-15 22:00:00              NaN           15.2            20.0\n",
      "957          957  2019-06-15 23:00:00              NaN           17.2            19.0\n",
      "958          958  2019-06-16 00:00:00              NaN           20.1            19.0\n",
      "959          959  2019-06-16 01:00:00              NaN           22.6            15.0\n",
      "960          960  2019-06-16 02:00:00              NaN           16.5            15.0\n",
      "961          961  2019-06-16 03:00:00             42.5           12.8            12.0\n",
      "962          962  2019-06-16 04:00:00              NaN           11.4            12.0\n",
      "963          963  2019-06-16 05:00:00              NaN           11.2            10.0\n",
      "964          964  2019-06-16 06:00:00              NaN           11.7            10.0\n",
      "965          965  2019-06-16 07:00:00              NaN           14.0             8.0\n",
      "966          966  2019-06-16 08:00:00              NaN           11.6             5.0\n",
      "967          967  2019-06-16 09:00:00              NaN           10.2             4.0\n",
      "968          968  2019-06-16 10:00:00              NaN            9.9             5.0\n",
      "969          969  2019-06-16 11:00:00              NaN            9.4             6.0\n",
      "970          970  2019-06-16 12:00:00              NaN            8.7             6.0\n",
      "971          971  2019-06-16 13:00:00              NaN           12.9            10.0\n",
      "972          972  2019-06-16 14:00:00              NaN           11.2            16.0\n",
      "973          973  2019-06-16 15:00:00              NaN            8.7            23.0\n",
      "974          974  2019-06-16 16:00:00              NaN            8.1            26.0\n",
      "975          975  2019-06-16 17:00:00              NaN            8.4            29.0\n",
      "976          976  2019-06-16 18:00:00              NaN            9.2            29.0\n",
      "977          977  2019-06-16 19:00:00              NaN           11.8            28.0\n",
      "978          978  2019-06-16 20:00:00              NaN           12.3            28.0\n",
      "979          979  2019-06-16 21:00:00              NaN           14.4            27.0\n",
      "980          980  2019-06-16 22:00:00              NaN           23.3            25.0\n",
      "981          981  2019-06-16 23:00:00              NaN           42.7             NaN\n",
      "982          982  2019-06-17 00:00:00              NaN           56.6            23.0\n",
      "983          983  2019-06-17 01:00:00              NaN           67.3            17.0\n",
      "984          984  2019-06-17 02:00:00              NaN           69.3            17.0\n",
      "985          985  2019-06-17 03:00:00             42.0           58.8            14.0\n",
      "986          986  2019-06-17 04:00:00             35.5           53.1            14.0\n",
      "987          987  2019-06-17 05:00:00             36.0           49.1            11.0\n",
      "988          988  2019-06-17 06:00:00             39.5           45.7            11.0\n",
      "989          989  2019-06-17 07:00:00             42.5           44.8            12.0\n",
      "990          990  2019-06-17 08:00:00             43.5           52.3            13.0\n",
      "991          991  2019-06-17 09:00:00             45.0           54.4            13.0\n",
      "992          992  2019-06-17 10:00:00             41.0           51.6            11.0\n",
      "993          993  2019-06-17 11:00:00              NaN           30.4            11.0\n",
      "994          994  2019-06-17 12:00:00              NaN           16.0            11.0\n",
      "995          995  2019-06-17 13:00:00              NaN           15.2             NaN\n",
      "996          996  2019-06-17 14:00:00              NaN           10.1             NaN\n",
      "997          997  2019-06-17 15:00:00              NaN            9.6             NaN\n",
      "998          998  2019-06-17 16:00:00              NaN           11.5             NaN\n",
      "999          999  2019-06-17 17:00:00              NaN           13.1             NaN\n",
      "1000        1000  2019-06-17 18:00:00              NaN           11.9             NaN\n",
      "1001        1001  2019-06-17 19:00:00              NaN           14.9             NaN\n",
      "1002        1002  2019-06-17 20:00:00              NaN           15.4             NaN\n",
      "1003        1003  2019-06-17 21:00:00              NaN           15.2             NaN\n",
      "1004        1004  2019-06-17 22:00:00              NaN           20.5             NaN\n",
      "1005        1005  2019-06-17 23:00:00              NaN           38.3             NaN\n",
      "1006        1006  2019-06-18 00:00:00              NaN           51.0             NaN\n",
      "1007        1007  2019-06-18 01:00:00              NaN           73.3             NaN\n",
      "1008        1008  2019-06-18 02:00:00              NaN           66.2             NaN\n",
      "1009        1009  2019-06-18 03:00:00              NaN           60.1             NaN\n",
      "1010        1010  2019-06-18 04:00:00              NaN           39.8             NaN\n",
      "1011        1011  2019-06-18 05:00:00              NaN           45.5             NaN\n",
      "1012        1012  2019-06-18 06:00:00              NaN           26.5             NaN\n",
      "1013        1013  2019-06-18 07:00:00              NaN           33.8             NaN\n",
      "1014        1014  2019-06-18 08:00:00              NaN           51.4             NaN\n",
      "1015        1015  2019-06-18 09:00:00              NaN           52.6             NaN\n",
      "1016        1016  2019-06-18 10:00:00              NaN           49.6             NaN\n",
      "1017        1017  2019-06-18 21:00:00              NaN           15.3             NaN\n",
      "1018        1018  2019-06-18 22:00:00              NaN           17.0             NaN\n",
      "1019        1019  2019-06-18 23:00:00              NaN           23.1             NaN\n",
      "1020        1020  2019-06-19 00:00:00              NaN           39.3             NaN\n",
      "1021        1021  2019-06-19 11:00:00              NaN           27.3             NaN\n",
      "1022        1022  2019-06-19 12:00:00              NaN           26.6             NaN\n",
      "1023        1023  2019-06-20 15:00:00              NaN           19.4             NaN\n",
      "1024        1024  2019-06-20 16:00:00              NaN           20.1             NaN\n",
      "1025        1025  2019-06-20 17:00:00              NaN           19.3             NaN\n",
      "1026        1026  2019-06-20 18:00:00              NaN           19.0             NaN\n",
      "1027        1027  2019-06-20 19:00:00              NaN           23.2             NaN\n",
      "1028        1028  2019-06-20 20:00:00              NaN           23.9             NaN\n",
      "1029        1029  2019-06-20 21:00:00              NaN           25.3             NaN\n",
      "1030        1030  2019-06-20 22:00:00              NaN           21.4             NaN\n",
      "1031        1031  2019-06-20 23:00:00              NaN           24.9             NaN\n",
      "1032        1032  2019-06-21 00:00:00              NaN           26.5             NaN\n",
      "1033        1033  2019-06-21 01:00:00              NaN           21.8             NaN\n",
      "1034        1034  2019-06-21 02:00:00              NaN           20.0             NaN\n"
     ]
    }
   ],
   "source": [
    "print(df.to_string())"
   ]
  },
  {
   "cell_type": "code",
   "execution_count": 16,
   "id": "61bdb46c",
   "metadata": {},
   "outputs": [
    {
     "name": "stdout",
     "output_type": "stream",
     "text": [
      "      Unnamed: 0             datetime  station_antwerp  station_paris   \n",
      "0              0  2019-05-07 02:00:00              NaN            NaN  \\\n",
      "1              1  2019-05-07 03:00:00             50.5           25.0   \n",
      "2              2  2019-05-07 04:00:00             45.0           27.7   \n",
      "3              3  2019-05-07 05:00:00              NaN           50.4   \n",
      "4              4  2019-05-07 06:00:00              NaN           61.9   \n",
      "...          ...                  ...              ...            ...   \n",
      "1030        1030  2019-06-20 22:00:00              NaN           21.4   \n",
      "1031        1031  2019-06-20 23:00:00              NaN           24.9   \n",
      "1032        1032  2019-06-21 00:00:00              NaN           26.5   \n",
      "1033        1033  2019-06-21 01:00:00              NaN           21.8   \n",
      "1034        1034  2019-06-21 02:00:00              NaN           20.0   \n",
      "\n",
      "      station_london  \n",
      "0               23.0  \n",
      "1               19.0  \n",
      "2               19.0  \n",
      "3               16.0  \n",
      "4                NaN  \n",
      "...              ...  \n",
      "1030             NaN  \n",
      "1031             NaN  \n",
      "1032             NaN  \n",
      "1033             NaN  \n",
      "1034             NaN  \n",
      "\n",
      "[1035 rows x 5 columns]\n"
     ]
    }
   ],
   "source": [
    "print(df)"
   ]
  },
  {
   "cell_type": "code",
   "execution_count": 17,
   "id": "f191a7d6",
   "metadata": {},
   "outputs": [
    {
     "data": {
      "text/html": [
       "<div>\n",
       "<style scoped>\n",
       "    .dataframe tbody tr th:only-of-type {\n",
       "        vertical-align: middle;\n",
       "    }\n",
       "\n",
       "    .dataframe tbody tr th {\n",
       "        vertical-align: top;\n",
       "    }\n",
       "\n",
       "    .dataframe thead th {\n",
       "        text-align: right;\n",
       "    }\n",
       "</style>\n",
       "<table border=\"1\" class=\"dataframe\">\n",
       "  <thead>\n",
       "    <tr style=\"text-align: right;\">\n",
       "      <th></th>\n",
       "      <th>Unnamed: 0</th>\n",
       "      <th>datetime</th>\n",
       "      <th>station_antwerp</th>\n",
       "      <th>station_paris</th>\n",
       "      <th>station_london</th>\n",
       "    </tr>\n",
       "  </thead>\n",
       "  <tbody>\n",
       "    <tr>\n",
       "      <th>0</th>\n",
       "      <td>0</td>\n",
       "      <td>2019-05-07 02:00:00</td>\n",
       "      <td>NaN</td>\n",
       "      <td>NaN</td>\n",
       "      <td>23.0</td>\n",
       "    </tr>\n",
       "    <tr>\n",
       "      <th>1</th>\n",
       "      <td>1</td>\n",
       "      <td>2019-05-07 03:00:00</td>\n",
       "      <td>50.5</td>\n",
       "      <td>25.0</td>\n",
       "      <td>19.0</td>\n",
       "    </tr>\n",
       "    <tr>\n",
       "      <th>2</th>\n",
       "      <td>2</td>\n",
       "      <td>2019-05-07 04:00:00</td>\n",
       "      <td>45.0</td>\n",
       "      <td>27.7</td>\n",
       "      <td>19.0</td>\n",
       "    </tr>\n",
       "    <tr>\n",
       "      <th>3</th>\n",
       "      <td>3</td>\n",
       "      <td>2019-05-07 05:00:00</td>\n",
       "      <td>NaN</td>\n",
       "      <td>50.4</td>\n",
       "      <td>16.0</td>\n",
       "    </tr>\n",
       "    <tr>\n",
       "      <th>4</th>\n",
       "      <td>4</td>\n",
       "      <td>2019-05-07 06:00:00</td>\n",
       "      <td>NaN</td>\n",
       "      <td>61.9</td>\n",
       "      <td>NaN</td>\n",
       "    </tr>\n",
       "    <tr>\n",
       "      <th>...</th>\n",
       "      <td>...</td>\n",
       "      <td>...</td>\n",
       "      <td>...</td>\n",
       "      <td>...</td>\n",
       "      <td>...</td>\n",
       "    </tr>\n",
       "    <tr>\n",
       "      <th>1030</th>\n",
       "      <td>1030</td>\n",
       "      <td>2019-06-20 22:00:00</td>\n",
       "      <td>NaN</td>\n",
       "      <td>21.4</td>\n",
       "      <td>NaN</td>\n",
       "    </tr>\n",
       "    <tr>\n",
       "      <th>1031</th>\n",
       "      <td>1031</td>\n",
       "      <td>2019-06-20 23:00:00</td>\n",
       "      <td>NaN</td>\n",
       "      <td>24.9</td>\n",
       "      <td>NaN</td>\n",
       "    </tr>\n",
       "    <tr>\n",
       "      <th>1032</th>\n",
       "      <td>1032</td>\n",
       "      <td>2019-06-21 00:00:00</td>\n",
       "      <td>NaN</td>\n",
       "      <td>26.5</td>\n",
       "      <td>NaN</td>\n",
       "    </tr>\n",
       "    <tr>\n",
       "      <th>1033</th>\n",
       "      <td>1033</td>\n",
       "      <td>2019-06-21 01:00:00</td>\n",
       "      <td>NaN</td>\n",
       "      <td>21.8</td>\n",
       "      <td>NaN</td>\n",
       "    </tr>\n",
       "    <tr>\n",
       "      <th>1034</th>\n",
       "      <td>1034</td>\n",
       "      <td>2019-06-21 02:00:00</td>\n",
       "      <td>NaN</td>\n",
       "      <td>20.0</td>\n",
       "      <td>NaN</td>\n",
       "    </tr>\n",
       "  </tbody>\n",
       "</table>\n",
       "<p>1035 rows × 5 columns</p>\n",
       "</div>"
      ],
      "text/plain": [
       "      Unnamed: 0             datetime  station_antwerp  station_paris   \n",
       "0              0  2019-05-07 02:00:00              NaN            NaN  \\\n",
       "1              1  2019-05-07 03:00:00             50.5           25.0   \n",
       "2              2  2019-05-07 04:00:00             45.0           27.7   \n",
       "3              3  2019-05-07 05:00:00              NaN           50.4   \n",
       "4              4  2019-05-07 06:00:00              NaN           61.9   \n",
       "...          ...                  ...              ...            ...   \n",
       "1030        1030  2019-06-20 22:00:00              NaN           21.4   \n",
       "1031        1031  2019-06-20 23:00:00              NaN           24.9   \n",
       "1032        1032  2019-06-21 00:00:00              NaN           26.5   \n",
       "1033        1033  2019-06-21 01:00:00              NaN           21.8   \n",
       "1034        1034  2019-06-21 02:00:00              NaN           20.0   \n",
       "\n",
       "      station_london  \n",
       "0               23.0  \n",
       "1               19.0  \n",
       "2               19.0  \n",
       "3               16.0  \n",
       "4                NaN  \n",
       "...              ...  \n",
       "1030             NaN  \n",
       "1031             NaN  \n",
       "1032             NaN  \n",
       "1033             NaN  \n",
       "1034             NaN  \n",
       "\n",
       "[1035 rows x 5 columns]"
      ]
     },
     "execution_count": 17,
     "metadata": {},
     "output_type": "execute_result"
    }
   ],
   "source": [
    "df"
   ]
  },
  {
   "cell_type": "markdown",
   "id": "ef167d2e",
   "metadata": {},
   "source": [
    "### Maximum ROWS returned in pandas"
   ]
  },
  {
   "cell_type": "code",
   "execution_count": 18,
   "id": "b072edbf",
   "metadata": {},
   "outputs": [
    {
     "name": "stdout",
     "output_type": "stream",
     "text": [
      "10\n"
     ]
    }
   ],
   "source": [
    "print(pd.options.display.min_rows)"
   ]
  },
  {
   "cell_type": "code",
   "execution_count": 19,
   "id": "a47bd1ab",
   "metadata": {},
   "outputs": [
    {
     "name": "stdout",
     "output_type": "stream",
     "text": [
      "60\n"
     ]
    }
   ],
   "source": [
    "print(pd.options.display.max_rows)"
   ]
  },
  {
   "cell_type": "code",
   "execution_count": 20,
   "id": "06089d49",
   "metadata": {},
   "outputs": [
    {
     "name": "stdout",
     "output_type": "stream",
     "text": [
      "20\n"
     ]
    }
   ],
   "source": [
    "print(pd.options.display.max_columns)"
   ]
  },
  {
   "cell_type": "markdown",
   "id": "2806f001",
   "metadata": {},
   "source": [
    "# Analyzing data"
   ]
  },
  {
   "cell_type": "code",
   "execution_count": 21,
   "id": "04a7ca18",
   "metadata": {},
   "outputs": [
    {
     "data": {
      "text/html": [
       "<div>\n",
       "<style scoped>\n",
       "    .dataframe tbody tr th:only-of-type {\n",
       "        vertical-align: middle;\n",
       "    }\n",
       "\n",
       "    .dataframe tbody tr th {\n",
       "        vertical-align: top;\n",
       "    }\n",
       "\n",
       "    .dataframe thead th {\n",
       "        text-align: right;\n",
       "    }\n",
       "</style>\n",
       "<table border=\"1\" class=\"dataframe\">\n",
       "  <thead>\n",
       "    <tr style=\"text-align: right;\">\n",
       "      <th></th>\n",
       "      <th>Unnamed: 0</th>\n",
       "      <th>datetime</th>\n",
       "      <th>station_antwerp</th>\n",
       "      <th>station_paris</th>\n",
       "      <th>station_london</th>\n",
       "    </tr>\n",
       "  </thead>\n",
       "  <tbody>\n",
       "    <tr>\n",
       "      <th>0</th>\n",
       "      <td>0</td>\n",
       "      <td>2019-05-07 02:00:00</td>\n",
       "      <td>NaN</td>\n",
       "      <td>NaN</td>\n",
       "      <td>23.0</td>\n",
       "    </tr>\n",
       "    <tr>\n",
       "      <th>1</th>\n",
       "      <td>1</td>\n",
       "      <td>2019-05-07 03:00:00</td>\n",
       "      <td>50.5</td>\n",
       "      <td>25.0</td>\n",
       "      <td>19.0</td>\n",
       "    </tr>\n",
       "    <tr>\n",
       "      <th>2</th>\n",
       "      <td>2</td>\n",
       "      <td>2019-05-07 04:00:00</td>\n",
       "      <td>45.0</td>\n",
       "      <td>27.7</td>\n",
       "      <td>19.0</td>\n",
       "    </tr>\n",
       "    <tr>\n",
       "      <th>3</th>\n",
       "      <td>3</td>\n",
       "      <td>2019-05-07 05:00:00</td>\n",
       "      <td>NaN</td>\n",
       "      <td>50.4</td>\n",
       "      <td>16.0</td>\n",
       "    </tr>\n",
       "    <tr>\n",
       "      <th>4</th>\n",
       "      <td>4</td>\n",
       "      <td>2019-05-07 06:00:00</td>\n",
       "      <td>NaN</td>\n",
       "      <td>61.9</td>\n",
       "      <td>NaN</td>\n",
       "    </tr>\n",
       "  </tbody>\n",
       "</table>\n",
       "</div>"
      ],
      "text/plain": [
       "   Unnamed: 0             datetime  station_antwerp  station_paris   \n",
       "0           0  2019-05-07 02:00:00              NaN            NaN  \\\n",
       "1           1  2019-05-07 03:00:00             50.5           25.0   \n",
       "2           2  2019-05-07 04:00:00             45.0           27.7   \n",
       "3           3  2019-05-07 05:00:00              NaN           50.4   \n",
       "4           4  2019-05-07 06:00:00              NaN           61.9   \n",
       "\n",
       "   station_london  \n",
       "0            23.0  \n",
       "1            19.0  \n",
       "2            19.0  \n",
       "3            16.0  \n",
       "4             NaN  "
      ]
     },
     "execution_count": 21,
     "metadata": {},
     "output_type": "execute_result"
    }
   ],
   "source": [
    "df.head()"
   ]
  },
  {
   "cell_type": "code",
   "execution_count": 22,
   "id": "cc5d45a4",
   "metadata": {},
   "outputs": [
    {
     "data": {
      "text/html": [
       "<div>\n",
       "<style scoped>\n",
       "    .dataframe tbody tr th:only-of-type {\n",
       "        vertical-align: middle;\n",
       "    }\n",
       "\n",
       "    .dataframe tbody tr th {\n",
       "        vertical-align: top;\n",
       "    }\n",
       "\n",
       "    .dataframe thead th {\n",
       "        text-align: right;\n",
       "    }\n",
       "</style>\n",
       "<table border=\"1\" class=\"dataframe\">\n",
       "  <thead>\n",
       "    <tr style=\"text-align: right;\">\n",
       "      <th></th>\n",
       "      <th>Unnamed: 0</th>\n",
       "      <th>datetime</th>\n",
       "      <th>station_antwerp</th>\n",
       "      <th>station_paris</th>\n",
       "      <th>station_london</th>\n",
       "    </tr>\n",
       "  </thead>\n",
       "  <tbody>\n",
       "    <tr>\n",
       "      <th>1030</th>\n",
       "      <td>1030</td>\n",
       "      <td>2019-06-20 22:00:00</td>\n",
       "      <td>NaN</td>\n",
       "      <td>21.4</td>\n",
       "      <td>NaN</td>\n",
       "    </tr>\n",
       "    <tr>\n",
       "      <th>1031</th>\n",
       "      <td>1031</td>\n",
       "      <td>2019-06-20 23:00:00</td>\n",
       "      <td>NaN</td>\n",
       "      <td>24.9</td>\n",
       "      <td>NaN</td>\n",
       "    </tr>\n",
       "    <tr>\n",
       "      <th>1032</th>\n",
       "      <td>1032</td>\n",
       "      <td>2019-06-21 00:00:00</td>\n",
       "      <td>NaN</td>\n",
       "      <td>26.5</td>\n",
       "      <td>NaN</td>\n",
       "    </tr>\n",
       "    <tr>\n",
       "      <th>1033</th>\n",
       "      <td>1033</td>\n",
       "      <td>2019-06-21 01:00:00</td>\n",
       "      <td>NaN</td>\n",
       "      <td>21.8</td>\n",
       "      <td>NaN</td>\n",
       "    </tr>\n",
       "    <tr>\n",
       "      <th>1034</th>\n",
       "      <td>1034</td>\n",
       "      <td>2019-06-21 02:00:00</td>\n",
       "      <td>NaN</td>\n",
       "      <td>20.0</td>\n",
       "      <td>NaN</td>\n",
       "    </tr>\n",
       "  </tbody>\n",
       "</table>\n",
       "</div>"
      ],
      "text/plain": [
       "      Unnamed: 0             datetime  station_antwerp  station_paris   \n",
       "1030        1030  2019-06-20 22:00:00              NaN           21.4  \\\n",
       "1031        1031  2019-06-20 23:00:00              NaN           24.9   \n",
       "1032        1032  2019-06-21 00:00:00              NaN           26.5   \n",
       "1033        1033  2019-06-21 01:00:00              NaN           21.8   \n",
       "1034        1034  2019-06-21 02:00:00              NaN           20.0   \n",
       "\n",
       "      station_london  \n",
       "1030             NaN  \n",
       "1031             NaN  \n",
       "1032             NaN  \n",
       "1033             NaN  \n",
       "1034             NaN  "
      ]
     },
     "execution_count": 22,
     "metadata": {},
     "output_type": "execute_result"
    }
   ],
   "source": [
    "df.tail()"
   ]
  },
  {
   "cell_type": "code",
   "execution_count": 23,
   "id": "4370e01e",
   "metadata": {},
   "outputs": [
    {
     "data": {
      "text/html": [
       "<div>\n",
       "<style scoped>\n",
       "    .dataframe tbody tr th:only-of-type {\n",
       "        vertical-align: middle;\n",
       "    }\n",
       "\n",
       "    .dataframe tbody tr th {\n",
       "        vertical-align: top;\n",
       "    }\n",
       "\n",
       "    .dataframe thead th {\n",
       "        text-align: right;\n",
       "    }\n",
       "</style>\n",
       "<table border=\"1\" class=\"dataframe\">\n",
       "  <thead>\n",
       "    <tr style=\"text-align: right;\">\n",
       "      <th></th>\n",
       "      <th>Unnamed: 0</th>\n",
       "      <th>datetime</th>\n",
       "      <th>station_antwerp</th>\n",
       "      <th>station_paris</th>\n",
       "      <th>station_london</th>\n",
       "    </tr>\n",
       "  </thead>\n",
       "  <tbody>\n",
       "    <tr>\n",
       "      <th>0</th>\n",
       "      <td>0</td>\n",
       "      <td>2019-05-07 02:00:00</td>\n",
       "      <td>NaN</td>\n",
       "      <td>NaN</td>\n",
       "      <td>23.0</td>\n",
       "    </tr>\n",
       "    <tr>\n",
       "      <th>1</th>\n",
       "      <td>1</td>\n",
       "      <td>2019-05-07 03:00:00</td>\n",
       "      <td>50.5</td>\n",
       "      <td>25.0</td>\n",
       "      <td>19.0</td>\n",
       "    </tr>\n",
       "    <tr>\n",
       "      <th>2</th>\n",
       "      <td>2</td>\n",
       "      <td>2019-05-07 04:00:00</td>\n",
       "      <td>45.0</td>\n",
       "      <td>27.7</td>\n",
       "      <td>19.0</td>\n",
       "    </tr>\n",
       "    <tr>\n",
       "      <th>3</th>\n",
       "      <td>3</td>\n",
       "      <td>2019-05-07 05:00:00</td>\n",
       "      <td>NaN</td>\n",
       "      <td>50.4</td>\n",
       "      <td>16.0</td>\n",
       "    </tr>\n",
       "    <tr>\n",
       "      <th>4</th>\n",
       "      <td>4</td>\n",
       "      <td>2019-05-07 06:00:00</td>\n",
       "      <td>NaN</td>\n",
       "      <td>61.9</td>\n",
       "      <td>NaN</td>\n",
       "    </tr>\n",
       "    <tr>\n",
       "      <th>5</th>\n",
       "      <td>5</td>\n",
       "      <td>2019-05-07 07:00:00</td>\n",
       "      <td>NaN</td>\n",
       "      <td>72.4</td>\n",
       "      <td>26.0</td>\n",
       "    </tr>\n",
       "    <tr>\n",
       "      <th>6</th>\n",
       "      <td>6</td>\n",
       "      <td>2019-05-07 08:00:00</td>\n",
       "      <td>NaN</td>\n",
       "      <td>77.7</td>\n",
       "      <td>32.0</td>\n",
       "    </tr>\n",
       "    <tr>\n",
       "      <th>7</th>\n",
       "      <td>7</td>\n",
       "      <td>2019-05-07 09:00:00</td>\n",
       "      <td>NaN</td>\n",
       "      <td>67.9</td>\n",
       "      <td>32.0</td>\n",
       "    </tr>\n",
       "    <tr>\n",
       "      <th>8</th>\n",
       "      <td>8</td>\n",
       "      <td>2019-05-07 10:00:00</td>\n",
       "      <td>NaN</td>\n",
       "      <td>56.0</td>\n",
       "      <td>28.0</td>\n",
       "    </tr>\n",
       "    <tr>\n",
       "      <th>9</th>\n",
       "      <td>9</td>\n",
       "      <td>2019-05-07 11:00:00</td>\n",
       "      <td>NaN</td>\n",
       "      <td>34.5</td>\n",
       "      <td>21.0</td>\n",
       "    </tr>\n",
       "    <tr>\n",
       "      <th>10</th>\n",
       "      <td>10</td>\n",
       "      <td>2019-05-07 12:00:00</td>\n",
       "      <td>NaN</td>\n",
       "      <td>20.1</td>\n",
       "      <td>21.0</td>\n",
       "    </tr>\n",
       "    <tr>\n",
       "      <th>11</th>\n",
       "      <td>11</td>\n",
       "      <td>2019-05-07 13:00:00</td>\n",
       "      <td>NaN</td>\n",
       "      <td>13.0</td>\n",
       "      <td>18.0</td>\n",
       "    </tr>\n",
       "    <tr>\n",
       "      <th>12</th>\n",
       "      <td>12</td>\n",
       "      <td>2019-05-07 14:00:00</td>\n",
       "      <td>NaN</td>\n",
       "      <td>10.6</td>\n",
       "      <td>20.0</td>\n",
       "    </tr>\n",
       "    <tr>\n",
       "      <th>13</th>\n",
       "      <td>13</td>\n",
       "      <td>2019-05-07 15:00:00</td>\n",
       "      <td>NaN</td>\n",
       "      <td>13.2</td>\n",
       "      <td>18.0</td>\n",
       "    </tr>\n",
       "    <tr>\n",
       "      <th>14</th>\n",
       "      <td>14</td>\n",
       "      <td>2019-05-07 16:00:00</td>\n",
       "      <td>NaN</td>\n",
       "      <td>11.0</td>\n",
       "      <td>20.0</td>\n",
       "    </tr>\n",
       "    <tr>\n",
       "      <th>15</th>\n",
       "      <td>15</td>\n",
       "      <td>2019-05-07 17:00:00</td>\n",
       "      <td>NaN</td>\n",
       "      <td>11.7</td>\n",
       "      <td>20.0</td>\n",
       "    </tr>\n",
       "    <tr>\n",
       "      <th>16</th>\n",
       "      <td>16</td>\n",
       "      <td>2019-05-07 18:00:00</td>\n",
       "      <td>NaN</td>\n",
       "      <td>18.2</td>\n",
       "      <td>21.0</td>\n",
       "    </tr>\n",
       "    <tr>\n",
       "      <th>17</th>\n",
       "      <td>17</td>\n",
       "      <td>2019-05-07 19:00:00</td>\n",
       "      <td>NaN</td>\n",
       "      <td>22.3</td>\n",
       "      <td>20.0</td>\n",
       "    </tr>\n",
       "    <tr>\n",
       "      <th>18</th>\n",
       "      <td>18</td>\n",
       "      <td>2019-05-07 20:00:00</td>\n",
       "      <td>NaN</td>\n",
       "      <td>21.4</td>\n",
       "      <td>20.0</td>\n",
       "    </tr>\n",
       "    <tr>\n",
       "      <th>19</th>\n",
       "      <td>19</td>\n",
       "      <td>2019-05-07 21:00:00</td>\n",
       "      <td>NaN</td>\n",
       "      <td>26.8</td>\n",
       "      <td>24.0</td>\n",
       "    </tr>\n",
       "  </tbody>\n",
       "</table>\n",
       "</div>"
      ],
      "text/plain": [
       "    Unnamed: 0             datetime  station_antwerp  station_paris   \n",
       "0            0  2019-05-07 02:00:00              NaN            NaN  \\\n",
       "1            1  2019-05-07 03:00:00             50.5           25.0   \n",
       "2            2  2019-05-07 04:00:00             45.0           27.7   \n",
       "3            3  2019-05-07 05:00:00              NaN           50.4   \n",
       "4            4  2019-05-07 06:00:00              NaN           61.9   \n",
       "5            5  2019-05-07 07:00:00              NaN           72.4   \n",
       "6            6  2019-05-07 08:00:00              NaN           77.7   \n",
       "7            7  2019-05-07 09:00:00              NaN           67.9   \n",
       "8            8  2019-05-07 10:00:00              NaN           56.0   \n",
       "9            9  2019-05-07 11:00:00              NaN           34.5   \n",
       "10          10  2019-05-07 12:00:00              NaN           20.1   \n",
       "11          11  2019-05-07 13:00:00              NaN           13.0   \n",
       "12          12  2019-05-07 14:00:00              NaN           10.6   \n",
       "13          13  2019-05-07 15:00:00              NaN           13.2   \n",
       "14          14  2019-05-07 16:00:00              NaN           11.0   \n",
       "15          15  2019-05-07 17:00:00              NaN           11.7   \n",
       "16          16  2019-05-07 18:00:00              NaN           18.2   \n",
       "17          17  2019-05-07 19:00:00              NaN           22.3   \n",
       "18          18  2019-05-07 20:00:00              NaN           21.4   \n",
       "19          19  2019-05-07 21:00:00              NaN           26.8   \n",
       "\n",
       "    station_london  \n",
       "0             23.0  \n",
       "1             19.0  \n",
       "2             19.0  \n",
       "3             16.0  \n",
       "4              NaN  \n",
       "5             26.0  \n",
       "6             32.0  \n",
       "7             32.0  \n",
       "8             28.0  \n",
       "9             21.0  \n",
       "10            21.0  \n",
       "11            18.0  \n",
       "12            20.0  \n",
       "13            18.0  \n",
       "14            20.0  \n",
       "15            20.0  \n",
       "16            21.0  \n",
       "17            20.0  \n",
       "18            20.0  \n",
       "19            24.0  "
      ]
     },
     "execution_count": 23,
     "metadata": {},
     "output_type": "execute_result"
    }
   ],
   "source": [
    "df.head(20)"
   ]
  },
  {
   "cell_type": "code",
   "execution_count": 24,
   "id": "b867195f",
   "metadata": {},
   "outputs": [
    {
     "data": {
      "text/html": [
       "<div>\n",
       "<style scoped>\n",
       "    .dataframe tbody tr th:only-of-type {\n",
       "        vertical-align: middle;\n",
       "    }\n",
       "\n",
       "    .dataframe tbody tr th {\n",
       "        vertical-align: top;\n",
       "    }\n",
       "\n",
       "    .dataframe thead th {\n",
       "        text-align: right;\n",
       "    }\n",
       "</style>\n",
       "<table border=\"1\" class=\"dataframe\">\n",
       "  <thead>\n",
       "    <tr style=\"text-align: right;\">\n",
       "      <th></th>\n",
       "      <th>Unnamed: 0</th>\n",
       "      <th>datetime</th>\n",
       "      <th>station_antwerp</th>\n",
       "      <th>station_paris</th>\n",
       "      <th>station_london</th>\n",
       "    </tr>\n",
       "  </thead>\n",
       "  <tbody>\n",
       "    <tr>\n",
       "      <th>1020</th>\n",
       "      <td>1020</td>\n",
       "      <td>2019-06-19 00:00:00</td>\n",
       "      <td>NaN</td>\n",
       "      <td>39.3</td>\n",
       "      <td>NaN</td>\n",
       "    </tr>\n",
       "    <tr>\n",
       "      <th>1021</th>\n",
       "      <td>1021</td>\n",
       "      <td>2019-06-19 11:00:00</td>\n",
       "      <td>NaN</td>\n",
       "      <td>27.3</td>\n",
       "      <td>NaN</td>\n",
       "    </tr>\n",
       "    <tr>\n",
       "      <th>1022</th>\n",
       "      <td>1022</td>\n",
       "      <td>2019-06-19 12:00:00</td>\n",
       "      <td>NaN</td>\n",
       "      <td>26.6</td>\n",
       "      <td>NaN</td>\n",
       "    </tr>\n",
       "    <tr>\n",
       "      <th>1023</th>\n",
       "      <td>1023</td>\n",
       "      <td>2019-06-20 15:00:00</td>\n",
       "      <td>NaN</td>\n",
       "      <td>19.4</td>\n",
       "      <td>NaN</td>\n",
       "    </tr>\n",
       "    <tr>\n",
       "      <th>1024</th>\n",
       "      <td>1024</td>\n",
       "      <td>2019-06-20 16:00:00</td>\n",
       "      <td>NaN</td>\n",
       "      <td>20.1</td>\n",
       "      <td>NaN</td>\n",
       "    </tr>\n",
       "    <tr>\n",
       "      <th>1025</th>\n",
       "      <td>1025</td>\n",
       "      <td>2019-06-20 17:00:00</td>\n",
       "      <td>NaN</td>\n",
       "      <td>19.3</td>\n",
       "      <td>NaN</td>\n",
       "    </tr>\n",
       "    <tr>\n",
       "      <th>1026</th>\n",
       "      <td>1026</td>\n",
       "      <td>2019-06-20 18:00:00</td>\n",
       "      <td>NaN</td>\n",
       "      <td>19.0</td>\n",
       "      <td>NaN</td>\n",
       "    </tr>\n",
       "    <tr>\n",
       "      <th>1027</th>\n",
       "      <td>1027</td>\n",
       "      <td>2019-06-20 19:00:00</td>\n",
       "      <td>NaN</td>\n",
       "      <td>23.2</td>\n",
       "      <td>NaN</td>\n",
       "    </tr>\n",
       "    <tr>\n",
       "      <th>1028</th>\n",
       "      <td>1028</td>\n",
       "      <td>2019-06-20 20:00:00</td>\n",
       "      <td>NaN</td>\n",
       "      <td>23.9</td>\n",
       "      <td>NaN</td>\n",
       "    </tr>\n",
       "    <tr>\n",
       "      <th>1029</th>\n",
       "      <td>1029</td>\n",
       "      <td>2019-06-20 21:00:00</td>\n",
       "      <td>NaN</td>\n",
       "      <td>25.3</td>\n",
       "      <td>NaN</td>\n",
       "    </tr>\n",
       "    <tr>\n",
       "      <th>1030</th>\n",
       "      <td>1030</td>\n",
       "      <td>2019-06-20 22:00:00</td>\n",
       "      <td>NaN</td>\n",
       "      <td>21.4</td>\n",
       "      <td>NaN</td>\n",
       "    </tr>\n",
       "    <tr>\n",
       "      <th>1031</th>\n",
       "      <td>1031</td>\n",
       "      <td>2019-06-20 23:00:00</td>\n",
       "      <td>NaN</td>\n",
       "      <td>24.9</td>\n",
       "      <td>NaN</td>\n",
       "    </tr>\n",
       "    <tr>\n",
       "      <th>1032</th>\n",
       "      <td>1032</td>\n",
       "      <td>2019-06-21 00:00:00</td>\n",
       "      <td>NaN</td>\n",
       "      <td>26.5</td>\n",
       "      <td>NaN</td>\n",
       "    </tr>\n",
       "    <tr>\n",
       "      <th>1033</th>\n",
       "      <td>1033</td>\n",
       "      <td>2019-06-21 01:00:00</td>\n",
       "      <td>NaN</td>\n",
       "      <td>21.8</td>\n",
       "      <td>NaN</td>\n",
       "    </tr>\n",
       "    <tr>\n",
       "      <th>1034</th>\n",
       "      <td>1034</td>\n",
       "      <td>2019-06-21 02:00:00</td>\n",
       "      <td>NaN</td>\n",
       "      <td>20.0</td>\n",
       "      <td>NaN</td>\n",
       "    </tr>\n",
       "  </tbody>\n",
       "</table>\n",
       "</div>"
      ],
      "text/plain": [
       "      Unnamed: 0             datetime  station_antwerp  station_paris   \n",
       "1020        1020  2019-06-19 00:00:00              NaN           39.3  \\\n",
       "1021        1021  2019-06-19 11:00:00              NaN           27.3   \n",
       "1022        1022  2019-06-19 12:00:00              NaN           26.6   \n",
       "1023        1023  2019-06-20 15:00:00              NaN           19.4   \n",
       "1024        1024  2019-06-20 16:00:00              NaN           20.1   \n",
       "1025        1025  2019-06-20 17:00:00              NaN           19.3   \n",
       "1026        1026  2019-06-20 18:00:00              NaN           19.0   \n",
       "1027        1027  2019-06-20 19:00:00              NaN           23.2   \n",
       "1028        1028  2019-06-20 20:00:00              NaN           23.9   \n",
       "1029        1029  2019-06-20 21:00:00              NaN           25.3   \n",
       "1030        1030  2019-06-20 22:00:00              NaN           21.4   \n",
       "1031        1031  2019-06-20 23:00:00              NaN           24.9   \n",
       "1032        1032  2019-06-21 00:00:00              NaN           26.5   \n",
       "1033        1033  2019-06-21 01:00:00              NaN           21.8   \n",
       "1034        1034  2019-06-21 02:00:00              NaN           20.0   \n",
       "\n",
       "      station_london  \n",
       "1020             NaN  \n",
       "1021             NaN  \n",
       "1022             NaN  \n",
       "1023             NaN  \n",
       "1024             NaN  \n",
       "1025             NaN  \n",
       "1026             NaN  \n",
       "1027             NaN  \n",
       "1028             NaN  \n",
       "1029             NaN  \n",
       "1030             NaN  \n",
       "1031             NaN  \n",
       "1032             NaN  \n",
       "1033             NaN  \n",
       "1034             NaN  "
      ]
     },
     "execution_count": 24,
     "metadata": {},
     "output_type": "execute_result"
    }
   ],
   "source": [
    "df.tail(15)"
   ]
  },
  {
   "cell_type": "code",
   "execution_count": 25,
   "id": "f50cc2b4",
   "metadata": {},
   "outputs": [
    {
     "name": "stdout",
     "output_type": "stream",
     "text": [
      "<class 'pandas.core.frame.DataFrame'>\n",
      "RangeIndex: 1035 entries, 0 to 1034\n",
      "Data columns (total 5 columns):\n",
      " #   Column           Non-Null Count  Dtype  \n",
      "---  ------           --------------  -----  \n",
      " 0   Unnamed: 0       1035 non-null   int64  \n",
      " 1   datetime         1035 non-null   object \n",
      " 2   station_antwerp  95 non-null     float64\n",
      " 3   station_paris    1004 non-null   float64\n",
      " 4   station_london   969 non-null    float64\n",
      "dtypes: float64(3), int64(1), object(1)\n",
      "memory usage: 40.6+ KB\n"
     ]
    }
   ],
   "source": [
    "df.info()"
   ]
  },
  {
   "cell_type": "code",
   "execution_count": 26,
   "id": "6bc678d1",
   "metadata": {},
   "outputs": [
    {
     "data": {
      "text/html": [
       "<div>\n",
       "<style scoped>\n",
       "    .dataframe tbody tr th:only-of-type {\n",
       "        vertical-align: middle;\n",
       "    }\n",
       "\n",
       "    .dataframe tbody tr th {\n",
       "        vertical-align: top;\n",
       "    }\n",
       "\n",
       "    .dataframe thead th {\n",
       "        text-align: right;\n",
       "    }\n",
       "</style>\n",
       "<table border=\"1\" class=\"dataframe\">\n",
       "  <thead>\n",
       "    <tr style=\"text-align: right;\">\n",
       "      <th></th>\n",
       "      <th>Unnamed: 0</th>\n",
       "      <th>station_antwerp</th>\n",
       "      <th>station_paris</th>\n",
       "      <th>station_london</th>\n",
       "    </tr>\n",
       "  </thead>\n",
       "  <tbody>\n",
       "    <tr>\n",
       "      <th>count</th>\n",
       "      <td>1035.000000</td>\n",
       "      <td>95.000000</td>\n",
       "      <td>1004.000000</td>\n",
       "      <td>969.000000</td>\n",
       "    </tr>\n",
       "    <tr>\n",
       "      <th>mean</th>\n",
       "      <td>517.000000</td>\n",
       "      <td>25.778947</td>\n",
       "      <td>27.740538</td>\n",
       "      <td>24.689370</td>\n",
       "    </tr>\n",
       "    <tr>\n",
       "      <th>std</th>\n",
       "      <td>298.923067</td>\n",
       "      <td>12.682019</td>\n",
       "      <td>15.285746</td>\n",
       "      <td>11.296598</td>\n",
       "    </tr>\n",
       "    <tr>\n",
       "      <th>min</th>\n",
       "      <td>0.000000</td>\n",
       "      <td>7.500000</td>\n",
       "      <td>0.000000</td>\n",
       "      <td>0.000000</td>\n",
       "    </tr>\n",
       "    <tr>\n",
       "      <th>25%</th>\n",
       "      <td>258.500000</td>\n",
       "      <td>16.750000</td>\n",
       "      <td>16.500000</td>\n",
       "      <td>18.000000</td>\n",
       "    </tr>\n",
       "    <tr>\n",
       "      <th>50%</th>\n",
       "      <td>517.000000</td>\n",
       "      <td>23.000000</td>\n",
       "      <td>24.150000</td>\n",
       "      <td>25.000000</td>\n",
       "    </tr>\n",
       "    <tr>\n",
       "      <th>75%</th>\n",
       "      <td>775.500000</td>\n",
       "      <td>34.500000</td>\n",
       "      <td>35.925000</td>\n",
       "      <td>31.000000</td>\n",
       "    </tr>\n",
       "    <tr>\n",
       "      <th>max</th>\n",
       "      <td>1034.000000</td>\n",
       "      <td>74.500000</td>\n",
       "      <td>97.000000</td>\n",
       "      <td>97.000000</td>\n",
       "    </tr>\n",
       "  </tbody>\n",
       "</table>\n",
       "</div>"
      ],
      "text/plain": [
       "        Unnamed: 0  station_antwerp  station_paris  station_london\n",
       "count  1035.000000        95.000000    1004.000000      969.000000\n",
       "mean    517.000000        25.778947      27.740538       24.689370\n",
       "std     298.923067        12.682019      15.285746       11.296598\n",
       "min       0.000000         7.500000       0.000000        0.000000\n",
       "25%     258.500000        16.750000      16.500000       18.000000\n",
       "50%     517.000000        23.000000      24.150000       25.000000\n",
       "75%     775.500000        34.500000      35.925000       31.000000\n",
       "max    1034.000000        74.500000      97.000000       97.000000"
      ]
     },
     "execution_count": 26,
     "metadata": {},
     "output_type": "execute_result"
    }
   ],
   "source": [
    "df.describe()"
   ]
  },
  {
   "cell_type": "code",
   "execution_count": null,
   "id": "a8ca3753",
   "metadata": {},
   "outputs": [],
   "source": [
    "#df.corr()>> ValueError\n",
    "\n",
    "#ValueError: could not convert string to float : '2019-05-07"
   ]
  },
  {
   "cell_type": "markdown",
   "id": "a662d214",
   "metadata": {},
   "source": [
    "# Data Cleaning \n"
   ]
  },
  {
   "cell_type": "markdown",
   "id": "a9e7ec0f",
   "metadata": {},
   "source": [
    "#### Data cleaning means fixing bad data in your data set\n",
    "\n",
    "#### bad data could be :\n",
    "\n",
    "      1: Empty cells\n",
    "      2: Data in wrong format\n",
    "      3: wrong data\n",
    "      4: Duplicates"
   ]
  },
  {
   "cell_type": "markdown",
   "id": "655c0d13",
   "metadata": {},
   "source": [
    "### 1, Cleaning Empty Cells"
   ]
  },
  {
   "cell_type": "markdown",
   "id": "08b1ed0b",
   "metadata": {},
   "source": [
    "Removes Rows that contain empty cell.\n",
    "\n",
    "This Is uaually OK, Since data sets can be very big , And removing a few\n",
    "rows will Not have a big impact on the result"
   ]
  },
  {
   "cell_type": "code",
   "execution_count": 29,
   "id": "f9f5af65",
   "metadata": {},
   "outputs": [],
   "source": [
    "df1 = df.copy()"
   ]
  },
  {
   "cell_type": "code",
   "execution_count": 30,
   "id": "4d5fccfe",
   "metadata": {},
   "outputs": [
    {
     "data": {
      "text/html": [
       "<div>\n",
       "<style scoped>\n",
       "    .dataframe tbody tr th:only-of-type {\n",
       "        vertical-align: middle;\n",
       "    }\n",
       "\n",
       "    .dataframe tbody tr th {\n",
       "        vertical-align: top;\n",
       "    }\n",
       "\n",
       "    .dataframe thead th {\n",
       "        text-align: right;\n",
       "    }\n",
       "</style>\n",
       "<table border=\"1\" class=\"dataframe\">\n",
       "  <thead>\n",
       "    <tr style=\"text-align: right;\">\n",
       "      <th></th>\n",
       "      <th>Unnamed: 0</th>\n",
       "      <th>datetime</th>\n",
       "      <th>station_antwerp</th>\n",
       "      <th>station_paris</th>\n",
       "      <th>station_london</th>\n",
       "    </tr>\n",
       "  </thead>\n",
       "  <tbody>\n",
       "    <tr>\n",
       "      <th>0</th>\n",
       "      <td>0</td>\n",
       "      <td>2019-05-07 02:00:00</td>\n",
       "      <td>NaN</td>\n",
       "      <td>NaN</td>\n",
       "      <td>23.0</td>\n",
       "    </tr>\n",
       "    <tr>\n",
       "      <th>1</th>\n",
       "      <td>1</td>\n",
       "      <td>2019-05-07 03:00:00</td>\n",
       "      <td>50.5</td>\n",
       "      <td>25.0</td>\n",
       "      <td>19.0</td>\n",
       "    </tr>\n",
       "    <tr>\n",
       "      <th>2</th>\n",
       "      <td>2</td>\n",
       "      <td>2019-05-07 04:00:00</td>\n",
       "      <td>45.0</td>\n",
       "      <td>27.7</td>\n",
       "      <td>19.0</td>\n",
       "    </tr>\n",
       "    <tr>\n",
       "      <th>3</th>\n",
       "      <td>3</td>\n",
       "      <td>2019-05-07 05:00:00</td>\n",
       "      <td>NaN</td>\n",
       "      <td>50.4</td>\n",
       "      <td>16.0</td>\n",
       "    </tr>\n",
       "    <tr>\n",
       "      <th>4</th>\n",
       "      <td>4</td>\n",
       "      <td>2019-05-07 06:00:00</td>\n",
       "      <td>NaN</td>\n",
       "      <td>61.9</td>\n",
       "      <td>NaN</td>\n",
       "    </tr>\n",
       "    <tr>\n",
       "      <th>...</th>\n",
       "      <td>...</td>\n",
       "      <td>...</td>\n",
       "      <td>...</td>\n",
       "      <td>...</td>\n",
       "      <td>...</td>\n",
       "    </tr>\n",
       "    <tr>\n",
       "      <th>1030</th>\n",
       "      <td>1030</td>\n",
       "      <td>2019-06-20 22:00:00</td>\n",
       "      <td>NaN</td>\n",
       "      <td>21.4</td>\n",
       "      <td>NaN</td>\n",
       "    </tr>\n",
       "    <tr>\n",
       "      <th>1031</th>\n",
       "      <td>1031</td>\n",
       "      <td>2019-06-20 23:00:00</td>\n",
       "      <td>NaN</td>\n",
       "      <td>24.9</td>\n",
       "      <td>NaN</td>\n",
       "    </tr>\n",
       "    <tr>\n",
       "      <th>1032</th>\n",
       "      <td>1032</td>\n",
       "      <td>2019-06-21 00:00:00</td>\n",
       "      <td>NaN</td>\n",
       "      <td>26.5</td>\n",
       "      <td>NaN</td>\n",
       "    </tr>\n",
       "    <tr>\n",
       "      <th>1033</th>\n",
       "      <td>1033</td>\n",
       "      <td>2019-06-21 01:00:00</td>\n",
       "      <td>NaN</td>\n",
       "      <td>21.8</td>\n",
       "      <td>NaN</td>\n",
       "    </tr>\n",
       "    <tr>\n",
       "      <th>1034</th>\n",
       "      <td>1034</td>\n",
       "      <td>2019-06-21 02:00:00</td>\n",
       "      <td>NaN</td>\n",
       "      <td>20.0</td>\n",
       "      <td>NaN</td>\n",
       "    </tr>\n",
       "  </tbody>\n",
       "</table>\n",
       "<p>1035 rows × 5 columns</p>\n",
       "</div>"
      ],
      "text/plain": [
       "      Unnamed: 0             datetime  station_antwerp  station_paris   \n",
       "0              0  2019-05-07 02:00:00              NaN            NaN  \\\n",
       "1              1  2019-05-07 03:00:00             50.5           25.0   \n",
       "2              2  2019-05-07 04:00:00             45.0           27.7   \n",
       "3              3  2019-05-07 05:00:00              NaN           50.4   \n",
       "4              4  2019-05-07 06:00:00              NaN           61.9   \n",
       "...          ...                  ...              ...            ...   \n",
       "1030        1030  2019-06-20 22:00:00              NaN           21.4   \n",
       "1031        1031  2019-06-20 23:00:00              NaN           24.9   \n",
       "1032        1032  2019-06-21 00:00:00              NaN           26.5   \n",
       "1033        1033  2019-06-21 01:00:00              NaN           21.8   \n",
       "1034        1034  2019-06-21 02:00:00              NaN           20.0   \n",
       "\n",
       "      station_london  \n",
       "0               23.0  \n",
       "1               19.0  \n",
       "2               19.0  \n",
       "3               16.0  \n",
       "4                NaN  \n",
       "...              ...  \n",
       "1030             NaN  \n",
       "1031             NaN  \n",
       "1032             NaN  \n",
       "1033             NaN  \n",
       "1034             NaN  \n",
       "\n",
       "[1035 rows x 5 columns]"
      ]
     },
     "execution_count": 30,
     "metadata": {},
     "output_type": "execute_result"
    }
   ],
   "source": [
    "df1"
   ]
  },
  {
   "cell_type": "code",
   "execution_count": 33,
   "id": "511f0377",
   "metadata": {},
   "outputs": [
    {
     "data": {
      "text/html": [
       "<div>\n",
       "<style scoped>\n",
       "    .dataframe tbody tr th:only-of-type {\n",
       "        vertical-align: middle;\n",
       "    }\n",
       "\n",
       "    .dataframe tbody tr th {\n",
       "        vertical-align: top;\n",
       "    }\n",
       "\n",
       "    .dataframe thead th {\n",
       "        text-align: right;\n",
       "    }\n",
       "</style>\n",
       "<table border=\"1\" class=\"dataframe\">\n",
       "  <thead>\n",
       "    <tr style=\"text-align: right;\">\n",
       "      <th></th>\n",
       "      <th>Unnamed: 0</th>\n",
       "      <th>datetime</th>\n",
       "      <th>station_antwerp</th>\n",
       "      <th>station_paris</th>\n",
       "      <th>station_london</th>\n",
       "    </tr>\n",
       "  </thead>\n",
       "  <tbody>\n",
       "    <tr>\n",
       "      <th>0</th>\n",
       "      <td>0</td>\n",
       "      <td>2019-05-07 02:00:00</td>\n",
       "      <td>NaN</td>\n",
       "      <td>NaN</td>\n",
       "      <td>23.0</td>\n",
       "    </tr>\n",
       "    <tr>\n",
       "      <th>1</th>\n",
       "      <td>1</td>\n",
       "      <td>2019-05-07 03:00:00</td>\n",
       "      <td>50.5</td>\n",
       "      <td>25.0</td>\n",
       "      <td>19.0</td>\n",
       "    </tr>\n",
       "    <tr>\n",
       "      <th>2</th>\n",
       "      <td>2</td>\n",
       "      <td>2019-05-07 04:00:00</td>\n",
       "      <td>45.0</td>\n",
       "      <td>27.7</td>\n",
       "      <td>19.0</td>\n",
       "    </tr>\n",
       "    <tr>\n",
       "      <th>3</th>\n",
       "      <td>3</td>\n",
       "      <td>2019-05-07 05:00:00</td>\n",
       "      <td>NaN</td>\n",
       "      <td>50.4</td>\n",
       "      <td>16.0</td>\n",
       "    </tr>\n",
       "    <tr>\n",
       "      <th>4</th>\n",
       "      <td>4</td>\n",
       "      <td>2019-05-07 06:00:00</td>\n",
       "      <td>NaN</td>\n",
       "      <td>61.9</td>\n",
       "      <td>NaN</td>\n",
       "    </tr>\n",
       "  </tbody>\n",
       "</table>\n",
       "</div>"
      ],
      "text/plain": [
       "   Unnamed: 0             datetime  station_antwerp  station_paris   \n",
       "0           0  2019-05-07 02:00:00              NaN            NaN  \\\n",
       "1           1  2019-05-07 03:00:00             50.5           25.0   \n",
       "2           2  2019-05-07 04:00:00             45.0           27.7   \n",
       "3           3  2019-05-07 05:00:00              NaN           50.4   \n",
       "4           4  2019-05-07 06:00:00              NaN           61.9   \n",
       "\n",
       "   station_london  \n",
       "0            23.0  \n",
       "1            19.0  \n",
       "2            19.0  \n",
       "3            16.0  \n",
       "4             NaN  "
      ]
     },
     "execution_count": 33,
     "metadata": {},
     "output_type": "execute_result"
    }
   ],
   "source": [
    "df1.head()"
   ]
  },
  {
   "cell_type": "code",
   "execution_count": 34,
   "id": "4ea9b6e8",
   "metadata": {},
   "outputs": [
    {
     "data": {
      "text/html": [
       "<div>\n",
       "<style scoped>\n",
       "    .dataframe tbody tr th:only-of-type {\n",
       "        vertical-align: middle;\n",
       "    }\n",
       "\n",
       "    .dataframe tbody tr th {\n",
       "        vertical-align: top;\n",
       "    }\n",
       "\n",
       "    .dataframe thead th {\n",
       "        text-align: right;\n",
       "    }\n",
       "</style>\n",
       "<table border=\"1\" class=\"dataframe\">\n",
       "  <thead>\n",
       "    <tr style=\"text-align: right;\">\n",
       "      <th></th>\n",
       "      <th>Unnamed: 0</th>\n",
       "      <th>datetime</th>\n",
       "      <th>station_antwerp</th>\n",
       "      <th>station_paris</th>\n",
       "      <th>station_london</th>\n",
       "    </tr>\n",
       "  </thead>\n",
       "  <tbody>\n",
       "    <tr>\n",
       "      <th>0</th>\n",
       "      <td>False</td>\n",
       "      <td>False</td>\n",
       "      <td>True</td>\n",
       "      <td>True</td>\n",
       "      <td>False</td>\n",
       "    </tr>\n",
       "    <tr>\n",
       "      <th>1</th>\n",
       "      <td>False</td>\n",
       "      <td>False</td>\n",
       "      <td>False</td>\n",
       "      <td>False</td>\n",
       "      <td>False</td>\n",
       "    </tr>\n",
       "    <tr>\n",
       "      <th>2</th>\n",
       "      <td>False</td>\n",
       "      <td>False</td>\n",
       "      <td>False</td>\n",
       "      <td>False</td>\n",
       "      <td>False</td>\n",
       "    </tr>\n",
       "    <tr>\n",
       "      <th>3</th>\n",
       "      <td>False</td>\n",
       "      <td>False</td>\n",
       "      <td>True</td>\n",
       "      <td>False</td>\n",
       "      <td>False</td>\n",
       "    </tr>\n",
       "    <tr>\n",
       "      <th>4</th>\n",
       "      <td>False</td>\n",
       "      <td>False</td>\n",
       "      <td>True</td>\n",
       "      <td>False</td>\n",
       "      <td>True</td>\n",
       "    </tr>\n",
       "    <tr>\n",
       "      <th>...</th>\n",
       "      <td>...</td>\n",
       "      <td>...</td>\n",
       "      <td>...</td>\n",
       "      <td>...</td>\n",
       "      <td>...</td>\n",
       "    </tr>\n",
       "    <tr>\n",
       "      <th>1030</th>\n",
       "      <td>False</td>\n",
       "      <td>False</td>\n",
       "      <td>True</td>\n",
       "      <td>False</td>\n",
       "      <td>True</td>\n",
       "    </tr>\n",
       "    <tr>\n",
       "      <th>1031</th>\n",
       "      <td>False</td>\n",
       "      <td>False</td>\n",
       "      <td>True</td>\n",
       "      <td>False</td>\n",
       "      <td>True</td>\n",
       "    </tr>\n",
       "    <tr>\n",
       "      <th>1032</th>\n",
       "      <td>False</td>\n",
       "      <td>False</td>\n",
       "      <td>True</td>\n",
       "      <td>False</td>\n",
       "      <td>True</td>\n",
       "    </tr>\n",
       "    <tr>\n",
       "      <th>1033</th>\n",
       "      <td>False</td>\n",
       "      <td>False</td>\n",
       "      <td>True</td>\n",
       "      <td>False</td>\n",
       "      <td>True</td>\n",
       "    </tr>\n",
       "    <tr>\n",
       "      <th>1034</th>\n",
       "      <td>False</td>\n",
       "      <td>False</td>\n",
       "      <td>True</td>\n",
       "      <td>False</td>\n",
       "      <td>True</td>\n",
       "    </tr>\n",
       "  </tbody>\n",
       "</table>\n",
       "<p>1035 rows × 5 columns</p>\n",
       "</div>"
      ],
      "text/plain": [
       "      Unnamed: 0  datetime  station_antwerp  station_paris  station_london\n",
       "0          False     False             True           True           False\n",
       "1          False     False            False          False           False\n",
       "2          False     False            False          False           False\n",
       "3          False     False             True          False           False\n",
       "4          False     False             True          False            True\n",
       "...          ...       ...              ...            ...             ...\n",
       "1030       False     False             True          False            True\n",
       "1031       False     False             True          False            True\n",
       "1032       False     False             True          False            True\n",
       "1033       False     False             True          False            True\n",
       "1034       False     False             True          False            True\n",
       "\n",
       "[1035 rows x 5 columns]"
      ]
     },
     "execution_count": 34,
     "metadata": {},
     "output_type": "execute_result"
    }
   ],
   "source": [
    "df1.isnull()"
   ]
  },
  {
   "cell_type": "code",
   "execution_count": 35,
   "id": "4587795e",
   "metadata": {},
   "outputs": [
    {
     "data": {
      "text/plain": [
       "1035"
      ]
     },
     "execution_count": 35,
     "metadata": {},
     "output_type": "execute_result"
    }
   ],
   "source": [
    "len(df1)"
   ]
  },
  {
   "cell_type": "code",
   "execution_count": 36,
   "id": "14c51c17",
   "metadata": {},
   "outputs": [
    {
     "data": {
      "text/plain": [
       "95"
      ]
     },
     "execution_count": 36,
     "metadata": {},
     "output_type": "execute_result"
    }
   ],
   "source": [
    "1035-940"
   ]
  },
  {
   "cell_type": "code",
   "execution_count": null,
   "id": "f1e52b2b",
   "metadata": {},
   "outputs": [],
   "source": []
  }
 ],
 "metadata": {
  "kernelspec": {
   "display_name": "Python 3 (ipykernel)",
   "language": "python",
   "name": "python3"
  },
  "language_info": {
   "codemirror_mode": {
    "name": "ipython",
    "version": 3
   },
   "file_extension": ".py",
   "mimetype": "text/x-python",
   "name": "python",
   "nbconvert_exporter": "python",
   "pygments_lexer": "ipython3",
   "version": "3.11.2"
  }
 },
 "nbformat": 4,
 "nbformat_minor": 5
}
